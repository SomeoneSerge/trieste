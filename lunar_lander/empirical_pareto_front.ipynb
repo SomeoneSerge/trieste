{
 "cells": [
  {
   "cell_type": "code",
   "execution_count": 1,
   "id": "336a4201",
   "metadata": {},
   "outputs": [
    {
     "name": "stderr",
     "output_type": "stream",
     "text": [
      "2021-12-03 14:14:29.046539: W tensorflow/stream_executor/platform/default/dso_loader.cc:64] Could not load dynamic library 'libcudart.so.11.0'; dlerror: libcudart.so.11.0: cannot open shared object file: No such file or directory\n",
      "2021-12-03 14:14:29.046557: I tensorflow/stream_executor/cuda/cudart_stub.cc:29] Ignore above cudart dlerror if you do not have a GPU set up on your machine.\n",
      "2021-12-03 14:14:30.166876: I tensorflow/stream_executor/platform/default/dso_loader.cc:53] Successfully opened dynamic library libcuda.so.1\n",
      "2021-12-03 14:14:30.187869: I tensorflow/stream_executor/cuda/cuda_gpu_executor.cc:937] successful NUMA node read from SysFS had negative value (-1), but there must be at least one NUMA node, so returning NUMA node zero\n",
      "2021-12-03 14:14:30.188133: I tensorflow/core/common_runtime/gpu/gpu_device.cc:1733] Found device 0 with properties: \n",
      "pciBusID: 0000:01:00.0 name: GeForce GTX 1070 computeCapability: 6.1\n",
      "coreClock: 1.683GHz coreCount: 15 deviceMemorySize: 7.93GiB deviceMemoryBandwidth: 238.66GiB/s\n",
      "2021-12-03 14:14:30.188198: W tensorflow/stream_executor/platform/default/dso_loader.cc:64] Could not load dynamic library 'libcudart.so.11.0'; dlerror: libcudart.so.11.0: cannot open shared object file: No such file or directory\n",
      "2021-12-03 14:14:30.188241: W tensorflow/stream_executor/platform/default/dso_loader.cc:64] Could not load dynamic library 'libcublas.so.11'; dlerror: libcublas.so.11: cannot open shared object file: No such file or directory\n",
      "2021-12-03 14:14:30.188280: W tensorflow/stream_executor/platform/default/dso_loader.cc:64] Could not load dynamic library 'libcublasLt.so.11'; dlerror: libcublasLt.so.11: cannot open shared object file: No such file or directory\n",
      "2021-12-03 14:14:30.188320: W tensorflow/stream_executor/platform/default/dso_loader.cc:64] Could not load dynamic library 'libcufft.so.10'; dlerror: libcufft.so.10: cannot open shared object file: No such file or directory\n",
      "2021-12-03 14:14:30.188360: W tensorflow/stream_executor/platform/default/dso_loader.cc:64] Could not load dynamic library 'libcurand.so.10'; dlerror: libcurand.so.10: cannot open shared object file: No such file or directory\n",
      "2021-12-03 14:14:30.188399: W tensorflow/stream_executor/platform/default/dso_loader.cc:64] Could not load dynamic library 'libcusolver.so.11'; dlerror: libcusolver.so.11: cannot open shared object file: No such file or directory\n",
      "2021-12-03 14:14:30.188437: W tensorflow/stream_executor/platform/default/dso_loader.cc:64] Could not load dynamic library 'libcusparse.so.11'; dlerror: libcusparse.so.11: cannot open shared object file: No such file or directory\n",
      "2021-12-03 14:14:30.188548: I tensorflow/stream_executor/platform/default/dso_loader.cc:53] Successfully opened dynamic library libcudnn.so.8\n",
      "2021-12-03 14:14:30.188556: W tensorflow/core/common_runtime/gpu/gpu_device.cc:1766] Cannot dlopen some GPU libraries. Please make sure the missing libraries mentioned above are installed properly if you would like to use GPU. Follow the guide at https://www.tensorflow.org/install/gpu for how to download and setup the required libraries for your platform.\n",
      "Skipping registering GPU devices...\n",
      "2021-12-03 14:14:30.188908: I tensorflow/core/platform/cpu_feature_guard.cc:142] This TensorFlow binary is optimized with oneAPI Deep Neural Network Library (oneDNN) to use the following CPU instructions in performance-critical operations:  AVX2 FMA\n",
      "To enable them in other operations, rebuild TensorFlow with the appropriate compiler flags.\n",
      "2021-12-03 14:14:30.189148: I tensorflow/core/common_runtime/gpu/gpu_device.cc:1258] Device interconnect StreamExecutor with strength 1 edge matrix:\n",
      "2021-12-03 14:14:30.189156: I tensorflow/core/common_runtime/gpu/gpu_device.cc:1264]      \n"
     ]
    }
   ],
   "source": [
    "import numpy as np\n",
    "\n",
    "import lunar_lander\n",
    "from turbo_test import demo_heuristic_lander\n",
    "import tensorflow as tf\n",
    "import tensorflow_probability as tfp\n",
    "import trieste\n",
    "\n",
    "import timeit"
   ]
  },
  {
   "cell_type": "code",
   "execution_count": 2,
   "id": "29737136",
   "metadata": {},
   "outputs": [],
   "source": [
    "# this space is created by going approximately +-0.2 around parameter values, but not going below 0\n",
    "# see for original values https://github.com/openai/gym/blob/master/gym/envs/box2d/lunar_lander.py\n",
    "# original values are\n",
    "# 0.5 1 0.4 0.55 0.5 1 0.5 0.5 0 0.5 0.05 0.05\n",
    "# and for parameter definition https://github.com/uber-research/TuRBO\n",
    "search_space = trieste.space.Box(\n",
    "    [0.3, 0.8, 0.2, 0.35, 0.3, 0.8, 0.3, 0.3, 0.0, 0.3, 0.0,  0.0],\n",
    "    [0.7, 1.2, 0.6, 0.75, 0.7, 1.2, 0.7, 0.7, 0.2, 0.7, 0.25, 0.25]\n",
    ")"
   ]
  },
  {
   "cell_type": "code",
   "execution_count": 3,
   "id": "904af0df",
   "metadata": {},
   "outputs": [],
   "source": [
    "OBJECTIVE = trieste.observer.OBJECTIVE\n",
    "# lander crashed or timed out\n",
    "FAILURE = \"FAILURE\"\n",
    "\n",
    "create_empty_dataset = lambda : trieste.data.Dataset(\n",
    "                                    tf.zeros((0, search_space.dimension), tf.float64),\n",
    "                                    tf.zeros((0, 1), tf.float64)\n",
    "                                )\n",
    "\n",
    "def lander_observer(x):\n",
    "    all_datasets = {\n",
    "        OBJECTIVE: create_empty_dataset(),\n",
    "        FAILURE: create_empty_dataset()\n",
    "    }\n",
    "\n",
    "    def add_data(dataset_tag, x, y):\n",
    "        new_dataset = trieste.data.Dataset(np.atleast_2d(x), np.atleast_2d(y))\n",
    "        all_datasets[dataset_tag] += new_dataset\n",
    "\n",
    "    for w in x.numpy():\n",
    "        result = demo_heuristic_lander(lunar_lander.LunarLander(), w)\n",
    "        if result.timeout or result.has_crashed:\n",
    "            add_data(FAILURE, w, 0.0)\n",
    "            continue\n",
    "        else:\n",
    "            add_data(FAILURE, w, 1.0)\n",
    "\n",
    "        normalized_fuel = np.float64(result.total_fuel / 100.0)\n",
    "        add_data(OBJECTIVE, w, normalized_fuel)\n",
    "    \n",
    "    return all_datasets"
   ]
  },
  {
   "cell_type": "code",
   "execution_count": 4,
   "id": "29e90e8c",
   "metadata": {},
   "outputs": [
    {
     "name": "stdout",
     "output_type": "stream",
     "text": [
      "DemoHeuristicResult: reward: -63.77, fuel: 14.61, steps: 91.0, crashed: True, timeout: False, is_in_helipad: False, success: False\n",
      "DemoHeuristicResult: reward: 289.82, fuel: 30.21, steps: 256.0, crashed: False, timeout: False, is_in_helipad: True, success: True\n",
      "DemoHeuristicResult: reward: 274.44, fuel: 32.70, steps: 436.0, crashed: False, timeout: False, is_in_helipad: True, success: True\n",
      "DemoHeuristicResult: reward: 20.55, fuel: 15.69, steps: 102.0, crashed: True, timeout: False, is_in_helipad: True, success: False\n",
      "DemoHeuristicResult: reward: 201.28, fuel: 44.94, steps: 406.0, crashed: False, timeout: False, is_in_helipad: False, success: False\n",
      "DemoHeuristicResult: reward: 76.92, fuel: 31.80, steps: 159.0, crashed: True, timeout: False, is_in_helipad: True, success: False\n",
      "DemoHeuristicResult: reward: 22.17, fuel: 12.18, steps: 104.0, crashed: True, timeout: False, is_in_helipad: True, success: False\n",
      "DemoHeuristicResult: reward: -43.13, fuel: 10.62, steps: 84.0, crashed: True, timeout: False, is_in_helipad: True, success: False\n",
      "DemoHeuristicResult: reward: -40.11, fuel: 6.60, steps: 79.0, crashed: True, timeout: False, is_in_helipad: True, success: False\n",
      "DemoHeuristicResult: reward: 11.04, fuel: 19.92, steps: 142.0, crashed: True, timeout: False, is_in_helipad: False, success: False\n",
      "DemoHeuristicResult: reward: -38.86, fuel: 7.32, steps: 79.0, crashed: True, timeout: False, is_in_helipad: False, success: False\n",
      "DemoHeuristicResult: reward: -21.85, fuel: 11.73, steps: 108.0, crashed: True, timeout: False, is_in_helipad: False, success: False\n",
      "DemoHeuristicResult: reward: 260.51, fuel: 23.64, steps: 217.0, crashed: False, timeout: False, is_in_helipad: True, success: True\n",
      "DemoHeuristicResult: reward: 233.80, fuel: 29.79, steps: 321.0, crashed: False, timeout: False, is_in_helipad: False, success: False\n",
      "DemoHeuristicResult: reward: 246.42, fuel: 27.78, steps: 200.0, crashed: False, timeout: False, is_in_helipad: False, success: False\n",
      "DemoHeuristicResult: reward: 0.60, fuel: 9.30, steps: 91.0, crashed: True, timeout: False, is_in_helipad: True, success: False\n",
      "DemoHeuristicResult: reward: -99.35, fuel: 6.69, steps: 97.0, crashed: True, timeout: False, is_in_helipad: False, success: False\n",
      "DemoHeuristicResult: reward: 5.75, fuel: 6.90, steps: 97.0, crashed: True, timeout: False, is_in_helipad: True, success: False\n",
      "DemoHeuristicResult: reward: -52.29, fuel: 7.80, steps: 81.0, crashed: True, timeout: False, is_in_helipad: True, success: False\n",
      "DemoHeuristicResult: reward: 234.13, fuel: 51.39, steps: 625.0, crashed: False, timeout: False, is_in_helipad: False, success: False\n",
      "DemoHeuristicResult: reward: 47.54, fuel: 17.82, steps: 103.0, crashed: True, timeout: False, is_in_helipad: True, success: False\n",
      "DemoHeuristicResult: reward: 213.75, fuel: 39.03, steps: 380.0, crashed: False, timeout: False, is_in_helipad: False, success: False\n",
      "DemoHeuristicResult: reward: 8.77, fuel: 14.22, steps: 103.0, crashed: True, timeout: False, is_in_helipad: False, success: False\n",
      "DemoHeuristicResult: reward: -173.28, fuel: 24.78, steps: 148.0, crashed: True, timeout: False, is_in_helipad: False, success: False\n",
      "DemoHeuristicResult: reward: 22.60, fuel: 145.65, steps: 1001.0, crashed: False, timeout: True, is_in_helipad: False, success: False\n",
      "DemoHeuristicResult: reward: 20.25, fuel: 12.60, steps: 74.0, crashed: True, timeout: False, is_in_helipad: True, success: False\n",
      "DemoHeuristicResult: reward: -65.36, fuel: 13.95, steps: 87.0, crashed: True, timeout: False, is_in_helipad: False, success: False\n",
      "DemoHeuristicResult: reward: -20.77, fuel: 10.98, steps: 91.0, crashed: True, timeout: False, is_in_helipad: False, success: False\n",
      "DemoHeuristicResult: reward: 5.45, fuel: 8.76, steps: 99.0, crashed: True, timeout: False, is_in_helipad: False, success: False\n",
      "DemoHeuristicResult: reward: -57.19, fuel: 16.17, steps: 116.0, crashed: True, timeout: False, is_in_helipad: False, success: False\n",
      "DemoHeuristicResult: reward: 259.75, fuel: 22.44, steps: 208.0, crashed: False, timeout: False, is_in_helipad: True, success: True\n",
      "DemoHeuristicResult: reward: 22.14, fuel: 10.83, steps: 69.0, crashed: True, timeout: False, is_in_helipad: True, success: False\n",
      "DemoHeuristicResult: reward: 199.49, fuel: 21.09, steps: 286.0, crashed: False, timeout: False, is_in_helipad: False, success: False\n",
      "DemoHeuristicResult: reward: -46.06, fuel: 6.72, steps: 64.0, crashed: True, timeout: False, is_in_helipad: False, success: False\n",
      "DemoHeuristicResult: reward: -56.09, fuel: 6.06, steps: 81.0, crashed: True, timeout: False, is_in_helipad: False, success: False\n",
      "DemoHeuristicResult: reward: -21.19, fuel: 9.66, steps: 108.0, crashed: True, timeout: False, is_in_helipad: False, success: False\n",
      "DemoHeuristicResult: reward: 168.34, fuel: 25.29, steps: 303.0, crashed: False, timeout: False, is_in_helipad: False, success: False\n",
      "DemoHeuristicResult: reward: -23.51, fuel: 8.88, steps: 99.0, crashed: True, timeout: False, is_in_helipad: False, success: False\n",
      "DemoHeuristicResult: reward: -5.37, fuel: 14.34, steps: 103.0, crashed: True, timeout: False, is_in_helipad: False, success: False\n",
      "DemoHeuristicResult: reward: 20.95, fuel: 13.59, steps: 88.0, crashed: True, timeout: False, is_in_helipad: False, success: False\n",
      "DemoHeuristicResult: reward: -24.54, fuel: 5.73, steps: 89.0, crashed: True, timeout: False, is_in_helipad: True, success: False\n",
      "DemoHeuristicResult: reward: 58.01, fuel: 17.82, steps: 110.0, crashed: True, timeout: False, is_in_helipad: True, success: False\n",
      "DemoHeuristicResult: reward: 42.37, fuel: 13.83, steps: 79.0, crashed: True, timeout: False, is_in_helipad: True, success: False\n",
      "DemoHeuristicResult: reward: -49.68, fuel: 6.63, steps: 68.0, crashed: True, timeout: False, is_in_helipad: False, success: False\n",
      "DemoHeuristicResult: reward: 24.43, fuel: 13.26, steps: 75.0, crashed: True, timeout: False, is_in_helipad: True, success: False\n",
      "DemoHeuristicResult: reward: -23.44, fuel: 17.64, steps: 107.0, crashed: True, timeout: False, is_in_helipad: False, success: False\n",
      "DemoHeuristicResult: reward: 155.85, fuel: 61.50, steps: 1001.0, crashed: False, timeout: True, is_in_helipad: False, success: False\n",
      "DemoHeuristicResult: reward: 19.85, fuel: 14.91, steps: 120.0, crashed: True, timeout: False, is_in_helipad: False, success: False\n",
      "DemoHeuristicResult: reward: 14.20, fuel: 23.91, steps: 177.0, crashed: True, timeout: False, is_in_helipad: True, success: False\n",
      "DemoHeuristicResult: reward: 273.16, fuel: 24.93, steps: 215.0, crashed: False, timeout: False, is_in_helipad: True, success: True\n"
     ]
    }
   ],
   "source": [
    "num_initial_points = 1\n",
    "initial_query_points = search_space.sample(1)\n",
    "initial_data = lander_observer(initial_query_points)\n",
    "\n",
    "# collect points until we have at least one in each dataset\n",
    "while any(len(initial_data[tag]) < search_space.dimension for tag in initial_data):\n",
    "    initial_query_points = search_space.sample(1)\n",
    "    new_initial_data = lander_observer(initial_query_points)\n",
    "    for tag in initial_data:\n",
    "        initial_data[tag] = initial_data[tag] + new_initial_data[tag]\n",
    "    num_initial_points += 1"
   ]
  },
  {
   "cell_type": "code",
   "execution_count": 5,
   "id": "b30d0498",
   "metadata": {},
   "outputs": [
    {
     "name": "stdout",
     "output_type": "stream",
     "text": [
      "12\n",
      "50\n"
     ]
    }
   ],
   "source": [
    "print(len(initial_data[OBJECTIVE]))\n",
    "print(len(initial_data[FAILURE]))"
   ]
  },
  {
   "cell_type": "code",
   "execution_count": 6,
   "id": "74b85a3e",
   "metadata": {},
   "outputs": [],
   "source": [
    "import gpflow\n",
    "\n",
    "\n",
    "def create_regression_model(data):\n",
    "    variance = tf.math.reduce_variance(data.observations)\n",
    "    kernel = gpflow.kernels.Matern52(variance, lengthscales=[0.2]*int(search_space.dimension))\n",
    "    scale = tf.constant(1.0, dtype=tf.float64)\n",
    "    kernel.variance.prior = tfp.distributions.LogNormal(\n",
    "        tf.constant(-2.0, dtype=tf.float64), scale\n",
    "    )\n",
    "    kernel.lengthscales.prior = tfp.distributions.LogNormal(\n",
    "        tf.math.log(kernel.lengthscales), scale\n",
    "    )\n",
    "    gpr = gpflow.models.GPR(data.astuple(), kernel)\n",
    "    return gpr\n",
    "\n",
    "\n",
    "def create_classification_model(data):\n",
    "    kernel = gpflow.kernels.SquaredExponential(\n",
    "        lengthscales=[0.2]*int(search_space.dimension)\n",
    "    )\n",
    "    likelihood = gpflow.likelihoods.Bernoulli()\n",
    "    vgp = gpflow.models.VGP(data.astuple(), kernel, likelihood)\n",
    "    return vgp\n",
    "\n",
    "from trieste.models.gpflow import GPflowModelConfig\n",
    "\n",
    "classification_model_config_args = {\n",
    "    \"model_args\": {\"use_natgrads\": True},\n",
    "    \"optimizer\": tf.optimizers.Adam(1e-3),\n",
    "    \"optimizer_args\": {\"max_iter\": 50},\n",
    "}\n",
    "models = {\n",
    "    OBJECTIVE: GPflowModelConfig(**{\n",
    "        \"model\": create_regression_model(initial_data[OBJECTIVE]),\n",
    "        \"optimizer\": gpflow.optimizers.Scipy(),\n",
    "    }),\n",
    "    FAILURE: GPflowModelConfig(\n",
    "        create_classification_model(initial_data[FAILURE]),\n",
    "        **classification_model_config_args\n",
    "    )\n",
    "}"
   ]
  },
  {
   "cell_type": "code",
   "execution_count": 7,
   "id": "9d308523",
   "metadata": {},
   "outputs": [],
   "source": [
    "from trieste.acquisition.rule import EfficientGlobalOptimization\n",
    "from trieste.acquisition import (\n",
    "    SingleModelAcquisitionBuilder\n",
    ")\n",
    "from hacks import HackedExpectedConstrainedImprovement, HackedLocalPenalizationAcquisitionFunction\n",
    "\n",
    "BATCH_SIZE = 10\n",
    "ITERATIONS = 10\n",
    "\n",
    "class ProbabilityOfValidity(SingleModelAcquisitionBuilder):\n",
    "    def prepare_acquisition_function(self, model, dataset=None):\n",
    "        def acquisition(at):\n",
    "            mean, _ = model.predict_y(tf.squeeze(at, -2))\n",
    "            return mean\n",
    "        return acquisition\n",
    "\n",
    "pov = ProbabilityOfValidity().using(FAILURE)\n",
    "eci = HackedExpectedConstrainedImprovement(\n",
    "    OBJECTIVE, pov, min_feasibility_probability = 0.0\n",
    ")\n",
    "lp = HackedLocalPenalizationAcquisitionFunction(search_space, base_acquisition_function_builder=eci)\n",
    "rule = EfficientGlobalOptimization(lp, num_query_points=BATCH_SIZE)"
   ]
  },
  {
   "cell_type": "code",
   "execution_count": 8,
   "id": "be009d8c",
   "metadata": {},
   "outputs": [
    {
     "name": "stderr",
     "output_type": "stream",
     "text": [
      "2021-12-03 14:14:34.083979: W tensorflow/python/util/util.cc:348] Sets are not currently considered sequences, but this may change in the future, so consider avoiding using them.\n",
      "2021-12-03 14:14:35.078602: I tensorflow/compiler/mlir/mlir_graph_optimization_pass.cc:176] None of the MLIR Optimization Passes are enabled (registered 2)\n",
      "2021-12-03 14:14:35.099460: I tensorflow/core/platform/profile_utils/cpu_utils.cc:114] CPU Frequency: 3600000000 Hz\n"
     ]
    },
    {
     "name": "stdout",
     "output_type": "stream",
     "text": [
      "DemoHeuristicResult: reward: 237.69, fuel: 41.40, steps: 306.0, crashed: False, timeout: False, is_in_helipad: True, success: True\n",
      "DemoHeuristicResult: reward: 266.90, fuel: 37.80, steps: 224.0, crashed: False, timeout: False, is_in_helipad: True, success: True\n",
      "DemoHeuristicResult: reward: -29.89, fuel: 36.45, steps: 230.0, crashed: True, timeout: False, is_in_helipad: False, success: False\n",
      "DemoHeuristicResult: reward: -31.07, fuel: 12.27, steps: 94.0, crashed: True, timeout: False, is_in_helipad: False, success: False\n",
      "DemoHeuristicResult: reward: -103.41, fuel: 20.58, steps: 140.0, crashed: True, timeout: False, is_in_helipad: False, success: False\n",
      "DemoHeuristicResult: reward: -53.98, fuel: 8.22, steps: 95.0, crashed: True, timeout: False, is_in_helipad: False, success: False\n",
      "DemoHeuristicResult: reward: -109.17, fuel: 28.83, steps: 148.0, crashed: True, timeout: False, is_in_helipad: False, success: False\n",
      "DemoHeuristicResult: reward: -48.23, fuel: 9.57, steps: 85.0, crashed: True, timeout: False, is_in_helipad: True, success: False\n",
      "DemoHeuristicResult: reward: -235.13, fuel: 12.42, steps: 94.0, crashed: True, timeout: False, is_in_helipad: False, success: False\n",
      "DemoHeuristicResult: reward: -150.82, fuel: 34.08, steps: 182.0, crashed: True, timeout: False, is_in_helipad: False, success: False\n",
      "DemoHeuristicResult: reward: 246.57, fuel: 48.54, steps: 300.0, crashed: False, timeout: False, is_in_helipad: True, success: True\n",
      "DemoHeuristicResult: reward: 37.12, fuel: 161.19, steps: 1001.0, crashed: False, timeout: True, is_in_helipad: False, success: False\n",
      "DemoHeuristicResult: reward: 264.66, fuel: 40.98, steps: 264.0, crashed: False, timeout: False, is_in_helipad: True, success: True\n",
      "DemoHeuristicResult: reward: 255.46, fuel: 25.47, steps: 242.0, crashed: False, timeout: False, is_in_helipad: False, success: False\n",
      "DemoHeuristicResult: reward: -119.89, fuel: 7.05, steps: 73.0, crashed: True, timeout: False, is_in_helipad: False, success: False\n",
      "DemoHeuristicResult: reward: -202.74, fuel: 33.00, steps: 178.0, crashed: True, timeout: False, is_in_helipad: False, success: False\n",
      "DemoHeuristicResult: reward: 30.86, fuel: 23.13, steps: 122.0, crashed: True, timeout: False, is_in_helipad: True, success: False\n",
      "DemoHeuristicResult: reward: -116.41, fuel: 21.09, steps: 140.0, crashed: True, timeout: False, is_in_helipad: False, success: False\n",
      "DemoHeuristicResult: reward: -44.54, fuel: 8.31, steps: 61.0, crashed: True, timeout: False, is_in_helipad: False, success: False\n",
      "DemoHeuristicResult: reward: -240.85, fuel: 18.00, steps: 129.0, crashed: True, timeout: False, is_in_helipad: False, success: False\n",
      "DemoHeuristicResult: reward: 34.26, fuel: 18.78, steps: 113.0, crashed: True, timeout: False, is_in_helipad: True, success: False\n",
      "DemoHeuristicResult: reward: -57.16, fuel: 7.92, steps: 66.0, crashed: True, timeout: False, is_in_helipad: True, success: False\n",
      "DemoHeuristicResult: reward: -118.29, fuel: 19.68, steps: 137.0, crashed: True, timeout: False, is_in_helipad: False, success: False\n",
      "DemoHeuristicResult: reward: -106.22, fuel: 20.94, steps: 136.0, crashed: True, timeout: False, is_in_helipad: False, success: False\n",
      "DemoHeuristicResult: reward: -118.35, fuel: 20.82, steps: 120.0, crashed: True, timeout: False, is_in_helipad: False, success: False\n",
      "DemoHeuristicResult: reward: -3.87, fuel: 18.12, steps: 123.0, crashed: True, timeout: False, is_in_helipad: True, success: False\n",
      "DemoHeuristicResult: reward: 27.63, fuel: 21.24, steps: 138.0, crashed: True, timeout: False, is_in_helipad: True, success: False\n",
      "DemoHeuristicResult: reward: -18.52, fuel: 8.70, steps: 65.0, crashed: True, timeout: False, is_in_helipad: True, success: False\n",
      "DemoHeuristicResult: reward: 36.80, fuel: 20.58, steps: 128.0, crashed: True, timeout: False, is_in_helipad: True, success: False\n",
      "DemoHeuristicResult: reward: -8.48, fuel: 7.20, steps: 64.0, crashed: True, timeout: False, is_in_helipad: True, success: False\n",
      "DemoHeuristicResult: reward: 56.19, fuel: 22.86, steps: 119.0, crashed: True, timeout: False, is_in_helipad: True, success: False\n",
      "DemoHeuristicResult: reward: -68.15, fuel: 9.33, steps: 77.0, crashed: True, timeout: False, is_in_helipad: False, success: False\n",
      "DemoHeuristicResult: reward: -57.85, fuel: 6.60, steps: 67.0, crashed: True, timeout: False, is_in_helipad: True, success: False\n",
      "DemoHeuristicResult: reward: 9.15, fuel: 20.70, steps: 128.0, crashed: True, timeout: False, is_in_helipad: True, success: False\n",
      "DemoHeuristicResult: reward: -21.24, fuel: 9.75, steps: 91.0, crashed: True, timeout: False, is_in_helipad: True, success: False\n",
      "DemoHeuristicResult: reward: -247.70, fuel: 15.69, steps: 98.0, crashed: True, timeout: False, is_in_helipad: False, success: False\n",
      "DemoHeuristicResult: reward: -6.24, fuel: 14.34, steps: 109.0, crashed: True, timeout: False, is_in_helipad: True, success: False\n",
      "DemoHeuristicResult: reward: -27.15, fuel: 7.20, steps: 68.0, crashed: True, timeout: False, is_in_helipad: True, success: False\n",
      "DemoHeuristicResult: reward: 22.04, fuel: 153.39, steps: 1001.0, crashed: False, timeout: True, is_in_helipad: False, success: False\n",
      "DemoHeuristicResult: reward: 0.67, fuel: 19.20, steps: 121.0, crashed: True, timeout: False, is_in_helipad: True, success: False\n",
      "DemoHeuristicResult: reward: -196.71, fuel: 13.32, steps: 99.0, crashed: True, timeout: False, is_in_helipad: False, success: False\n",
      "DemoHeuristicResult: reward: 49.46, fuel: 15.15, steps: 82.0, crashed: True, timeout: False, is_in_helipad: False, success: False\n",
      "DemoHeuristicResult: reward: -56.95, fuel: 6.99, steps: 89.0, crashed: True, timeout: False, is_in_helipad: False, success: False\n",
      "DemoHeuristicResult: reward: 36.54, fuel: 159.33, steps: 1001.0, crashed: False, timeout: True, is_in_helipad: False, success: False\n",
      "DemoHeuristicResult: reward: -38.60, fuel: 17.25, steps: 141.0, crashed: True, timeout: False, is_in_helipad: False, success: False\n",
      "DemoHeuristicResult: reward: -40.12, fuel: 7.50, steps: 73.0, crashed: True, timeout: False, is_in_helipad: True, success: False\n",
      "DemoHeuristicResult: reward: -200.89, fuel: 24.30, steps: 131.0, crashed: True, timeout: False, is_in_helipad: False, success: False\n",
      "DemoHeuristicResult: reward: -88.06, fuel: 75.12, steps: 578.0, crashed: True, timeout: False, is_in_helipad: False, success: False\n",
      "DemoHeuristicResult: reward: 51.85, fuel: 20.01, steps: 109.0, crashed: True, timeout: False, is_in_helipad: True, success: False\n",
      "DemoHeuristicResult: reward: 97.88, fuel: 135.12, steps: 1001.0, crashed: False, timeout: True, is_in_helipad: False, success: False\n",
      "DemoHeuristicResult: reward: 154.46, fuel: 98.31, steps: 721.0, crashed: False, timeout: False, is_in_helipad: True, success: True\n",
      "DemoHeuristicResult: reward: -54.59, fuel: 6.90, steps: 61.0, crashed: True, timeout: False, is_in_helipad: False, success: False\n",
      "DemoHeuristicResult: reward: -357.27, fuel: 112.44, steps: 814.0, crashed: True, timeout: False, is_in_helipad: False, success: False\n",
      "DemoHeuristicResult: reward: -251.91, fuel: 17.82, steps: 106.0, crashed: True, timeout: False, is_in_helipad: False, success: False\n",
      "DemoHeuristicResult: reward: 141.72, fuel: 39.30, steps: 428.0, crashed: False, timeout: False, is_in_helipad: False, success: False\n",
      "DemoHeuristicResult: reward: 9.28, fuel: 18.33, steps: 139.0, crashed: True, timeout: False, is_in_helipad: True, success: False\n",
      "DemoHeuristicResult: reward: 26.73, fuel: 144.15, steps: 1001.0, crashed: False, timeout: True, is_in_helipad: False, success: False\n",
      "DemoHeuristicResult: reward: 1.87, fuel: 16.47, steps: 126.0, crashed: True, timeout: False, is_in_helipad: False, success: False\n",
      "DemoHeuristicResult: reward: 198.87, fuel: 65.19, steps: 508.0, crashed: False, timeout: False, is_in_helipad: False, success: False\n",
      "DemoHeuristicResult: reward: -125.69, fuel: 22.44, steps: 148.0, crashed: True, timeout: False, is_in_helipad: False, success: False\n",
      "DemoHeuristicResult: reward: 58.94, fuel: 169.68, steps: 1001.0, crashed: False, timeout: True, is_in_helipad: False, success: False\n",
      "DemoHeuristicResult: reward: 70.55, fuel: 163.41, steps: 1001.0, crashed: False, timeout: True, is_in_helipad: False, success: False\n",
      "DemoHeuristicResult: reward: 41.53, fuel: 160.47, steps: 1001.0, crashed: False, timeout: True, is_in_helipad: False, success: False\n",
      "DemoHeuristicResult: reward: 56.95, fuel: 166.05, steps: 1001.0, crashed: False, timeout: True, is_in_helipad: False, success: False\n",
      "DemoHeuristicResult: reward: 46.05, fuel: 148.08, steps: 1001.0, crashed: False, timeout: True, is_in_helipad: False, success: False\n",
      "DemoHeuristicResult: reward: -4.73, fuel: 149.94, steps: 1001.0, crashed: False, timeout: True, is_in_helipad: False, success: False\n",
      "DemoHeuristicResult: reward: 30.78, fuel: 159.75, steps: 1001.0, crashed: False, timeout: True, is_in_helipad: False, success: False\n",
      "DemoHeuristicResult: reward: 60.64, fuel: 163.77, steps: 1001.0, crashed: False, timeout: True, is_in_helipad: False, success: False\n",
      "DemoHeuristicResult: reward: 32.90, fuel: 166.11, steps: 1001.0, crashed: False, timeout: True, is_in_helipad: False, success: False\n",
      "DemoHeuristicResult: reward: 57.85, fuel: 158.49, steps: 1001.0, crashed: False, timeout: True, is_in_helipad: False, success: False\n",
      "DemoHeuristicResult: reward: 15.37, fuel: 176.01, steps: 1001.0, crashed: False, timeout: True, is_in_helipad: False, success: False\n",
      "DemoHeuristicResult: reward: 65.56, fuel: 156.69, steps: 1001.0, crashed: False, timeout: True, is_in_helipad: False, success: False\n",
      "DemoHeuristicResult: reward: 52.56, fuel: 154.53, steps: 1001.0, crashed: False, timeout: True, is_in_helipad: False, success: False\n",
      "DemoHeuristicResult: reward: 240.14, fuel: 22.56, steps: 232.0, crashed: False, timeout: False, is_in_helipad: True, success: True\n",
      "DemoHeuristicResult: reward: 52.73, fuel: 158.85, steps: 1001.0, crashed: False, timeout: True, is_in_helipad: False, success: False\n",
      "DemoHeuristicResult: reward: 276.01, fuel: 20.61, steps: 199.0, crashed: False, timeout: False, is_in_helipad: True, success: True\n",
      "DemoHeuristicResult: reward: -126.06, fuel: 19.35, steps: 113.0, crashed: True, timeout: False, is_in_helipad: False, success: False\n",
      "DemoHeuristicResult: reward: 7.30, fuel: 22.02, steps: 139.0, crashed: True, timeout: False, is_in_helipad: False, success: False\n",
      "DemoHeuristicResult: reward: 37.66, fuel: 157.53, steps: 1001.0, crashed: False, timeout: True, is_in_helipad: False, success: False\n",
      "DemoHeuristicResult: reward: 0.79, fuel: 160.29, steps: 1001.0, crashed: False, timeout: True, is_in_helipad: False, success: False\n",
      "DemoHeuristicResult: reward: 50.49, fuel: 152.82, steps: 1001.0, crashed: False, timeout: True, is_in_helipad: False, success: False\n",
      "DemoHeuristicResult: reward: 13.11, fuel: 21.27, steps: 129.0, crashed: True, timeout: False, is_in_helipad: True, success: False\n",
      "DemoHeuristicResult: reward: -20.87, fuel: 9.27, steps: 75.0, crashed: True, timeout: False, is_in_helipad: True, success: False\n",
      "DemoHeuristicResult: reward: 40.94, fuel: 22.80, steps: 148.0, crashed: True, timeout: False, is_in_helipad: True, success: False\n",
      "DemoHeuristicResult: reward: -30.43, fuel: 9.15, steps: 80.0, crashed: True, timeout: False, is_in_helipad: True, success: False\n",
      "DemoHeuristicResult: reward: 66.64, fuel: 151.44, steps: 1001.0, crashed: False, timeout: True, is_in_helipad: False, success: False\n",
      "DemoHeuristicResult: reward: -42.14, fuel: 8.76, steps: 67.0, crashed: True, timeout: False, is_in_helipad: False, success: False\n",
      "DemoHeuristicResult: reward: 38.68, fuel: 160.41, steps: 1001.0, crashed: False, timeout: True, is_in_helipad: False, success: False\n",
      "DemoHeuristicResult: reward: -96.24, fuel: 4.86, steps: 80.0, crashed: True, timeout: False, is_in_helipad: False, success: False\n",
      "DemoHeuristicResult: reward: -20.07, fuel: 22.80, steps: 148.0, crashed: True, timeout: False, is_in_helipad: False, success: False\n",
      "DemoHeuristicResult: reward: -184.60, fuel: 31.38, steps: 201.0, crashed: True, timeout: False, is_in_helipad: False, success: False\n",
      "DemoHeuristicResult: reward: -243.21, fuel: 14.49, steps: 101.0, crashed: True, timeout: False, is_in_helipad: False, success: False\n",
      "DemoHeuristicResult: reward: 236.41, fuel: 49.62, steps: 493.0, crashed: False, timeout: False, is_in_helipad: False, success: False\n",
      "DemoHeuristicResult: reward: -55.10, fuel: 11.73, steps: 77.0, crashed: True, timeout: False, is_in_helipad: False, success: False\n",
      "DemoHeuristicResult: reward: -17.57, fuel: 12.96, steps: 104.0, crashed: True, timeout: False, is_in_helipad: True, success: False\n",
      "DemoHeuristicResult: reward: -174.43, fuel: 19.98, steps: 128.0, crashed: True, timeout: False, is_in_helipad: False, success: False\n",
      "DemoHeuristicResult: reward: 39.66, fuel: 142.89, steps: 1001.0, crashed: False, timeout: True, is_in_helipad: False, success: False\n",
      "DemoHeuristicResult: reward: -64.83, fuel: 5.46, steps: 88.0, crashed: True, timeout: False, is_in_helipad: False, success: False\n",
      "DemoHeuristicResult: reward: -217.31, fuel: 22.89, steps: 143.0, crashed: True, timeout: False, is_in_helipad: False, success: False\n",
      "DemoHeuristicResult: reward: 33.59, fuel: 19.95, steps: 140.0, crashed: True, timeout: False, is_in_helipad: True, success: False\n",
      "Optimization completed without errors\n"
     ]
    }
   ],
   "source": [
    "bo = trieste.bayesian_optimizer.BayesianOptimizer(lander_observer, search_space)\n",
    "start = timeit.default_timer()\n",
    "result = bo.optimize(ITERATIONS, initial_data, models, rule).final_result.unwrap()\n",
    "stop = timeit.default_timer()"
   ]
  },
  {
   "cell_type": "code",
   "execution_count": 9,
   "id": "1d314fa1",
   "metadata": {},
   "outputs": [
    {
     "name": "stdout",
     "output_type": "stream",
     "text": [
      "Time taken: 161s\n"
     ]
    }
   ],
   "source": [
    "print(f\"Time taken: {stop - start:.0f}s\")"
   ]
  },
  {
   "cell_type": "code",
   "execution_count": 10,
   "id": "d055cb8f",
   "metadata": {},
   "outputs": [],
   "source": [
    "import matplotlib.pyplot as plt\n",
    "from trieste.acquisition.multi_objective.dominance import non_dominated\n",
    "\n",
    "# fancy code to import trieste notebook plotting utils\n",
    "import importlib.util\n",
    "spec = importlib.util.spec_from_file_location(\"plotting\", \"../docs/notebooks/util/plotting.py\")\n",
    "plotting = importlib.util.module_from_spec(spec)\n",
    "spec.loader.exec_module(plotting)"
   ]
  },
  {
   "cell_type": "code",
   "execution_count": 11,
   "id": "a0abebdc",
   "metadata": {},
   "outputs": [
    {
     "data": {
      "image/png": "[encoded data removed]",
      "text/plain": [
       "<Figure size 432x288 with 1 Axes>"
      ]
     },
     "metadata": {
      "needs_background": "light"
     },
     "output_type": "display_data"
    },
    {
     "data": {
      "image/png": "[encoded data removed]",
      "text/plain": [
       "<Figure size 432x288 with 1 Axes>"
      ]
     },
     "metadata": {
      "needs_background": "light"
     },
     "output_type": "display_data"
    }
   ],
   "source": [
    "all_query_points = result.datasets[FAILURE].query_points\n",
    "objective_model_values, _ = result.models[OBJECTIVE].predict(all_query_points)\n",
    "failure_model_values, _ = result.models[FAILURE].predict_y(all_query_points)\n",
    "\n",
    "plt.scatter(objective_model_values, 1-failure_model_values);\n",
    "plt.xlabel(\"Fuel spent, x0.01\");\n",
    "plt.ylabel(\"Probability of failure\");\n",
    "plt.show();\n",
    "\n",
    "points_in_objective_space = tf.concat([objective_model_values, 1-failure_model_values], axis=1)\n",
    "plotting.plot_mobo_points_in_obj_space(points_in_objective_space, num_init=num_initial_points)\n",
    "plt.xlabel(\"Fuel spent, x0.01\");\n",
    "plt.ylabel(\"Probability of failure\");\n",
    "plt.show();"
   ]
  },
  {
   "cell_type": "code",
   "execution_count": 12,
   "id": "fcfbedee",
   "metadata": {},
   "outputs": [
    {
     "data": {
      "image/png": "[encoded data removed]",
      "text/plain": [
       "<Figure size 432x288 with 1 Axes>"
      ]
     },
     "metadata": {
      "needs_background": "light"
     },
     "output_type": "display_data"
    }
   ],
   "source": [
    "many_random_points = search_space.sample(100000)\n",
    "objective_model_values, _ = result.models[OBJECTIVE].predict(many_random_points)\n",
    "failure_model_values, _ = result.models[FAILURE].predict_y(many_random_points)\n",
    "\n",
    "plt.scatter(objective_model_values, 1-failure_model_values)\n",
    "plt.xlabel(\"Fuel spent, x0.01\")\n",
    "plt.ylabel(\"Probability of failure\");\n",
    "plt.show();\n",
    "\n",
    "# this fails with OOM because of how non-dominated is implemented in Trieste\n",
    "# we may want to optimize it for large volumes\n",
    "# points_in_objective_space = tf.concat([objective_model_values, 1-failure_model_values], axis=1)\n",
    "# plotting.plot_mobo_points_in_obj_space(points_in_objective_space, num_init=0)\n",
    "# plt.xlabel(\"Fuel spent, x0.01\")\n",
    "# plt.ylabel(\"Probability of failure\");\n",
    "# plt.show();"
   ]
  },
  {
   "cell_type": "code",
   "execution_count": 13,
   "id": "76fd3b6c",
   "metadata": {
    "scrolled": true
   },
   "outputs": [
    {
     "data": {
      "text/html": [
       "&lt;gpflow.models.gpr.GPR object at 0x7f1fec6ee490&gt;\n",
       "<table>\n",
       "<thead>\n",
       "<tr><th>name                   </th><th>class           </th><th>transform       </th><th>prior    </th><th>trainable  </th><th>shape     </th><th>dtype  </th><th>value                                              </th></tr>\n",
       "</thead>\n",
       "<tbody>\n",
       "<tr><td>GPR.kernel.variance    </td><td>Parameter       </td><td>Softplus        </td><td>LogNormal</td><td>True       </td><td>()        </td><td>float64</td><td>0.08421791020123497                                </td></tr>\n",
       "<tr><td>GPR.kernel.lengthscales</td><td>Parameter       </td><td>Softplus        </td><td>LogNormal</td><td>True       </td><td>(12,)     </td><td>float64</td><td>[0.28382272, 0.34592647, 0.34917076...             </td></tr>\n",
       "<tr><td>GPR.likelihood.variance</td><td>Parameter       </td><td>Softplus + Shift</td><td>         </td><td>True       </td><td>()        </td><td>float64</td><td>1.0999939869708563e-06                             </td></tr>\n",
       "<tr><td>GPR.data[0]            </td><td>ResourceVariable</td><td>                </td><td>         </td><td>False      </td><td>(None, 12)</td><td>float64</td><td>[[3.71422259e-01, 1.11496808e+00, 4.68079477e-01...</td></tr>\n",
       "<tr><td>GPR.data[1]            </td><td>ResourceVariable</td><td>                </td><td>         </td><td>False      </td><td>(None, 1) </td><td>float64</td><td>[[0.3021...                                        </td></tr>\n",
       "</tbody>\n",
       "</table>"
      ],
      "text/plain": [
       "<gpflow.models.gpr.GPR object at 0x7f1fec6ee490>\n",
       "╒═════════════════════════╤══════════════════╤══════════════════╤═══════════╤═════════════╤════════════╤═════════╤═════════════════════════════════════════════════════╕\n",
       "│ name                    │ class            │ transform        │ prior     │ trainable   │ shape      │ dtype   │ value                                               │\n",
       "╞═════════════════════════╪══════════════════╪══════════════════╪═══════════╪═════════════╪════════════╪═════════╪═════════════════════════════════════════════════════╡\n",
       "│ GPR.kernel.variance     │ Parameter        │ Softplus         │ LogNormal │ True        │ ()         │ float64 │ 0.08421791020123497                                 │\n",
       "├─────────────────────────┼──────────────────┼──────────────────┼───────────┼─────────────┼────────────┼─────────┼─────────────────────────────────────────────────────┤\n",
       "│ GPR.kernel.lengthscales │ Parameter        │ Softplus         │ LogNormal │ True        │ (12,)      │ float64 │ [0.28382272, 0.34592647, 0.34917076...              │\n",
       "├─────────────────────────┼──────────────────┼──────────────────┼───────────┼─────────────┼────────────┼─────────┼─────────────────────────────────────────────────────┤\n",
       "│ GPR.likelihood.variance │ Parameter        │ Softplus + Shift │           │ True        │ ()         │ float64 │ 1.0999939869708563e-06                              │\n",
       "├─────────────────────────┼──────────────────┼──────────────────┼───────────┼─────────────┼────────────┼─────────┼─────────────────────────────────────────────────────┤\n",
       "│ GPR.data[0]             │ ResourceVariable │                  │           │ False       │ (None, 12) │ float64 │ [[3.71422259e-01, 1.11496808e+00, 4.68079477e-01... │\n",
       "├─────────────────────────┼──────────────────┼──────────────────┼───────────┼─────────────┼────────────┼─────────┼─────────────────────────────────────────────────────┤\n",
       "│ GPR.data[1]             │ ResourceVariable │                  │           │ False       │ (None, 1)  │ float64 │ [[0.3021...                                         │\n",
       "╘═════════════════════════╧══════════════════╧══════════════════╧═══════════╧═════════════╧════════════╧═════════╧═════════════════════════════════════════════════════╛"
      ]
     },
     "execution_count": 13,
     "metadata": {},
     "output_type": "execute_result"
    }
   ],
   "source": [
    "result.models[OBJECTIVE]._model"
   ]
  },
  {
   "cell_type": "code",
   "execution_count": 14,
   "id": "76f3f2df",
   "metadata": {},
   "outputs": [
    {
     "data": {
      "text/plain": [
       "<Parameter: dtype=float64, shape=[12], fn=\"softplus\", numpy=\n",
       "array([0.28382272, 0.34592647, 0.34917076, 0.32478705, 0.29559835,\n",
       "       0.33213554, 0.24839789, 0.23701176, 0.2140719 , 0.24999743,\n",
       "       0.15606402, 0.17896821])>"
      ]
     },
     "execution_count": 14,
     "metadata": {},
     "output_type": "execute_result"
    }
   ],
   "source": [
    "result.models[OBJECTIVE]._model.kernel.lengthscales"
   ]
  },
  {
   "cell_type": "code",
   "execution_count": 15,
   "id": "e22dc0ff",
   "metadata": {},
   "outputs": [
    {
     "data": {
      "text/html": [
       "&lt;trieste.models.gpflow.models.VGPWrapper object at 0x7f1fec6b2450&gt;\n",
       "<table>\n",
       "<thead>\n",
       "<tr><th>name                          </th><th>class           </th><th>transform     </th><th>prior  </th><th>trainable  </th><th>shape        </th><th>dtype  </th><th>value                                               </th></tr>\n",
       "</thead>\n",
       "<tbody>\n",
       "<tr><td>VGPWrapper.kernel.variance    </td><td>Parameter       </td><td>Softplus      </td><td>       </td><td>True       </td><td>()           </td><td>float64</td><td>1.2779691635099961                                  </td></tr>\n",
       "<tr><td>VGPWrapper.kernel.lengthscales</td><td>Parameter       </td><td>Softplus      </td><td>       </td><td>True       </td><td>(12,)        </td><td>float64</td><td>[0.35979579, 0.3444674, 0.35711195...               </td></tr>\n",
       "<tr><td>VGPWrapper.data[0]            </td><td>ResourceVariable</td><td>              </td><td>       </td><td>False      </td><td>(None, 12)   </td><td>float64</td><td>[[0.31455759, 0.86499649, 0.21841858...             </td></tr>\n",
       "<tr><td>VGPWrapper.data[1]            </td><td>ResourceVariable</td><td>              </td><td>       </td><td>False      </td><td>(None, 1)    </td><td>float64</td><td>[[0....                                             </td></tr>\n",
       "<tr><td>VGPWrapper.q_mu               </td><td>Parameter       </td><td>Identity      </td><td>       </td><td>True       </td><td>(150, 1)     </td><td>float64</td><td>[[-1.7162463...                                     </td></tr>\n",
       "<tr><td>VGPWrapper.q_sqrt             </td><td>Parameter       </td><td>FillTriangular</td><td>       </td><td>True       </td><td>(1, 150, 150)</td><td>float64</td><td>[[[7.62265866e-01, 0.00000000e+00, 0.00000000e+00...</td></tr>\n",
       "<tr><td>VGPWrapper._num_data          </td><td>ResourceVariable</td><td>              </td><td>       </td><td>False      </td><td>()           </td><td>float64</td><td>150.0                                               </td></tr>\n",
       "</tbody>\n",
       "</table>"
      ],
      "text/plain": [
       "<trieste.models.gpflow.models.VGPWrapper object at 0x7f1fec6b2450>\n",
       "╒════════════════════════════════╤══════════════════╤════════════════╤═════════╤═════════════╤═══════════════╤═════════╤══════════════════════════════════════════════════════╕\n",
       "│ name                           │ class            │ transform      │ prior   │ trainable   │ shape         │ dtype   │ value                                                │\n",
       "╞════════════════════════════════╪══════════════════╪════════════════╪═════════╪═════════════╪═══════════════╪═════════╪══════════════════════════════════════════════════════╡\n",
       "│ VGPWrapper.kernel.variance     │ Parameter        │ Softplus       │         │ True        │ ()            │ float64 │ 1.2779691635099961                                   │\n",
       "├────────────────────────────────┼──────────────────┼────────────────┼─────────┼─────────────┼───────────────┼─────────┼──────────────────────────────────────────────────────┤\n",
       "│ VGPWrapper.kernel.lengthscales │ Parameter        │ Softplus       │         │ True        │ (12,)         │ float64 │ [0.35979579, 0.3444674, 0.35711195...                │\n",
       "├────────────────────────────────┼──────────────────┼────────────────┼─────────┼─────────────┼───────────────┼─────────┼──────────────────────────────────────────────────────┤\n",
       "│ VGPWrapper.data[0]             │ ResourceVariable │                │         │ False       │ (None, 12)    │ float64 │ [[0.31455759, 0.86499649, 0.21841858...              │\n",
       "├────────────────────────────────┼──────────────────┼────────────────┼─────────┼─────────────┼───────────────┼─────────┼──────────────────────────────────────────────────────┤\n",
       "│ VGPWrapper.data[1]             │ ResourceVariable │                │         │ False       │ (None, 1)     │ float64 │ [[0....                                              │\n",
       "├────────────────────────────────┼──────────────────┼────────────────┼─────────┼─────────────┼───────────────┼─────────┼──────────────────────────────────────────────────────┤\n",
       "│ VGPWrapper.q_mu                │ Parameter        │ Identity       │         │ True        │ (150, 1)      │ float64 │ [[-1.7162463...                                      │\n",
       "├────────────────────────────────┼──────────────────┼────────────────┼─────────┼─────────────┼───────────────┼─────────┼──────────────────────────────────────────────────────┤\n",
       "│ VGPWrapper.q_sqrt              │ Parameter        │ FillTriangular │         │ True        │ (1, 150, 150) │ float64 │ [[[7.62265866e-01, 0.00000000e+00, 0.00000000e+00... │\n",
       "├────────────────────────────────┼──────────────────┼────────────────┼─────────┼─────────────┼───────────────┼─────────┼──────────────────────────────────────────────────────┤\n",
       "│ VGPWrapper._num_data           │ ResourceVariable │                │         │ False       │ ()            │ float64 │ 150.0                                                │\n",
       "╘════════════════════════════════╧══════════════════╧════════════════╧═════════╧═════════════╧═══════════════╧═════════╧══════════════════════════════════════════════════════╛"
      ]
     },
     "execution_count": 15,
     "metadata": {},
     "output_type": "execute_result"
    }
   ],
   "source": [
    "result.models[FAILURE]._model"
   ]
  },
  {
   "cell_type": "code",
   "execution_count": 16,
   "id": "7587a672",
   "metadata": {},
   "outputs": [
    {
     "data": {
      "text/plain": [
       "<Parameter: dtype=float64, shape=[12], fn=\"softplus\", numpy=\n",
       "array([0.35979579, 0.3444674 , 0.35711195, 0.37747693, 0.38767163,\n",
       "       0.31322002, 0.29581362, 0.35474902, 0.36266218, 0.34015958,\n",
       "       0.33408897, 0.34781179])>"
      ]
     },
     "execution_count": 16,
     "metadata": {},
     "output_type": "execute_result"
    }
   ],
   "source": [
    "result.models[FAILURE]._model.kernel.lengthscales"
   ]
  },
  {
   "cell_type": "code",
   "execution_count": 17,
   "id": "5ebf9b1c",
   "metadata": {},
   "outputs": [],
   "source": [
    "def probability_of_failure(point, n_tries=100):\n",
    "    if not isinstance(point, np.ndarray):\n",
    "        point = point.numpy()\n",
    "\n",
    "    assert point.shape == (int(search_space.dimension),)\n",
    "\n",
    "    n_failures = 0\n",
    "    for _ in range(n_tries):\n",
    "        result = demo_heuristic_lander(lunar_lander.LunarLander(), point, print_result=False)\n",
    "        if result.timeout or result.has_crashed:\n",
    "            n_failures += 1\n",
    "    \n",
    "    return n_failures / n_tries"
   ]
  },
  {
   "cell_type": "code",
   "execution_count": 18,
   "id": "c1e2de4a",
   "metadata": {},
   "outputs": [],
   "source": [
    "all_query_points = result.datasets[FAILURE].query_points\n",
    "objective_model_values, _ = result.models[OBJECTIVE].predict(all_query_points)\n",
    "failure_model_values, _ = result.models[FAILURE].predict_y(all_query_points)"
   ]
  },
  {
   "cell_type": "code",
   "execution_count": 19,
   "id": "ed07d072",
   "metadata": {},
   "outputs": [],
   "source": [
    "pf_points, _ = non_dominated(tf.concat([objective_model_values, 1-failure_model_values], axis=1))\n",
    "pf_input_points = []\n",
    "for pf_point in pf_points:\n",
    "    pf_input_point = tf.boolean_mask(all_query_points, tf.equal(objective_model_values, pf_point[0])[:,0])\n",
    "    if len(pf_input_point) > 1:\n",
    "        pf_input_point = pf_input_point[0:1, :]\n",
    "    pf_input_points.append(pf_input_point)\n",
    "pf_input_points = tf.concat(pf_input_points, axis=0)"
   ]
  },
  {
   "cell_type": "code",
   "execution_count": 20,
   "id": "a64dd4f5",
   "metadata": {},
   "outputs": [],
   "source": [
    "failure_actual_values = [\n",
    "    probability_of_failure(p) for p in pf_input_points\n",
    "]"
   ]
  },
  {
   "cell_type": "code",
   "execution_count": 21,
   "id": "b4910d3b",
   "metadata": {},
   "outputs": [
    {
     "data": {
      "image/png": "[encoded data removed]",
      "text/plain": [
       "<Figure size 864x864 with 1 Axes>"
      ]
     },
     "metadata": {
      "needs_background": "light"
     },
     "output_type": "display_data"
    }
   ],
   "source": [
    "points_in_objective_space = tf.concat([objective_model_values, 1-failure_model_values], axis=1)\n",
    "\n",
    "mean, variance = result.models[FAILURE].predict(pf_input_points)\n",
    "\n",
    "# failure_lower_conf_bounds, _ = result.models[FAILURE]._model.likelihood.predict_mean_and_var(\n",
    "#     mean - 2 * tf.sqrt(variance), variance)\n",
    "# failure_upper_conf_bounds, _ = result.models[FAILURE]._model.likelihood.predict_mean_and_var(\n",
    "#     mean + 2 * tf.sqrt(variance), variance)\n",
    "\n",
    "failure_lower_conf_bounds = result.models[FAILURE]._model.likelihood.invlink(mean - 2 * tf.sqrt(variance))\n",
    "failure_upper_conf_bounds = result.models[FAILURE]._model.likelihood.invlink(mean + 2 * tf.sqrt(variance))\n",
    "\n",
    "mean, variance = result.models[OBJECTIVE].predict(pf_input_points)\n",
    "objective_lower_conf_bounds = mean - 2 * tf.sqrt(variance)\n",
    "objective_upper_conf_bounds = mean + 2 * tf.sqrt(variance)\n",
    "\n",
    "plotting.plot_mobo_points_in_obj_space(\n",
    "    points_in_objective_space,\n",
    "    num_init=num_initial_points,\n",
    "    only_plot_pareto=True,\n",
    "    figsize=(12,12)\n",
    ")\n",
    "plt.scatter(pf_points[:, 0], failure_actual_values, c='r')\n",
    "\n",
    "for i, (lower, upper) in enumerate(zip(1-failure_lower_conf_bounds, 1-failure_upper_conf_bounds)):\n",
    "    plt.plot((pf_points[i].numpy()[0], pf_points[i].numpy()[0]), (lower,upper), '_-',color='orange')\n",
    "\n",
    "for i, (lower, upper) in enumerate(zip(objective_lower_conf_bounds, objective_upper_conf_bounds)):\n",
    "    plt.plot((lower,upper), (pf_points[i].numpy()[1], pf_points[i].numpy()[1]), '|-',color='green')\n",
    "\n",
    "\n",
    "plt.xlabel(\"Fuel spent, x0.01\")\n",
    "plt.ylabel(\"Model probability of failure\");\n",
    "plt.show();"
   ]
  },
  {
   "cell_type": "code",
   "execution_count": null,
   "id": "c8028352",
   "metadata": {},
   "outputs": [],
   "source": []
  }
 ],
 "metadata": {
  "kernelspec": {
   "display_name": "Python 3 (ipykernel)",
   "language": "python",
   "name": "python3"
  },
  "language_info": {
   "codemirror_mode": {
    "name": "ipython",
    "version": 3
   },
   "file_extension": ".py",
   "mimetype": "text/x-python",
   "name": "python",
   "nbconvert_exporter": "python",
   "pygments_lexer": "ipython3",
   "version": "3.7.5"
  }
 },
 "nbformat": 4,
 "nbformat_minor": 5
}
