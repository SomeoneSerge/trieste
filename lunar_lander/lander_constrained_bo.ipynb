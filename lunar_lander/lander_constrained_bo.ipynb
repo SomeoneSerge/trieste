{
 "cells": [
  {
   "cell_type": "code",
   "execution_count": 4,
   "id": "04a3d3e6",
   "metadata": {},
   "outputs": [],
   "source": [
    "import numpy as np\n",
    "\n",
    "import lunar_lander\n",
    "from turbo_test import demo_heuristic_lander\n",
    "import tensorflow as tf\n",
    "import trieste"
   ]
  },
  {
   "cell_type": "code",
   "execution_count": 5,
   "id": "f1b291d7",
   "metadata": {},
   "outputs": [],
   "source": [
    "# this space is created by doing +-0.1 around parameter values\n",
    "# set in https://github.com/openai/gym/blob/master/gym/envs/box2d/lunar_lander.py\n",
    "# search_space = trieste.space.Box(\n",
    "#     [0.4, 0.9, 0.3, 0.5, 0.4, 0.9, 0.4, 0.4, 0.0, 0.5, 0.0, 0.0],\n",
    "#     [0.6, 1.1, 0.5, 0.6, 0.6, 1.1, 0.6, 0.6, 0.1, 0.6, 0.1, 0.1]\n",
    "# )\n",
    "\n",
    "search_space = trieste.space.Box([0.0], [1.5]) ** 12"
   ]
  },
  {
   "cell_type": "code",
   "execution_count": 6,
   "id": "8d91e498",
   "metadata": {},
   "outputs": [],
   "source": [
    "OBJECTIVE = \"OBJECTIVE\"\n",
    "# lander crashed\n",
    "CRASH = \"CRASH\"\n",
    "# didn't finish in predefined number of steps\n",
    "TIMEOUT = \"TIMEOUT\"\n",
    "# lander landed fine, but outside the helipad\n",
    "OUTSIDE = \"OUTSIDE\"\n",
    "\n",
    "create_empty_dataset = lambda : trieste.data.Dataset(tf.zeros((0, search_space.dimension), tf.float64), tf.zeros((0, 1), tf.float64))\n",
    "\n",
    "def lander_observer(x):\n",
    "    all_datasets = {\n",
    "        OBJECTIVE: create_empty_dataset(),\n",
    "        CRASH: create_empty_dataset(),\n",
    "        TIMEOUT: create_empty_dataset(),\n",
    "        OUTSIDE: create_empty_dataset()\n",
    "    }\n",
    "\n",
    "    def add_data(dataset_tag, x, y):\n",
    "        new_dataset = trieste.data.Dataset(np.atleast_2d(x), np.atleast_2d(y))\n",
    "        all_datasets[dataset_tag] += new_dataset\n",
    "\n",
    "    for w in x.numpy():\n",
    "        result = demo_heuristic_lander(lunar_lander.LunarLander(), w)\n",
    "        if result.timeout:\n",
    "            add_data(TIMEOUT, w, 0.0)\n",
    "            continue\n",
    "        else:\n",
    "            add_data(TIMEOUT, w, 1.0)\n",
    "\n",
    "        if result.has_crashed:\n",
    "            add_data(CRASH, w, 0.0)\n",
    "            continue\n",
    "        else:\n",
    "            add_data(CRASH, w, 1.0)\n",
    "\n",
    "        if not result.is_in_helipad:\n",
    "            add_data(OUTSIDE, w, 0.0)\n",
    "            continue\n",
    "        else:\n",
    "            add_data(OUTSIDE, w, 1.0)\n",
    "\n",
    "        # all failure modes are done, means we landed successfully\n",
    "        normalized_fuel = np.float64(result.total_fuel / 100.0)\n",
    "        add_data(OBJECTIVE, w, normalized_fuel)\n",
    "    \n",
    "    return all_datasets"
   ]
  },
  {
   "cell_type": "code",
   "execution_count": 7,
   "id": "46b6b6ef",
   "metadata": {
    "scrolled": true
   },
   "outputs": [
    {
     "name": "stdout",
     "output_type": "stream",
     "text": [
      "DemoHeuristicResult: reward: -58.54, fuel: 2.73, steps: 60.0, crashed: True, timeout: False, is_in_helipad: True, success: False\n",
      "DemoHeuristicResult: reward: -271.86, fuel: 11.40, steps: 99.0, crashed: True, timeout: False, is_in_helipad: False, success: False\n",
      "DemoHeuristicResult: reward: -105.10, fuel: 0.60, steps: 55.0, crashed: True, timeout: False, is_in_helipad: True, success: False\n",
      "DemoHeuristicResult: reward: -320.88, fuel: 17.40, steps: 84.0, crashed: True, timeout: False, is_in_helipad: False, success: False\n",
      "DemoHeuristicResult: reward: -34.64, fuel: 5.16, steps: 58.0, crashed: True, timeout: False, is_in_helipad: True, success: False\n",
      "DemoHeuristicResult: reward: -55.69, fuel: 4.80, steps: 65.0, crashed: True, timeout: False, is_in_helipad: True, success: False\n",
      "DemoHeuristicResult: reward: -286.76, fuel: 30.60, steps: 136.0, crashed: True, timeout: False, is_in_helipad: False, success: False\n",
      "DemoHeuristicResult: reward: -107.75, fuel: 0.39, steps: 58.0, crashed: True, timeout: False, is_in_helipad: False, success: False\n",
      "DemoHeuristicResult: reward: -275.65, fuel: 13.08, steps: 111.0, crashed: True, timeout: False, is_in_helipad: False, success: False\n",
      "DemoHeuristicResult: reward: -117.55, fuel: 0.60, steps: 89.0, crashed: True, timeout: False, is_in_helipad: False, success: False\n",
      "DemoHeuristicResult: reward: -142.47, fuel: 0.30, steps: 84.0, crashed: True, timeout: False, is_in_helipad: False, success: False\n",
      "DemoHeuristicResult: reward: -94.36, fuel: 2.10, steps: 53.0, crashed: True, timeout: False, is_in_helipad: False, success: False\n",
      "DemoHeuristicResult: reward: -58.48, fuel: 4.41, steps: 73.0, crashed: True, timeout: False, is_in_helipad: False, success: False\n",
      "DemoHeuristicResult: reward: -132.42, fuel: 0.72, steps: 74.0, crashed: True, timeout: False, is_in_helipad: False, success: False\n",
      "DemoHeuristicResult: reward: -96.75, fuel: 7.50, steps: 80.0, crashed: True, timeout: False, is_in_helipad: False, success: False\n",
      "DemoHeuristicResult: reward: -58.87, fuel: 8.01, steps: 91.0, crashed: True, timeout: False, is_in_helipad: False, success: False\n",
      "DemoHeuristicResult: reward: -112.30, fuel: 0.60, steps: 54.0, crashed: True, timeout: False, is_in_helipad: False, success: False\n",
      "DemoHeuristicResult: reward: -151.17, fuel: 0.00, steps: 68.0, crashed: True, timeout: False, is_in_helipad: False, success: False\n",
      "DemoHeuristicResult: reward: -56.49, fuel: 9.99, steps: 70.0, crashed: True, timeout: False, is_in_helipad: False, success: False\n",
      "DemoHeuristicResult: reward: -58.44, fuel: 9.36, steps: 80.0, crashed: True, timeout: False, is_in_helipad: False, success: False\n",
      "DemoHeuristicResult: reward: -531.00, fuel: 32.40, steps: 178.0, crashed: True, timeout: False, is_in_helipad: False, success: False\n",
      "DemoHeuristicResult: reward: -81.70, fuel: 13.71, steps: 86.0, crashed: True, timeout: False, is_in_helipad: False, success: False\n",
      "DemoHeuristicResult: reward: -148.57, fuel: 0.30, steps: 60.0, crashed: True, timeout: False, is_in_helipad: False, success: False\n",
      "DemoHeuristicResult: reward: -124.95, fuel: 78.96, steps: 547.0, crashed: True, timeout: False, is_in_helipad: False, success: False\n",
      "DemoHeuristicResult: reward: -3.32, fuel: 12.63, steps: 111.0, crashed: True, timeout: False, is_in_helipad: True, success: False\n",
      "DemoHeuristicResult: reward: 217.82, fuel: 17.97, steps: 236.0, crashed: False, timeout: False, is_in_helipad: False, success: False\n",
      "DemoHeuristicResult: reward: -296.33, fuel: 6.90, steps: 106.0, crashed: True, timeout: False, is_in_helipad: False, success: False\n",
      "DemoHeuristicResult: reward: -87.11, fuel: 13.02, steps: 124.0, crashed: True, timeout: False, is_in_helipad: False, success: False\n",
      "DemoHeuristicResult: reward: -123.14, fuel: 0.30, steps: 50.0, crashed: True, timeout: False, is_in_helipad: False, success: False\n",
      "DemoHeuristicResult: reward: -147.40, fuel: 21.84, steps: 133.0, crashed: True, timeout: False, is_in_helipad: False, success: False\n",
      "DemoHeuristicResult: reward: 305.62, fuel: 24.21, steps: 272.0, crashed: False, timeout: False, is_in_helipad: True, success: True\n"
     ]
    }
   ],
   "source": [
    "num_initial_points = 1\n",
    "initial_query_points = search_space.sample(1)\n",
    "initial_data = lander_observer(initial_query_points)\n",
    "\n",
    "# collect points until we have at least one in each dataset\n",
    "while any(len(initial_data[tag]) == 0 for tag in initial_data):\n",
    "    initial_query_points = search_space.sample(1)\n",
    "    new_initial_data = lander_observer(initial_query_points)\n",
    "    for tag in initial_data:\n",
    "        initial_data[tag] = initial_data[tag] + new_initial_data[tag]\n",
    "    num_initial_points += 1"
   ]
  },
  {
   "cell_type": "code",
   "execution_count": 8,
   "id": "635e1f45",
   "metadata": {},
   "outputs": [
    {
     "data": {
      "text/plain": [
       "31"
      ]
     },
     "execution_count": 8,
     "metadata": {},
     "output_type": "execute_result"
    }
   ],
   "source": [
    "num_initial_points"
   ]
  },
  {
   "cell_type": "code",
   "execution_count": 20,
   "id": "51ccf7bb",
   "metadata": {},
   "outputs": [],
   "source": [
    "import gpflow\n",
    "from trieste.models.gpflow.models import GaussianProcessRegression, VariationalGaussianProcess\n",
    "from trieste.models.optimizer import BatchOptimizer\n",
    "\n",
    "def create_regression_model(data):\n",
    "    kernel = gpflow.kernels.Matern52(lengthscales=[0.2]*int(search_space.dimension))\n",
    "    gpr = gpflow.models.GPR(data.astuple(), kernel)\n",
    "    gpr.likelihood.variance = np.float64(0.1)\n",
    "    # gpflow.set_trainable(gpr.likelihood, False)\n",
    "    return gpr\n",
    "\n",
    "\n",
    "def create_classification_model(data):\n",
    "    kernel = gpflow.kernels.SquaredExponential(\n",
    "        lengthscales=[0.2]*int(search_space.dimension)\n",
    "    )\n",
    "    likelihood = gpflow.likelihoods.Bernoulli()\n",
    "    vgp = gpflow.models.VGP(data.astuple(), kernel, likelihood)\n",
    "    # gpflow.set_trainable(vgp.kernel.variance, False)\n",
    "    return vgp\n",
    "\n",
    "\n",
    "models = {\n",
    "    OBJECTIVE: GaussianProcessRegression(create_regression_model(initial_data[OBJECTIVE])),\n",
    "    CRASH: VariationalGaussianProcess(\n",
    "        create_classification_model(initial_data[CRASH]), BatchOptimizer(tf.optimizers.Adam(1e-3)), use_natgrads=True\n",
    "    ),\n",
    "    TIMEOUT: VariationalGaussianProcess(\n",
    "        create_classification_model(initial_data[TIMEOUT]), BatchOptimizer(tf.optimizers.Adam(1e-3)), use_natgrads=True\n",
    "    ),\n",
    "    OUTSIDE: VariationalGaussianProcess(\n",
    "        create_classification_model(initial_data[OUTSIDE]), BatchOptimizer(tf.optimizers.Adam(1e-3)), use_natgrads=True\n",
    "    ),\n",
    "}"
   ]
  },
  {
   "cell_type": "code",
   "execution_count": 21,
   "id": "cd7fb6e6",
   "metadata": {},
   "outputs": [],
   "source": [
    "from trieste.acquisition.rule import EfficientGlobalOptimization\n",
    "from trieste.acquisition import (\n",
    "    SingleModelAcquisitionBuilder, Product\n",
    ")\n",
    "\n",
    "from hacks import HackedExpectedImprovement\n",
    "\n",
    "class ProbabilityOfValidity(SingleModelAcquisitionBuilder):\n",
    "    def prepare_acquisition_function(self, model, dataset=None):\n",
    "        def acquisition(at):\n",
    "            mean, _ = model.predict_y(tf.squeeze(at, -2))\n",
    "            return mean\n",
    "        return acquisition\n",
    "\n",
    "acq_fn = Product(\n",
    "    HackedExpectedImprovement().using(OBJECTIVE),\n",
    "    ProbabilityOfValidity().using(CRASH),\n",
    "    ProbabilityOfValidity().using(TIMEOUT),\n",
    "    ProbabilityOfValidity().using(OUTSIDE),\n",
    ")\n",
    "rule = EfficientGlobalOptimization(acq_fn)"
   ]
  },
  {
   "cell_type": "code",
   "execution_count": 22,
   "id": "19e2fe20",
   "metadata": {},
   "outputs": [
    {
     "name": "stderr",
     "output_type": "stream",
     "text": [
      "2021-12-03 16:11:14.581253: W tensorflow/python/util/util.cc:348] Sets are not currently considered sequences, but this may change in the future, so consider avoiding using them.\n",
      "2021-12-03 16:11:15.583410: I tensorflow/compiler/mlir/mlir_graph_optimization_pass.cc:176] None of the MLIR Optimization Passes are enabled (registered 2)\n",
      "2021-12-03 16:11:15.603323: I tensorflow/core/platform/profile_utils/cpu_utils.cc:114] CPU Frequency: 3600000000 Hz\n"
     ]
    },
    {
     "name": "stdout",
     "output_type": "stream",
     "text": [
      "DemoHeuristicResult: reward: -18.02, fuel: 18.09, steps: 114.0, crashed: True, timeout: False, is_in_helipad: False, success: False\n",
      "DemoHeuristicResult: reward: -10.20, fuel: 9.99, steps: 94.0, crashed: True, timeout: False, is_in_helipad: True, success: False\n",
      "WARNING:tensorflow:5 out of the last 6 calls to <function expected_improvement.__call__ at 0x7fc8b40ebef0> triggered tf.function retracing. Tracing is expensive and the excessive number of tracings could be due to (1) creating @tf.function repeatedly in a loop, (2) passing tensors with different shapes, (3) passing Python objects instead of tensors. For (1), please define your @tf.function outside of the loop. For (2), @tf.function has experimental_relax_shapes=True option that relaxes argument shapes that can avoid unnecessary retracing. For (3), please refer to https://www.tensorflow.org/guide/function#controlling_retracing and https://www.tensorflow.org/api_docs/python/tf/function for  more details.\n",
      "WARNING:tensorflow:6 out of the last 7 calls to <function expected_improvement.__call__ at 0x7fc8b40ebef0> triggered tf.function retracing. Tracing is expensive and the excessive number of tracings could be due to (1) creating @tf.function repeatedly in a loop, (2) passing tensors with different shapes, (3) passing Python objects instead of tensors. For (1), please define your @tf.function outside of the loop. For (2), @tf.function has experimental_relax_shapes=True option that relaxes argument shapes that can avoid unnecessary retracing. For (3), please refer to https://www.tensorflow.org/guide/function#controlling_retracing and https://www.tensorflow.org/api_docs/python/tf/function for  more details.\n",
      "DemoHeuristicResult: reward: -67.59, fuel: 6.90, steps: 68.0, crashed: True, timeout: False, is_in_helipad: False, success: False\n",
      "DemoHeuristicResult: reward: -24.67, fuel: 17.55, steps: 117.0, crashed: True, timeout: False, is_in_helipad: True, success: False\n",
      "WARNING:tensorflow:5 out of the last 19 calls to <function Scipy.eval_func.<locals>._tf_eval at 0x7fc899103050> triggered tf.function retracing. Tracing is expensive and the excessive number of tracings could be due to (1) creating @tf.function repeatedly in a loop, (2) passing tensors with different shapes, (3) passing Python objects instead of tensors. For (1), please define your @tf.function outside of the loop. For (2), @tf.function has experimental_relax_shapes=True option that relaxes argument shapes that can avoid unnecessary retracing. For (3), please refer to https://www.tensorflow.org/guide/function#controlling_retracing and https://www.tensorflow.org/api_docs/python/tf/function for  more details.\n",
      "DemoHeuristicResult: reward: -48.99, fuel: 28.32, steps: 182.0, crashed: True, timeout: False, is_in_helipad: True, success: False\n",
      "WARNING:tensorflow:6 out of the last 20 calls to <function Scipy.eval_func.<locals>._tf_eval at 0x7fc8994f78c0> triggered tf.function retracing. Tracing is expensive and the excessive number of tracings could be due to (1) creating @tf.function repeatedly in a loop, (2) passing tensors with different shapes, (3) passing Python objects instead of tensors. For (1), please define your @tf.function outside of the loop. For (2), @tf.function has experimental_relax_shapes=True option that relaxes argument shapes that can avoid unnecessary retracing. For (3), please refer to https://www.tensorflow.org/guide/function#controlling_retracing and https://www.tensorflow.org/api_docs/python/tf/function for  more details.\n",
      "DemoHeuristicResult: reward: -7.01, fuel: 39.96, steps: 256.0, crashed: True, timeout: False, is_in_helipad: False, success: False\n",
      "DemoHeuristicResult: reward: -48.09, fuel: 16.14, steps: 118.0, crashed: True, timeout: False, is_in_helipad: False, success: False\n",
      "DemoHeuristicResult: reward: -93.68, fuel: 7.05, steps: 64.0, crashed: True, timeout: False, is_in_helipad: False, success: False\n",
      "DemoHeuristicResult: reward: -16.50, fuel: 9.99, steps: 94.0, crashed: True, timeout: False, is_in_helipad: True, success: False\n",
      "DemoHeuristicResult: reward: -30.90, fuel: 9.90, steps: 101.0, crashed: True, timeout: False, is_in_helipad: False, success: False\n",
      "DemoHeuristicResult: reward: -9.06, fuel: 37.47, steps: 220.0, crashed: True, timeout: False, is_in_helipad: True, success: False\n",
      "DemoHeuristicResult: reward: 10.73, fuel: 13.95, steps: 100.0, crashed: True, timeout: False, is_in_helipad: True, success: False\n",
      "DemoHeuristicResult: reward: -92.68, fuel: 184.20, steps: 1001.0, crashed: False, timeout: True, is_in_helipad: False, success: False\n",
      "DemoHeuristicResult: reward: 48.85, fuel: 57.42, steps: 348.0, crashed: True, timeout: False, is_in_helipad: True, success: False\n",
      "DemoHeuristicResult: reward: -126.23, fuel: 3.21, steps: 71.0, crashed: True, timeout: False, is_in_helipad: False, success: False\n",
      "DemoHeuristicResult: reward: -35.18, fuel: 8.67, steps: 67.0, crashed: True, timeout: False, is_in_helipad: False, success: False\n",
      "DemoHeuristicResult: reward: -130.57, fuel: 1.92, steps: 55.0, crashed: True, timeout: False, is_in_helipad: True, success: False\n",
      "DemoHeuristicResult: reward: -34.24, fuel: 180.69, steps: 1001.0, crashed: False, timeout: True, is_in_helipad: False, success: False\n",
      "DemoHeuristicResult: reward: -202.15, fuel: 85.20, steps: 464.0, crashed: True, timeout: False, is_in_helipad: False, success: False\n",
      "DemoHeuristicResult: reward: -27.41, fuel: 14.13, steps: 83.0, crashed: True, timeout: False, is_in_helipad: False, success: False\n",
      "DemoHeuristicResult: reward: -41.22, fuel: 18.36, steps: 144.0, crashed: True, timeout: False, is_in_helipad: False, success: False\n",
      "DemoHeuristicResult: reward: -5.61, fuel: 10.14, steps: 69.0, crashed: True, timeout: False, is_in_helipad: True, success: False\n",
      "DemoHeuristicResult: reward: -44.24, fuel: 14.01, steps: 116.0, crashed: True, timeout: False, is_in_helipad: False, success: False\n",
      "DemoHeuristicResult: reward: -141.58, fuel: 41.70, steps: 292.0, crashed: True, timeout: False, is_in_helipad: False, success: False\n",
      "DemoHeuristicResult: reward: -70.09, fuel: 66.45, steps: 461.0, crashed: True, timeout: False, is_in_helipad: True, success: False\n",
      "DemoHeuristicResult: reward: -526.46, fuel: 39.60, steps: 207.0, crashed: True, timeout: False, is_in_helipad: False, success: False\n",
      "DemoHeuristicResult: reward: -127.07, fuel: 0.33, steps: 69.0, crashed: True, timeout: False, is_in_helipad: True, success: False\n",
      "DemoHeuristicResult: reward: -164.47, fuel: 0.60, steps: 69.0, crashed: True, timeout: False, is_in_helipad: False, success: False\n",
      "DemoHeuristicResult: reward: -128.54, fuel: 0.24, steps: 67.0, crashed: True, timeout: False, is_in_helipad: False, success: False\n",
      "DemoHeuristicResult: reward: -243.80, fuel: 11.40, steps: 88.0, crashed: True, timeout: False, is_in_helipad: False, success: False\n",
      "Optimization completed without errors\n"
     ]
    }
   ],
   "source": [
    "bo = trieste.bayesian_optimizer.BayesianOptimizer(lander_observer, search_space)\n",
    "result = bo.optimize(30, initial_data, models, rule).final_result.unwrap()"
   ]
  },
  {
   "cell_type": "code",
   "execution_count": 23,
   "id": "1a45acf7",
   "metadata": {},
   "outputs": [],
   "source": [
    "data = result.datasets"
   ]
  },
  {
   "cell_type": "code",
   "execution_count": 24,
   "id": "2b387b04",
   "metadata": {},
   "outputs": [
    {
     "name": "stdout",
     "output_type": "stream",
     "text": [
      "OBJECTIVE: 1\n",
      "CRASH: 59\n",
      "TIMEOUT: 61\n",
      "OUTSIDE: 2\n"
     ]
    }
   ],
   "source": [
    "for tag in [OBJECTIVE, CRASH, TIMEOUT, OUTSIDE]:\n",
    "    print(f\"{tag}: {len(data[tag])}\")"
   ]
  },
  {
   "cell_type": "code",
   "execution_count": 25,
   "id": "276d8159",
   "metadata": {},
   "outputs": [],
   "source": [
    "import importlib.util\n",
    "spec = importlib.util.spec_from_file_location(\"plotting\", \"../docs/notebooks/util/plotting.py\")\n",
    "plotting = importlib.util.module_from_spec(spec)\n",
    "spec.loader.exec_module(plotting)"
   ]
  },
  {
   "cell_type": "code",
   "execution_count": 26,
   "id": "a121d2d8",
   "metadata": {},
   "outputs": [
    {
     "data": {
      "image/png": "[encoded data removed]",
      "text/plain": [
       "<Figure size 432x288 with 1 Axes>"
      ]
     },
     "metadata": {
      "needs_background": "light"
     },
     "output_type": "display_data"
    }
   ],
   "source": [
    "import numpy as np\n",
    "import tensorflow as tf\n",
    "import matplotlib.pyplot as plt\n",
    "\n",
    "from trieste.acquisition import AcquisitionFunction\n",
    "from trieste.types import TensorType\n",
    "from trieste.utils import to_numpy\n",
    "from trieste.acquisition.multi_objective.dominance import non_dominated\n",
    "\n",
    "\n",
    "\n",
    "fig, ax = plt.subplots(1, 1)\n",
    "plotting.plot_regret(\n",
    "    data[OBJECTIVE].observations.numpy(),\n",
    "    ax,\n",
    "    num_init=len(initial_data[OBJECTIVE])\n",
    ")\n",
    "\n"
   ]
  },
  {
   "cell_type": "code",
   "execution_count": null,
   "id": "c075ce22",
   "metadata": {},
   "outputs": [],
   "source": []
  }
 ],
 "metadata": {
  "kernelspec": {
   "display_name": "Python 3 (ipykernel)",
   "language": "python",
   "name": "python3"
  },
  "language_info": {
   "codemirror_mode": {
    "name": "ipython",
    "version": 3
   },
   "file_extension": ".py",
   "mimetype": "text/x-python",
   "name": "python",
   "nbconvert_exporter": "python",
   "pygments_lexer": "ipython3",
   "version": "3.7.5"
  }
 },
 "nbformat": 4,
 "nbformat_minor": 5
}
