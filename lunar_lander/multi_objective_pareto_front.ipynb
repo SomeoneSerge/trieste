{
 "cells": [
  {
   "cell_type": "code",
   "execution_count": 1,
   "id": "2a2ac072",
   "metadata": {},
   "outputs": [
    {
     "name": "stderr",
     "output_type": "stream",
     "text": [
      "2021-12-03 15:18:38.111839: W tensorflow/stream_executor/platform/default/dso_loader.cc:64] Could not load dynamic library 'libcudart.so.11.0'; dlerror: libcudart.so.11.0: cannot open shared object file: No such file or directory\n",
      "2021-12-03 15:18:38.111858: I tensorflow/stream_executor/cuda/cudart_stub.cc:29] Ignore above cudart dlerror if you do not have a GPU set up on your machine.\n",
      "2021-12-03 15:18:39.222151: I tensorflow/stream_executor/platform/default/dso_loader.cc:53] Successfully opened dynamic library libcuda.so.1\n",
      "2021-12-03 15:18:39.244155: I tensorflow/stream_executor/cuda/cuda_gpu_executor.cc:937] successful NUMA node read from SysFS had negative value (-1), but there must be at least one NUMA node, so returning NUMA node zero\n",
      "2021-12-03 15:18:39.244480: I tensorflow/core/common_runtime/gpu/gpu_device.cc:1733] Found device 0 with properties: \n",
      "pciBusID: 0000:01:00.0 name: GeForce GTX 1070 computeCapability: 6.1\n",
      "coreClock: 1.683GHz coreCount: 15 deviceMemorySize: 7.93GiB deviceMemoryBandwidth: 238.66GiB/s\n",
      "2021-12-03 15:18:39.244564: W tensorflow/stream_executor/platform/default/dso_loader.cc:64] Could not load dynamic library 'libcudart.so.11.0'; dlerror: libcudart.so.11.0: cannot open shared object file: No such file or directory\n",
      "2021-12-03 15:18:39.244610: W tensorflow/stream_executor/platform/default/dso_loader.cc:64] Could not load dynamic library 'libcublas.so.11'; dlerror: libcublas.so.11: cannot open shared object file: No such file or directory\n",
      "2021-12-03 15:18:39.244652: W tensorflow/stream_executor/platform/default/dso_loader.cc:64] Could not load dynamic library 'libcublasLt.so.11'; dlerror: libcublasLt.so.11: cannot open shared object file: No such file or directory\n",
      "2021-12-03 15:18:39.244693: W tensorflow/stream_executor/platform/default/dso_loader.cc:64] Could not load dynamic library 'libcufft.so.10'; dlerror: libcufft.so.10: cannot open shared object file: No such file or directory\n",
      "2021-12-03 15:18:39.244736: W tensorflow/stream_executor/platform/default/dso_loader.cc:64] Could not load dynamic library 'libcurand.so.10'; dlerror: libcurand.so.10: cannot open shared object file: No such file or directory\n",
      "2021-12-03 15:18:39.244775: W tensorflow/stream_executor/platform/default/dso_loader.cc:64] Could not load dynamic library 'libcusolver.so.11'; dlerror: libcusolver.so.11: cannot open shared object file: No such file or directory\n",
      "2021-12-03 15:18:39.244815: W tensorflow/stream_executor/platform/default/dso_loader.cc:64] Could not load dynamic library 'libcusparse.so.11'; dlerror: libcusparse.so.11: cannot open shared object file: No such file or directory\n",
      "2021-12-03 15:18:39.244925: I tensorflow/stream_executor/platform/default/dso_loader.cc:53] Successfully opened dynamic library libcudnn.so.8\n",
      "2021-12-03 15:18:39.244933: W tensorflow/core/common_runtime/gpu/gpu_device.cc:1766] Cannot dlopen some GPU libraries. Please make sure the missing libraries mentioned above are installed properly if you would like to use GPU. Follow the guide at https://www.tensorflow.org/install/gpu for how to download and setup the required libraries for your platform.\n",
      "Skipping registering GPU devices...\n",
      "2021-12-03 15:18:39.245437: I tensorflow/core/platform/cpu_feature_guard.cc:142] This TensorFlow binary is optimized with oneAPI Deep Neural Network Library (oneDNN) to use the following CPU instructions in performance-critical operations:  AVX2 FMA\n",
      "To enable them in other operations, rebuild TensorFlow with the appropriate compiler flags.\n",
      "2021-12-03 15:18:39.245731: I tensorflow/core/common_runtime/gpu/gpu_device.cc:1258] Device interconnect StreamExecutor with strength 1 edge matrix:\n",
      "2021-12-03 15:18:39.245743: I tensorflow/core/common_runtime/gpu/gpu_device.cc:1264]      \n"
     ]
    }
   ],
   "source": [
    "import numpy as np\n",
    "\n",
    "import lunar_lander\n",
    "from turbo_test import demo_heuristic_lander\n",
    "import tensorflow as tf\n",
    "import tensorflow_probability as tfp\n",
    "import trieste\n",
    "\n",
    "import timeit"
   ]
  },
  {
   "cell_type": "code",
   "execution_count": 2,
   "id": "e0a64fe8",
   "metadata": {},
   "outputs": [],
   "source": [
    "# this space is created by going approximately +-0.2 around parameter values, but not going below 0\n",
    "# see for original values https://github.com/openai/gym/blob/master/gym/envs/box2d/lunar_lander.py\n",
    "# original values are\n",
    "# 0.5 1 0.4 0.55 0.5 1 0.5 0.5 0 0.5 0.05 0.05\n",
    "# and for parameter definition https://github.com/uber-research/TuRBO\n",
    "search_space = trieste.space.Box(\n",
    "    [0.3, 0.8, 0.2, 0.35, 0.3, 0.8, 0.3, 0.3, 0.0, 0.3, 0.0,  0.0],\n",
    "    [0.7, 1.2, 0.6, 0.75, 0.7, 1.2, 0.7, 0.7, 0.2, 0.7, 0.25, 0.25]\n",
    ")\n",
    "\n",
    "# lander landed, minimize fuel\n",
    "FUEL = \"FUEL\"\n",
    "# minimize failures, when the lander crashes or times out\n",
    "FAILURE = \"FAILURE\""
   ]
  },
  {
   "cell_type": "code",
   "execution_count": 3,
   "id": "74f2af3a",
   "metadata": {},
   "outputs": [],
   "source": [
    "create_empty_dataset = lambda : trieste.data.Dataset(\n",
    "                                    tf.zeros((0, search_space.dimension), tf.float64),\n",
    "                                    tf.zeros((0, 1), tf.float64)\n",
    "                                )\n",
    "\n",
    "def lander_observer(x):\n",
    "    all_datasets = {\n",
    "        FUEL: create_empty_dataset(),\n",
    "        FAILURE: create_empty_dataset()\n",
    "    }\n",
    "\n",
    "    def add_data(dataset_tag, x, y):\n",
    "        new_dataset = trieste.data.Dataset(np.atleast_2d(x), np.atleast_2d(y))\n",
    "        all_datasets[dataset_tag] += new_dataset\n",
    "\n",
    "    for w in x.numpy():\n",
    "        result = demo_heuristic_lander(lunar_lander.LunarLander(), w)\n",
    "        # that's different from constrained optimization\n",
    "        # because now we want to minimize failure\n",
    "        # and not penalize by it\n",
    "        # thus we flip the 1 and 0 values in this dataset\n",
    "        if result.timeout or result.has_crashed:\n",
    "            add_data(FAILURE, w, 1.0)\n",
    "            continue\n",
    "        else:\n",
    "            add_data(FAILURE, w, 0.0)\n",
    "\n",
    "        normalized_fuel = np.float64(result.total_fuel / 100.0)\n",
    "        add_data(FUEL, w, normalized_fuel)\n",
    "    \n",
    "    return all_datasets"
   ]
  },
  {
   "cell_type": "code",
   "execution_count": 4,
   "id": "83939974",
   "metadata": {},
   "outputs": [
    {
     "name": "stdout",
     "output_type": "stream",
     "text": [
      "DemoHeuristicResult: reward: -12.62, fuel: 10.71, steps: 84.0, crashed: True, timeout: False, is_in_helipad: True, success: False\n",
      "DemoHeuristicResult: reward: -87.42, fuel: 166.95, steps: 1001.0, crashed: False, timeout: True, is_in_helipad: False, success: False\n",
      "DemoHeuristicResult: reward: 238.72, fuel: 23.34, steps: 266.0, crashed: False, timeout: False, is_in_helipad: True, success: True\n",
      "DemoHeuristicResult: reward: -17.19, fuel: 13.80, steps: 106.0, crashed: True, timeout: False, is_in_helipad: True, success: False\n",
      "DemoHeuristicResult: reward: 40.95, fuel: 14.01, steps: 90.0, crashed: True, timeout: False, is_in_helipad: False, success: False\n",
      "DemoHeuristicResult: reward: 39.30, fuel: 15.48, steps: 98.0, crashed: True, timeout: False, is_in_helipad: False, success: False\n",
      "DemoHeuristicResult: reward: -27.73, fuel: 9.72, steps: 89.0, crashed: True, timeout: False, is_in_helipad: False, success: False\n",
      "DemoHeuristicResult: reward: -0.66, fuel: 17.91, steps: 103.0, crashed: True, timeout: False, is_in_helipad: True, success: False\n",
      "DemoHeuristicResult: reward: -66.68, fuel: 8.37, steps: 88.0, crashed: True, timeout: False, is_in_helipad: False, success: False\n",
      "DemoHeuristicResult: reward: -3.96, fuel: 14.19, steps: 108.0, crashed: True, timeout: False, is_in_helipad: False, success: False\n",
      "DemoHeuristicResult: reward: 248.04, fuel: 32.94, steps: 351.0, crashed: False, timeout: False, is_in_helipad: True, success: True\n",
      "DemoHeuristicResult: reward: -32.50, fuel: 12.24, steps: 113.0, crashed: True, timeout: False, is_in_helipad: False, success: False\n",
      "DemoHeuristicResult: reward: 47.73, fuel: 11.13, steps: 135.0, crashed: True, timeout: False, is_in_helipad: False, success: False\n",
      "DemoHeuristicResult: reward: 244.93, fuel: 26.52, steps: 303.0, crashed: False, timeout: False, is_in_helipad: True, success: True\n",
      "DemoHeuristicResult: reward: -48.30, fuel: 7.41, steps: 75.0, crashed: True, timeout: False, is_in_helipad: False, success: False\n",
      "DemoHeuristicResult: reward: 21.11, fuel: 22.77, steps: 127.0, crashed: True, timeout: False, is_in_helipad: True, success: False\n",
      "DemoHeuristicResult: reward: 233.00, fuel: 24.66, steps: 292.0, crashed: False, timeout: False, is_in_helipad: True, success: True\n",
      "DemoHeuristicResult: reward: 4.51, fuel: 12.09, steps: 104.0, crashed: True, timeout: False, is_in_helipad: True, success: False\n",
      "DemoHeuristicResult: reward: -11.93, fuel: 12.63, steps: 79.0, crashed: True, timeout: False, is_in_helipad: False, success: False\n",
      "DemoHeuristicResult: reward: 276.64, fuel: 21.30, steps: 301.0, crashed: False, timeout: False, is_in_helipad: True, success: True\n",
      "DemoHeuristicResult: reward: -41.42, fuel: 4.23, steps: 58.0, crashed: True, timeout: False, is_in_helipad: True, success: False\n",
      "DemoHeuristicResult: reward: -45.79, fuel: 135.39, steps: 1001.0, crashed: False, timeout: True, is_in_helipad: False, success: False\n",
      "DemoHeuristicResult: reward: -41.67, fuel: 6.00, steps: 78.0, crashed: True, timeout: False, is_in_helipad: True, success: False\n",
      "DemoHeuristicResult: reward: 54.23, fuel: 30.36, steps: 190.0, crashed: True, timeout: False, is_in_helipad: True, success: False\n",
      "DemoHeuristicResult: reward: 238.85, fuel: 28.47, steps: 284.0, crashed: False, timeout: False, is_in_helipad: True, success: True\n",
      "DemoHeuristicResult: reward: -77.40, fuel: 40.35, steps: 232.0, crashed: True, timeout: False, is_in_helipad: False, success: False\n",
      "DemoHeuristicResult: reward: -64.18, fuel: 11.13, steps: 103.0, crashed: True, timeout: False, is_in_helipad: False, success: False\n",
      "DemoHeuristicResult: reward: 255.86, fuel: 56.31, steps: 434.0, crashed: False, timeout: False, is_in_helipad: True, success: True\n",
      "DemoHeuristicResult: reward: -41.60, fuel: 5.70, steps: 82.0, crashed: True, timeout: False, is_in_helipad: True, success: False\n",
      "DemoHeuristicResult: reward: 24.88, fuel: 18.72, steps: 126.0, crashed: True, timeout: False, is_in_helipad: False, success: False\n",
      "DemoHeuristicResult: reward: 6.38, fuel: 15.27, steps: 116.0, crashed: True, timeout: False, is_in_helipad: False, success: False\n",
      "DemoHeuristicResult: reward: 225.61, fuel: 25.14, steps: 345.0, crashed: False, timeout: False, is_in_helipad: True, success: True\n",
      "DemoHeuristicResult: reward: 268.40, fuel: 48.54, steps: 330.0, crashed: False, timeout: False, is_in_helipad: True, success: True\n",
      "DemoHeuristicResult: reward: -19.69, fuel: 9.84, steps: 101.0, crashed: True, timeout: False, is_in_helipad: False, success: False\n",
      "DemoHeuristicResult: reward: 9.23, fuel: 19.59, steps: 138.0, crashed: True, timeout: False, is_in_helipad: False, success: False\n",
      "DemoHeuristicResult: reward: 1.04, fuel: 15.30, steps: 99.0, crashed: True, timeout: False, is_in_helipad: True, success: False\n",
      "DemoHeuristicResult: reward: -0.28, fuel: 17.88, steps: 118.0, crashed: True, timeout: False, is_in_helipad: True, success: False\n",
      "DemoHeuristicResult: reward: 25.71, fuel: 16.29, steps: 89.0, crashed: True, timeout: False, is_in_helipad: True, success: False\n",
      "DemoHeuristicResult: reward: 4.40, fuel: 28.47, steps: 177.0, crashed: True, timeout: False, is_in_helipad: True, success: False\n",
      "DemoHeuristicResult: reward: 218.21, fuel: 32.79, steps: 313.0, crashed: False, timeout: False, is_in_helipad: True, success: True\n",
      "DemoHeuristicResult: reward: 8.30, fuel: 12.06, steps: 76.0, crashed: True, timeout: False, is_in_helipad: False, success: False\n",
      "DemoHeuristicResult: reward: -143.57, fuel: 62.01, steps: 492.0, crashed: True, timeout: False, is_in_helipad: False, success: False\n",
      "DemoHeuristicResult: reward: 22.82, fuel: 14.31, steps: 112.0, crashed: True, timeout: False, is_in_helipad: True, success: False\n",
      "DemoHeuristicResult: reward: 37.13, fuel: 26.70, steps: 157.0, crashed: True, timeout: False, is_in_helipad: False, success: False\n",
      "DemoHeuristicResult: reward: 35.80, fuel: 35.82, steps: 222.0, crashed: True, timeout: False, is_in_helipad: True, success: False\n",
      "DemoHeuristicResult: reward: 19.53, fuel: 12.00, steps: 79.0, crashed: True, timeout: False, is_in_helipad: True, success: False\n",
      "DemoHeuristicResult: reward: 23.98, fuel: 10.86, steps: 66.0, crashed: True, timeout: False, is_in_helipad: False, success: False\n",
      "DemoHeuristicResult: reward: -143.32, fuel: 31.14, steps: 252.0, crashed: True, timeout: False, is_in_helipad: False, success: False\n",
      "DemoHeuristicResult: reward: -3.85, fuel: 9.06, steps: 82.0, crashed: True, timeout: False, is_in_helipad: True, success: False\n",
      "DemoHeuristicResult: reward: 261.80, fuel: 38.85, steps: 316.0, crashed: False, timeout: False, is_in_helipad: True, success: True\n",
      "DemoHeuristicResult: reward: -2.09, fuel: 16.95, steps: 116.0, crashed: True, timeout: False, is_in_helipad: True, success: False\n",
      "DemoHeuristicResult: reward: -12.65, fuel: 13.02, steps: 101.0, crashed: True, timeout: False, is_in_helipad: False, success: False\n",
      "DemoHeuristicResult: reward: 27.47, fuel: 12.75, steps: 70.0, crashed: True, timeout: False, is_in_helipad: False, success: False\n",
      "DemoHeuristicResult: reward: -20.22, fuel: 9.42, steps: 70.0, crashed: True, timeout: False, is_in_helipad: False, success: False\n",
      "DemoHeuristicResult: reward: 85.78, fuel: 118.32, steps: 1001.0, crashed: False, timeout: True, is_in_helipad: False, success: False\n",
      "DemoHeuristicResult: reward: 14.14, fuel: 8.73, steps: 63.0, crashed: True, timeout: False, is_in_helipad: True, success: False\n",
      "DemoHeuristicResult: reward: 27.18, fuel: 12.36, steps: 86.0, crashed: True, timeout: False, is_in_helipad: True, success: False\n",
      "DemoHeuristicResult: reward: 8.83, fuel: 9.93, steps: 75.0, crashed: True, timeout: False, is_in_helipad: True, success: False\n",
      "DemoHeuristicResult: reward: 12.46, fuel: 12.54, steps: 110.0, crashed: True, timeout: False, is_in_helipad: False, success: False\n",
      "DemoHeuristicResult: reward: -8.48, fuel: 11.10, steps: 82.0, crashed: True, timeout: False, is_in_helipad: True, success: False\n",
      "DemoHeuristicResult: reward: 22.25, fuel: 19.98, steps: 134.0, crashed: True, timeout: False, is_in_helipad: True, success: False\n",
      "DemoHeuristicResult: reward: -53.09, fuel: 10.92, steps: 94.0, crashed: True, timeout: False, is_in_helipad: False, success: False\n",
      "DemoHeuristicResult: reward: 261.34, fuel: 79.65, steps: 528.0, crashed: False, timeout: False, is_in_helipad: True, success: True\n",
      "12\n",
      "63\n"
     ]
    }
   ],
   "source": [
    "num_initial_points = 1\n",
    "initial_query_points = search_space.sample(1)\n",
    "initial_data = lander_observer(initial_query_points)\n",
    "\n",
    "# collect points until we have at least one in each dataset\n",
    "while any(len(initial_data[tag]) < search_space.dimension for tag in initial_data):\n",
    "    initial_query_points = search_space.sample(1)\n",
    "    new_initial_data = lander_observer(initial_query_points)\n",
    "    for tag in initial_data:\n",
    "        initial_data[tag] = initial_data[tag] + new_initial_data[tag]\n",
    "    num_initial_points += 1\n",
    "\n",
    "\n",
    "print(len(initial_data[FUEL]))\n",
    "print(len(initial_data[FAILURE]))\n"
   ]
  },
  {
   "cell_type": "code",
   "execution_count": 9,
   "id": "8178176c",
   "metadata": {},
   "outputs": [],
   "source": [
    "import gpflow\n",
    "\n",
    "\n",
    "def create_regression_model(data):\n",
    "    variance = tf.math.reduce_variance(data.observations)\n",
    "    kernel = gpflow.kernels.Matern52(variance, lengthscales=[0.2]*int(search_space.dimension))\n",
    "    scale = tf.constant(1.0, dtype=tf.float64)\n",
    "    kernel.variance.prior = tfp.distributions.LogNormal(\n",
    "        tf.constant(-2.0, dtype=tf.float64), scale\n",
    "    )\n",
    "    kernel.lengthscales.prior = tfp.distributions.LogNormal(\n",
    "        tf.math.log(kernel.lengthscales), scale\n",
    "    )\n",
    "    gpr = gpflow.models.GPR(data.astuple(), kernel)\n",
    "    return gpr\n",
    "\n",
    "\n",
    "def create_classification_model(data):\n",
    "    kernel = gpflow.kernels.SquaredExponential(\n",
    "        lengthscales=[0.2]*int(search_space.dimension)\n",
    "    )\n",
    "    likelihood = gpflow.likelihoods.Bernoulli()\n",
    "    vgp = gpflow.models.VGP(data.astuple(), kernel, likelihood)\n",
    "    return vgp\n",
    "\n",
    "from trieste.models.gpflow import GPflowModelConfig\n",
    "\n",
    "classification_model_config_args = {\n",
    "    \"model_args\": {\"use_natgrads\": True},\n",
    "    \"optimizer\": tf.optimizers.Adam(1e-3),\n",
    "    \"optimizer_args\": {\"max_iter\": 50},\n",
    "}\n",
    "models = {\n",
    "    FUEL: GPflowModelConfig(**{\n",
    "        \"model\": create_regression_model(initial_data[FUEL]),\n",
    "        \"optimizer\": gpflow.optimizers.Scipy(),\n",
    "    }),\n",
    "    FAILURE: GPflowModelConfig(\n",
    "        create_classification_model(initial_data[FAILURE]),\n",
    "        **classification_model_config_args\n",
    "    )\n",
    "}"
   ]
  },
  {
   "cell_type": "code",
   "execution_count": 6,
   "id": "0b24aba7",
   "metadata": {},
   "outputs": [],
   "source": [
    "# class SpecialModelStack(trieste.models.ModelStack):\n",
    "#     \"\"\" Special treatment of predict_joint used in sampler\n",
    "#     \"\"\"\n",
    "#     def __init__(self, models_dict):\n",
    "#         super().__init__((models_dict[FUEL], 1), (models_dict[FAILURE], 1))\n",
    "#         self._models_dict = models_dict\n",
    "\n",
    "#     def predict(self, query_points):\n",
    "#         fuel_mean, fuel_var = self._models_dict[FUEL].predict(query_points)\n",
    "#         failure_mean, failure_var = self._models_dict[FAILURE].predict_y(query_points)\n",
    "#         return tf.concat([fuel_mean, failure_mean], axis=-1), tf.concat([fuel_var, failure_var], axis=-1)\n",
    "\n",
    "\n",
    "class SpecialSampler(trieste.acquisition.sampler.IndependentReparametrizationSampler):\n",
    "    def sample(self, at, jitter=0.0):\n",
    "        sample = super().sample(at, jitter)\n",
    "\n",
    "        fuel_part = sample[:, :, :, 0]\n",
    "        failure_part = sample[:, :, :, 1]\n",
    "        \n",
    "        failure_part = self._model._models[1]._model.likelihood.invlink(failure_part)\n",
    "        \n",
    "        sample = tf.stack([fuel_part, failure_part], axis=-1)\n",
    "        \n",
    "        return sample\n",
    "\n",
    "\n",
    "class SpecialBatchMonteCarloExpectedHypervolumeImprovement(trieste.acquisition.function.AcquisitionFunctionBuilder):\n",
    "    \"\"\" The one in trieste is single model, and we need to pass two models and two datasets\n",
    "    \"\"\"\n",
    "\n",
    "    def __init__(self, sample_size: int, *, jitter: float = trieste.utils.misc.DEFAULTS.JITTER):\n",
    "        \"\"\"\n",
    "        :param sample_size: The number of samples from model predicted distribution for\n",
    "            each batch of points.\n",
    "        :param jitter: The size of the jitter to use when stabilising the Cholesky decomposition of\n",
    "            the covariance matrix.\n",
    "        :raise ValueError (or InvalidArgumentError): If ``sample_size`` is not positive, or\n",
    "            ``jitter`` is negative.\n",
    "        \"\"\"\n",
    "        tf.debugging.assert_positive(sample_size)\n",
    "        tf.debugging.assert_greater_equal(jitter, 0.0)\n",
    "\n",
    "        super().__init__()\n",
    "\n",
    "        self._sample_size = sample_size\n",
    "        self._jitter = jitter\n",
    "\n",
    "    def __repr__(self) -> str:\n",
    "        \"\"\"\"\"\"\n",
    "        return (\n",
    "            f\"SpecialBatchMonteCarloExpectedHypervolumeImprovement({self._sample_size!r},\"\n",
    "            f\" jitter={self._jitter!r})\"\n",
    "        )\n",
    "\n",
    "    def prepare_acquisition_function(\n",
    "        self,\n",
    "        models,\n",
    "        datasets,\n",
    "    ):\n",
    "        # failure dataset will have all points\n",
    "        # while fuel only successful ones\n",
    "        query_points = datasets[FAILURE].query_points\n",
    "        \n",
    "        # [0] is because we only need mean and not variance\n",
    "        means = tf.concat([models[FUEL].predict(query_points)[0], models[FAILURE].predict_y(query_points)[0]], axis=-1)\n",
    "        _pf = trieste.acquisition.multi_objective.pareto.Pareto(means)\n",
    "        _reference_pt = trieste.acquisition.multi_objective.pareto.get_reference_point(_pf.front)\n",
    "        # prepare the partitioned bounds of non-dominated region for calculating of the\n",
    "        # hypervolume improvement in this area\n",
    "        _partition_bounds = trieste.acquisition.multi_objective.partition.prepare_default_non_dominated_partition_bounds(_reference_pt, _pf.front)\n",
    "\n",
    "        models = [(models[FUEL], 1), (models[FAILURE], 1)]\n",
    "        sampler = SpecialSampler(self._sample_size, trieste.models.interfaces.ModelStack(*models))\n",
    "\n",
    "        return trieste.acquisition.function.batch_ehvi(sampler, self._jitter, _partition_bounds)"
   ]
  },
  {
   "cell_type": "code",
   "execution_count": 10,
   "id": "b00f83dc",
   "metadata": {},
   "outputs": [
    {
     "name": "stdout",
     "output_type": "stream",
     "text": [
      "DemoHeuristicResult: reward: 243.45, fuel: 36.66, steps: 379.0, crashed: False, timeout: False, is_in_helipad: True, success: True\n",
      "DemoHeuristicResult: reward: -223.61, fuel: 69.36, steps: 668.0, crashed: True, timeout: False, is_in_helipad: False, success: False\n",
      "DemoHeuristicResult: reward: 68.96, fuel: 30.15, steps: 186.0, crashed: True, timeout: False, is_in_helipad: True, success: False\n",
      "DemoHeuristicResult: reward: 67.27, fuel: 162.93, steps: 1001.0, crashed: False, timeout: True, is_in_helipad: False, success: False\n",
      "DemoHeuristicResult: reward: -98.00, fuel: 157.02, steps: 1001.0, crashed: False, timeout: True, is_in_helipad: False, success: False\n",
      "DemoHeuristicResult: reward: 145.88, fuel: 78.90, steps: 1001.0, crashed: False, timeout: True, is_in_helipad: False, success: False\n",
      "DemoHeuristicResult: reward: 36.13, fuel: 104.55, steps: 1001.0, crashed: False, timeout: True, is_in_helipad: False, success: False\n",
      "DemoHeuristicResult: reward: 55.71, fuel: 145.53, steps: 1001.0, crashed: False, timeout: True, is_in_helipad: False, success: False\n",
      "DemoHeuristicResult: reward: 27.05, fuel: 155.88, steps: 1001.0, crashed: False, timeout: True, is_in_helipad: False, success: False\n",
      "DemoHeuristicResult: reward: 169.16, fuel: 104.31, steps: 894.0, crashed: False, timeout: False, is_in_helipad: True, success: True\n",
      "DemoHeuristicResult: reward: 33.44, fuel: 157.65, steps: 1001.0, crashed: False, timeout: True, is_in_helipad: False, success: False\n",
      "DemoHeuristicResult: reward: 53.92, fuel: 164.70, steps: 1001.0, crashed: False, timeout: True, is_in_helipad: False, success: False\n",
      "DemoHeuristicResult: reward: 35.44, fuel: 167.46, steps: 1001.0, crashed: False, timeout: True, is_in_helipad: False, success: False\n",
      "DemoHeuristicResult: reward: -218.74, fuel: 48.90, steps: 415.0, crashed: True, timeout: False, is_in_helipad: False, success: False\n",
      "DemoHeuristicResult: reward: 211.45, fuel: 37.89, steps: 336.0, crashed: False, timeout: False, is_in_helipad: False, success: False\n",
      "DemoHeuristicResult: reward: 45.73, fuel: 24.75, steps: 142.0, crashed: True, timeout: False, is_in_helipad: True, success: False\n",
      "DemoHeuristicResult: reward: -101.96, fuel: 41.46, steps: 329.0, crashed: True, timeout: False, is_in_helipad: False, success: False\n",
      "DemoHeuristicResult: reward: 36.63, fuel: 145.71, steps: 1001.0, crashed: False, timeout: True, is_in_helipad: False, success: False\n",
      "DemoHeuristicResult: reward: 35.54, fuel: 166.92, steps: 1001.0, crashed: False, timeout: True, is_in_helipad: False, success: False\n",
      "DemoHeuristicResult: reward: 19.42, fuel: 186.09, steps: 1001.0, crashed: False, timeout: True, is_in_helipad: False, success: False\n",
      "DemoHeuristicResult: reward: 121.32, fuel: 56.76, steps: 1001.0, crashed: False, timeout: True, is_in_helipad: False, success: False\n",
      "DemoHeuristicResult: reward: -239.66, fuel: 16.05, steps: 98.0, crashed: True, timeout: False, is_in_helipad: False, success: False\n",
      "DemoHeuristicResult: reward: 40.53, fuel: 155.19, steps: 1001.0, crashed: False, timeout: True, is_in_helipad: False, success: False\n",
      "DemoHeuristicResult: reward: 22.35, fuel: 166.02, steps: 1001.0, crashed: False, timeout: True, is_in_helipad: False, success: False\n",
      "DemoHeuristicResult: reward: -0.72, fuel: 21.72, steps: 137.0, crashed: True, timeout: False, is_in_helipad: True, success: False\n",
      "DemoHeuristicResult: reward: -22.30, fuel: 168.54, steps: 1001.0, crashed: False, timeout: True, is_in_helipad: False, success: False\n",
      "DemoHeuristicResult: reward: 222.67, fuel: 31.74, steps: 280.0, crashed: False, timeout: False, is_in_helipad: True, success: True\n",
      "DemoHeuristicResult: reward: -187.62, fuel: 73.86, steps: 599.0, crashed: True, timeout: False, is_in_helipad: False, success: False\n",
      "DemoHeuristicResult: reward: 18.84, fuel: 171.45, steps: 1001.0, crashed: False, timeout: True, is_in_helipad: False, success: False\n",
      "DemoHeuristicResult: reward: -4.28, fuel: 176.67, steps: 1001.0, crashed: False, timeout: True, is_in_helipad: False, success: False\n",
      "Optimization completed without errors\n"
     ]
    }
   ],
   "source": [
    "from trieste.acquisition.rule import EfficientGlobalOptimization\n",
    "\n",
    "BATCH_SIZE = 1\n",
    "ITERATIONS = 30\n",
    "\n",
    "mc_ehvi = SpecialBatchMonteCarloExpectedHypervolumeImprovement(sample_size=5)\n",
    "rule = EfficientGlobalOptimization(mc_ehvi, num_query_points=BATCH_SIZE)\n",
    "\n",
    "\n",
    "bo = trieste.bayesian_optimizer.BayesianOptimizer(lander_observer, search_space)\n",
    "start = timeit.default_timer()\n",
    "result = bo.optimize(ITERATIONS, initial_data, models, rule).final_result.unwrap()\n",
    "stop = timeit.default_timer()"
   ]
  },
  {
   "cell_type": "code",
   "execution_count": 11,
   "id": "d1ce55ed",
   "metadata": {},
   "outputs": [],
   "source": [
    "import matplotlib.pyplot as plt\n",
    "\n",
    "# fancy code to import trieste notebook plotting utils\n",
    "import importlib.util\n",
    "spec = importlib.util.spec_from_file_location(\"plotting\", \"../docs/notebooks/util/plotting.py\")\n",
    "plotting = importlib.util.module_from_spec(spec)\n",
    "spec.loader.exec_module(plotting)"
   ]
  },
  {
   "cell_type": "code",
   "execution_count": 12,
   "id": "cbc5c79d",
   "metadata": {},
   "outputs": [
    {
     "data": {
      "image/png": "[encoded data removed]",
      "text/plain": [
       "<Figure size 432x288 with 1 Axes>"
      ]
     },
     "metadata": {
      "needs_background": "light"
     },
     "output_type": "display_data"
    },
    {
     "data": {
      "image/png": "[encoded data removed]",
      "text/plain": [
       "<Figure size 432x288 with 1 Axes>"
      ]
     },
     "metadata": {
      "needs_background": "light"
     },
     "output_type": "display_data"
    }
   ],
   "source": [
    "all_query_points = result.datasets[FAILURE].query_points\n",
    "objective_model_values, _ = result.models[FUEL].predict(all_query_points)\n",
    "failure_model_values, _ = result.models[FAILURE].predict_y(all_query_points)\n",
    "\n",
    "plt.scatter(objective_model_values, failure_model_values);\n",
    "plt.xlabel(\"Fuel spent, x0.01\");\n",
    "plt.ylabel(\"Probability of failure\");\n",
    "plt.show();\n",
    "\n",
    "points_in_objective_space = tf.concat([objective_model_values, failure_model_values], axis=1)\n",
    "plotting.plot_mobo_points_in_obj_space(points_in_objective_space, num_init=num_initial_points)\n",
    "plt.xlabel(\"Fuel spent, x0.01\");\n",
    "plt.ylabel(\"Probability of failure\");\n",
    "plt.show();"
   ]
  },
  {
   "cell_type": "code",
   "execution_count": 13,
   "id": "957023bf",
   "metadata": {},
   "outputs": [
    {
     "data": {
      "text/plain": [
       "<Parameter: dtype=float64, shape=[12], fn=\"softplus\", numpy=\n",
       "array([0.07486973, 0.07421553, 0.07425151, 0.07451937, 0.07491842,\n",
       "       0.07442627, 0.0749561 , 0.07451472, 0.07373795, 0.07424941,\n",
       "       0.07421946, 0.07380003])>"
      ]
     },
     "execution_count": 13,
     "metadata": {},
     "output_type": "execute_result"
    }
   ],
   "source": [
    "result.models[FUEL]._model.kernel.lengthscales"
   ]
  },
  {
   "cell_type": "code",
   "execution_count": 14,
   "id": "e5250187",
   "metadata": {
    "scrolled": true
   },
   "outputs": [
    {
     "data": {
      "text/plain": [
       "<Parameter: dtype=float64, shape=[12], fn=\"softplus\", numpy=\n",
       "array([0.52189341, 0.55681554, 0.55805813, 0.55106645, 0.62265023,\n",
       "       0.58089477, 0.55234606, 0.52440568, 0.59481161, 0.56967911,\n",
       "       0.52027617, 0.49786021])>"
      ]
     },
     "execution_count": 14,
     "metadata": {},
     "output_type": "execute_result"
    }
   ],
   "source": [
    "result.models[FAILURE]._model.kernel.lengthscales"
   ]
  },
  {
   "cell_type": "code",
   "execution_count": 15,
   "id": "cd090164",
   "metadata": {},
   "outputs": [
    {
     "data": {
      "text/html": [
       "&lt;trieste.models.gpflow.models.VGPWrapper object at 0x7f5949f0cf10&gt;\n",
       "<table>\n",
       "<thead>\n",
       "<tr><th>name                          </th><th>class           </th><th>transform     </th><th>prior  </th><th>trainable  </th><th>shape      </th><th>dtype  </th><th>value                                               </th></tr>\n",
       "</thead>\n",
       "<tbody>\n",
       "<tr><td>VGPWrapper.kernel.variance    </td><td>Parameter       </td><td>Softplus      </td><td>       </td><td>True       </td><td>()         </td><td>float64</td><td>0.4733071321286626                                  </td></tr>\n",
       "<tr><td>VGPWrapper.kernel.lengthscales</td><td>Parameter       </td><td>Softplus      </td><td>       </td><td>True       </td><td>(12,)      </td><td>float64</td><td>[0.52189341, 0.55681554, 0.55805813...              </td></tr>\n",
       "<tr><td>VGPWrapper.data[0]            </td><td>ResourceVariable</td><td>              </td><td>       </td><td>False      </td><td>(None, 12) </td><td>float64</td><td>[[0.31436195, 1.03873589, 0.46777948...             </td></tr>\n",
       "<tr><td>VGPWrapper.data[1]            </td><td>ResourceVariable</td><td>              </td><td>       </td><td>False      </td><td>(None, 1)  </td><td>float64</td><td>[[1....                                             </td></tr>\n",
       "<tr><td>VGPWrapper.q_mu               </td><td>Parameter       </td><td>Identity      </td><td>       </td><td>True       </td><td>(93, 1)    </td><td>float64</td><td>[[1.37757666...                                     </td></tr>\n",
       "<tr><td>VGPWrapper.q_sqrt             </td><td>Parameter       </td><td>FillTriangular</td><td>       </td><td>True       </td><td>(1, 93, 93)</td><td>float64</td><td>[[[6.18239746e-01, 0.00000000e+00, 0.00000000e+00...</td></tr>\n",
       "<tr><td>VGPWrapper._num_data          </td><td>ResourceVariable</td><td>              </td><td>       </td><td>False      </td><td>()         </td><td>float64</td><td>93.0                                                </td></tr>\n",
       "</tbody>\n",
       "</table>"
      ],
      "text/plain": [
       "<trieste.models.gpflow.models.VGPWrapper object at 0x7f5949f0cf10>\n",
       "╒════════════════════════════════╤══════════════════╤════════════════╤═════════╤═════════════╤═════════════╤═════════╤══════════════════════════════════════════════════════╕\n",
       "│ name                           │ class            │ transform      │ prior   │ trainable   │ shape       │ dtype   │ value                                                │\n",
       "╞════════════════════════════════╪══════════════════╪════════════════╪═════════╪═════════════╪═════════════╪═════════╪══════════════════════════════════════════════════════╡\n",
       "│ VGPWrapper.kernel.variance     │ Parameter        │ Softplus       │         │ True        │ ()          │ float64 │ 0.4733071321286626                                   │\n",
       "├────────────────────────────────┼──────────────────┼────────────────┼─────────┼─────────────┼─────────────┼─────────┼──────────────────────────────────────────────────────┤\n",
       "│ VGPWrapper.kernel.lengthscales │ Parameter        │ Softplus       │         │ True        │ (12,)       │ float64 │ [0.52189341, 0.55681554, 0.55805813...               │\n",
       "├────────────────────────────────┼──────────────────┼────────────────┼─────────┼─────────────┼─────────────┼─────────┼──────────────────────────────────────────────────────┤\n",
       "│ VGPWrapper.data[0]             │ ResourceVariable │                │         │ False       │ (None, 12)  │ float64 │ [[0.31436195, 1.03873589, 0.46777948...              │\n",
       "├────────────────────────────────┼──────────────────┼────────────────┼─────────┼─────────────┼─────────────┼─────────┼──────────────────────────────────────────────────────┤\n",
       "│ VGPWrapper.data[1]             │ ResourceVariable │                │         │ False       │ (None, 1)   │ float64 │ [[1....                                              │\n",
       "├────────────────────────────────┼──────────────────┼────────────────┼─────────┼─────────────┼─────────────┼─────────┼──────────────────────────────────────────────────────┤\n",
       "│ VGPWrapper.q_mu                │ Parameter        │ Identity       │         │ True        │ (93, 1)     │ float64 │ [[1.37757666...                                      │\n",
       "├────────────────────────────────┼──────────────────┼────────────────┼─────────┼─────────────┼─────────────┼─────────┼──────────────────────────────────────────────────────┤\n",
       "│ VGPWrapper.q_sqrt              │ Parameter        │ FillTriangular │         │ True        │ (1, 93, 93) │ float64 │ [[[6.18239746e-01, 0.00000000e+00, 0.00000000e+00... │\n",
       "├────────────────────────────────┼──────────────────┼────────────────┼─────────┼─────────────┼─────────────┼─────────┼──────────────────────────────────────────────────────┤\n",
       "│ VGPWrapper._num_data           │ ResourceVariable │                │         │ False       │ ()          │ float64 │ 93.0                                                 │\n",
       "╘════════════════════════════════╧══════════════════╧════════════════╧═════════╧═════════════╧═════════════╧═════════╧══════════════════════════════════════════════════════╛"
      ]
     },
     "execution_count": 15,
     "metadata": {},
     "output_type": "execute_result"
    }
   ],
   "source": [
    "result.models[FAILURE]._model"
   ]
  },
  {
   "cell_type": "code",
   "execution_count": 16,
   "id": "2a2f92d3",
   "metadata": {},
   "outputs": [],
   "source": [
    "def probability_of_failure(point, n_tries=100):\n",
    "    if not isinstance(point, np.ndarray):\n",
    "        point = point.numpy()\n",
    "\n",
    "    assert point.shape == (int(search_space.dimension),)\n",
    "\n",
    "    n_failures = 0\n",
    "    for _ in range(n_tries):\n",
    "        result = demo_heuristic_lander(lunar_lander.LunarLander(), point, print_result=False)\n",
    "        if result.timeout or result.has_crashed:\n",
    "            n_failures += 1\n",
    "    \n",
    "    return n_failures / n_tries"
   ]
  },
  {
   "cell_type": "code",
   "execution_count": 17,
   "id": "75d1f6bb",
   "metadata": {},
   "outputs": [],
   "source": [
    "from trieste.acquisition.multi_objective.dominance import non_dominated\n",
    "\n",
    "pf_points, _ = non_dominated(tf.concat([objective_model_values, failure_model_values], axis=1))\n",
    "pf_input_points = []\n",
    "for pf_point in pf_points:\n",
    "    pf_input_point = tf.boolean_mask(all_query_points, tf.equal(objective_model_values, pf_point[0])[:,0])\n",
    "    if len(pf_input_point) > 1:\n",
    "        pf_input_point = pf_input_point[0:1, :]\n",
    "    pf_input_points.append(pf_input_point)\n",
    "pf_input_points = tf.concat(pf_input_points, axis=0)"
   ]
  },
  {
   "cell_type": "code",
   "execution_count": 18,
   "id": "aa3d3946",
   "metadata": {},
   "outputs": [],
   "source": [
    "failure_actual_values = [probability_of_failure(p) for p in pf_input_points]"
   ]
  },
  {
   "cell_type": "code",
   "execution_count": 19,
   "id": "56e31236",
   "metadata": {},
   "outputs": [
    {
     "data": {
      "image/png": "[encoded data removed]",
      "text/plain": [
       "<Figure size 864x864 with 1 Axes>"
      ]
     },
     "metadata": {
      "needs_background": "light"
     },
     "output_type": "display_data"
    }
   ],
   "source": [
    "points_in_objective_space = tf.concat([objective_model_values, failure_model_values], axis=1)\n",
    "\n",
    "mean, variance = result.models[FAILURE].predict(pf_input_points)\n",
    "failure_lower_conf_bounds = result.models[FAILURE]._model.likelihood.invlink(mean - 2 * tf.sqrt(variance))\n",
    "failure_upper_conf_bounds = result.models[FAILURE]._model.likelihood.invlink(mean + 2 * tf.sqrt(variance))\n",
    "\n",
    "mean, variance = result.models[FUEL].predict(pf_input_points)\n",
    "objective_lower_conf_bounds = mean - 2 * tf.sqrt(variance)\n",
    "objective_upper_conf_bounds = mean + 2 * tf.sqrt(variance)\n",
    "\n",
    "plotting.plot_mobo_points_in_obj_space(\n",
    "    points_in_objective_space,\n",
    "    num_init=num_initial_points,\n",
    "    only_plot_pareto=True,\n",
    "    figsize=(12,12)\n",
    ")\n",
    "plt.scatter(pf_points[:, 0], failure_actual_values, c='r')\n",
    "\n",
    "for i, (lower, upper) in enumerate(zip(failure_lower_conf_bounds, failure_upper_conf_bounds)):\n",
    "    plt.plot((pf_points[i].numpy()[0], pf_points[i].numpy()[0]), (lower,upper), '_-',color='orange')\n",
    "\n",
    "for i, (lower, upper) in enumerate(zip(objective_lower_conf_bounds, objective_upper_conf_bounds)):\n",
    "    plt.plot((lower,upper), (pf_points[i].numpy()[1], pf_points[i].numpy()[1]), '|-',color='green')\n",
    "\n",
    "\n",
    "plt.xlabel(\"Fuel spent, x0.01\")\n",
    "plt.ylabel(\"Model probability of failure\");\n",
    "plt.show();"
   ]
  },
  {
   "cell_type": "code",
   "execution_count": null,
   "id": "c245bd6f",
   "metadata": {},
   "outputs": [],
   "source": []
  }
 ],
 "metadata": {
  "kernelspec": {
   "display_name": "Python 3 (ipykernel)",
   "language": "python",
   "name": "python3"
  },
  "language_info": {
   "codemirror_mode": {
    "name": "ipython",
    "version": 3
   },
   "file_extension": ".py",
   "mimetype": "text/x-python",
   "name": "python",
   "nbconvert_exporter": "python",
   "pygments_lexer": "ipython3",
   "version": "3.7.5"
  }
 },
 "nbformat": 4,
 "nbformat_minor": 5
}
