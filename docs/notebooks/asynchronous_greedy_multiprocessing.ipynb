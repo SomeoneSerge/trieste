{
 "cells": [
  {
   "cell_type": "markdown",
   "id": "a89de24d",
   "metadata": {},
   "source": [
    "# Asynchronous Bayesian optimization with Trieste\n",
    "\n",
    "In this notebook we demonstrate Trieste's ability to perform asynchronous Bayesian optimisation, as is suitable for scenarios where the objective function can be run for several points in parallel but where observations might return back at different times. To avoid wasting resources waiting for the evaluation of the whole batch, we immediately request the next point asynchronously, taking into account points that are still being evaluated. Besides saving resources, asynchronous approach also can potentially [improve sample efficiency](https://arxiv.org/abs/1901.10452) in comparison with synchronous batch strategies, although this is highly dependent on the use case.\n",
    "\n",
    "To contrast this approach with regular [batch optimization](batch_optimization.ipynb), this notebook also shows how to run parallel synchronous batch approach."
   ]
  },
  {
   "cell_type": "code",
   "execution_count": 1,
   "id": "42a8429e",
   "metadata": {
    "execution": {
     "iopub.execute_input": "2021-12-29T10:10:48.222593Z",
     "iopub.status.busy": "2021-12-29T10:10:48.222049Z",
     "iopub.status.idle": "2021-12-29T10:10:49.923525Z",
     "shell.execute_reply": "2021-12-29T10:10:49.923957Z"
    },
    "lines_to_next_cell": 2
   },
   "outputs": [],
   "source": [
    "# silence TF warnings and info messages, only print errors\n",
    "# https://stackoverflow.com/questions/35911252/disable-tensorflow-debugging-information\n",
    "import os\n",
    "\n",
    "os.environ[\"TF_CPP_MIN_LOG_LEVEL\"] = \"3\"\n",
    "import tensorflow as tf\n",
    "\n",
    "tf.get_logger().setLevel(\"ERROR\")\n",
    "import numpy as np\n",
    "import time\n",
    "import timeit"
   ]
  },
  {
   "cell_type": "markdown",
   "id": "4d4b8c84",
   "metadata": {
    "lines_to_next_cell": 0
   },
   "source": [
    "First, let's define a simple objective that will emulate evaluations taking variable time. We will be using a classic Bayesian optimisation benchmark function [Branin](https://www.sfu.ca/~ssurjano/branin.html) with a sleep call inserted in the middle of the calculation to emulate delay. Our sleep delay is a scaled sum of all input values to make sure delays are uneven."
   ]
  },
  {
   "cell_type": "code",
   "execution_count": 2,
   "id": "2aabd06d",
   "metadata": {
    "execution": {
     "iopub.execute_input": "2021-12-29T10:10:49.931629Z",
     "iopub.status.busy": "2021-12-29T10:10:49.930229Z",
     "iopub.status.idle": "2021-12-29T10:10:50.399871Z",
     "shell.execute_reply": "2021-12-29T10:10:50.400335Z"
    }
   },
   "outputs": [
    {
     "data": {
      "text/plain": [
       "array([[-0.42052567]])"
      ]
     },
     "execution_count": 2,
     "metadata": {},
     "output_type": "execute_result"
    }
   ],
   "source": [
    "from trieste.objectives import scaled_branin\n",
    "\n",
    "\n",
    "def objective(points, sleep=True):\n",
    "    if points.shape[1] != 2:\n",
    "        raise ValueError(\n",
    "            f\"Incorrect input shape, expected (*, 2), got {points.shape}\"\n",
    "        )\n",
    "\n",
    "    observations = []\n",
    "    for point in points:\n",
    "        observation = scaled_branin(point)\n",
    "        if sleep:\n",
    "            # insert some artificial delay\n",
    "            # increases linearly with the absolute value of points\n",
    "            # which means our evaluations will take different time\n",
    "            delay = 3 * np.sum(point)\n",
    "            pid = os.getpid()\n",
    "            print(\n",
    "                f\"Process {pid}: Objective: pretends like it's doing something for {delay:.2}s\",\n",
    "                flush=True,\n",
    "            )\n",
    "            time.sleep(delay)\n",
    "        observations.append(observation)\n",
    "\n",
    "    return np.array(observations)\n",
    "\n",
    "\n",
    "# test the defined objective function\n",
    "objective(np.array([[0.1, 0.5]]), sleep=False)"
   ]
  },
  {
   "cell_type": "markdown",
   "id": "90f3fd34",
   "metadata": {},
   "source": [
    "As always, we need to prepare the model and some initial data to kick-start the optimization process."
   ]
  },
  {
   "cell_type": "code",
   "execution_count": 3,
   "id": "30669cd6",
   "metadata": {
    "execution": {
     "iopub.execute_input": "2021-12-29T10:10:50.408539Z",
     "iopub.status.busy": "2021-12-29T10:10:50.407587Z",
     "iopub.status.idle": "2021-12-29T10:10:50.412704Z",
     "shell.execute_reply": "2021-12-29T10:10:50.413093Z"
    },
    "lines_to_next_cell": 2
   },
   "outputs": [],
   "source": [
    "from trieste.space import Box\n",
    "from trieste.data import Dataset\n",
    "from trieste.objectives import SCALED_BRANIN_MINIMUM\n",
    "\n",
    "search_space = Box([0, 0], [1, 1])\n",
    "num_initial_points = 3\n",
    "initial_query_points = search_space.sample(num_initial_points)\n",
    "initial_observations = objective(initial_query_points.numpy(), sleep=False)\n",
    "initial_data = Dataset(\n",
    "    query_points=initial_query_points,\n",
    "    observations=tf.constant(initial_observations, dtype=tf.float64),\n",
    ")\n",
    "\n",
    "import gpflow\n",
    "from trieste.models.gpflow import GaussianProcessRegression\n",
    "\n",
    "\n",
    "def build_model(data):\n",
    "    variance = tf.math.reduce_variance(data.observations)\n",
    "    kernel = gpflow.kernels.RBF(variance=variance)\n",
    "    gpr = gpflow.models.GPR(data.astuple(), kernel, noise_variance=1e-5)\n",
    "    gpflow.set_trainable(gpr.likelihood, False)\n",
    "    return GaussianProcessRegression(gpr)\n",
    "\n",
    "\n",
    "# these imports will be used later for optimization\n",
    "from trieste.acquisition import LocalPenalization\n",
    "from trieste.acquisition.rule import (\n",
    "    AsynchronousGreedy,\n",
    "    EfficientGlobalOptimization,\n",
    ")\n",
    "from trieste.ask_tell_optimization import AskTellOptimizer"
   ]
  },
  {
   "cell_type": "markdown",
   "id": "d7543746",
   "metadata": {},
   "source": [
    "## Multiprocessing setup\n",
    "\n",
    "To keep this notebook as reproducible as possible, we will only be using Python's multiprocessing package here. In this section we will explain our setup and define some common code to be used later.\n",
    "\n",
    "In both synchronous and asynchronous scenarios we will have a fixed set of worker processes performing observations. We will also have a main process responsible for optimization process with Trieste. When Trieste suggests a new point, it is inserted into a points queue. One of the workers picks this point from the queue, performs the observation, and inserts the output into the observations queue. The main process then picks up the observation from the queue, at which moment it either waits for the rest of the points in the batch to come back (synchronous scenario) or immediately suggests a new point (asynchronous scenario). This process continues either for a certain number of iterations or until we accumulate necessary number of observations.\n",
    "\n",
    "The overall setup is illustrated in this diagram:\n",
    "![multiprocessing setup](figures/async_bo.png)"
   ]
  },
  {
   "cell_type": "code",
   "execution_count": 4,
   "id": "3aa0ad01",
   "metadata": {
    "execution": {
     "iopub.execute_input": "2021-12-29T10:10:50.417529Z",
     "iopub.status.busy": "2021-12-29T10:10:50.416333Z",
     "iopub.status.idle": "2021-12-29T10:10:50.418098Z",
     "shell.execute_reply": "2021-12-29T10:10:50.418489Z"
    }
   },
   "outputs": [],
   "source": [
    "# Necessary multiprocessing primitives\n",
    "from multiprocessing import Manager, Process"
   ]
  },
  {
   "cell_type": "markdown",
   "id": "00f1cd57",
   "metadata": {},
   "source": [
    "We now define several common functions to implement the described setup. First we define a worker function that will be running a single observation in a separate process. Worker takes both queues as an input, reads next point from the points queue, makes an observation, and inserts observed data into the observations queue."
   ]
  },
  {
   "cell_type": "code",
   "execution_count": 5,
   "id": "3a7d9f8d",
   "metadata": {
    "execution": {
     "iopub.execute_input": "2021-12-29T10:10:50.424580Z",
     "iopub.status.busy": "2021-12-29T10:10:50.423369Z",
     "iopub.status.idle": "2021-12-29T10:10:50.425140Z",
     "shell.execute_reply": "2021-12-29T10:10:50.425532Z"
    },
    "lines_to_next_cell": 2
   },
   "outputs": [],
   "source": [
    "\n",
    "\n",
    "def observer_proc(points_queue, observations_queue):\n",
    "    pid = os.getpid()\n",
    "\n",
    "    while True:\n",
    "        point_to_observe = points_queue.get()\n",
    "        if point_to_observe is None:\n",
    "            return\n",
    "\n",
    "        print(\n",
    "            f\"Process {pid}: Observer : observing data at point {point_to_observe}\",\n",
    "            flush=True,\n",
    "        )\n",
    "        new_observation = objective(point_to_observe, sleep=enable_sleep_delays)\n",
    "        new_data = (point_to_observe, new_observation)\n",
    "\n",
    "        print(f\"Process {pid}: Observer : observed data {new_data}\", flush=True)\n",
    "\n",
    "        observations_queue.put(new_data)"
   ]
  },
  {
   "cell_type": "markdown",
   "id": "5c432c53",
   "metadata": {},
   "source": [
    "Next we define two helper functions, one is to create a certain number of worker processes, and another is to terminate them once we are done."
   ]
  },
  {
   "cell_type": "code",
   "execution_count": 6,
   "id": "c1f5f32b",
   "metadata": {
    "execution": {
     "iopub.execute_input": "2021-12-29T10:10:50.431650Z",
     "iopub.status.busy": "2021-12-29T10:10:50.430406Z",
     "iopub.status.idle": "2021-12-29T10:10:50.432211Z",
     "shell.execute_reply": "2021-12-29T10:10:50.432595Z"
    }
   },
   "outputs": [],
   "source": [
    "\n",
    "\n",
    "def create_worker_processes(n_workers, points_queue, obseverations_queue):\n",
    "    observer_processes = []\n",
    "    for i in range(n_workers):\n",
    "        worker_proc = Process(\n",
    "            target=observer_proc, args=(points_queue, obseverations_queue)\n",
    "        )\n",
    "        worker_proc.daemon = True\n",
    "        worker_proc.start()\n",
    "\n",
    "        observer_processes.append(worker_proc)\n",
    "\n",
    "    return observer_processes\n",
    "\n",
    "\n",
    "def terminate_processes(processes):\n",
    "    for prc in processes:\n",
    "        prc.terminate()\n",
    "        prc.join()\n",
    "        prc.close()"
   ]
  },
  {
   "cell_type": "markdown",
   "id": "c3e5299e",
   "metadata": {
    "lines_to_next_cell": 0
   },
   "source": [
    "Finally we set some common parameters. See comments below for explanation of what each one means."
   ]
  },
  {
   "cell_type": "code",
   "execution_count": 7,
   "id": "29bef4c4",
   "metadata": {
    "execution": {
     "iopub.execute_input": "2021-12-29T10:10:50.437291Z",
     "iopub.status.busy": "2021-12-29T10:10:50.436108Z",
     "iopub.status.idle": "2021-12-29T10:10:50.437845Z",
     "shell.execute_reply": "2021-12-29T10:10:50.438229Z"
    }
   },
   "outputs": [],
   "source": [
    "# Number of worker processes to run simultaneously\n",
    "# Setting this to 1 will turn both setups into non-batch sequential optimization\n",
    "num_workers = 3\n",
    "# Number of iterations to run the sycnhronous scenario for\n",
    "num_iterations = 10\n",
    "# Number of observations to collect in the asynchronous scenario\n",
    "num_observations = num_workers * num_iterations\n",
    "# Set this flag to False to disable sleep delays in case you want the notebook to execute quickly\n",
    "enable_sleep_delays = True"
   ]
  },
  {
   "cell_type": "markdown",
   "id": "33baa5df",
   "metadata": {},
   "source": [
    "## Asynchronous optimization\n",
    "This section runs the asynchronous optimization routine. We first setup the [ask/tell optimizer](ask_tell_optimization.ipynb) as we cannot hand over the evaluation of the objective to Trieste. Next we create thread-safe queues for points and observations, and run the optimization loop.\n",
    "\n",
    "Crucially, even though we are using batch acquisition function Local Penalization, we specify batch size of 1. This is because we don't really want a batch. Since the amount of workers we have is fixed, whenever we see a new observation we only need one point back. However this process can only be done with acquisition functions that implement greedy batch collection strategies, because they are able to take into account points that are currently being observed (in Trieste we call them \"pending\"). Trieste currently provides two such functions: Local Penalization and GIBBON. Notice that we use **AsynchronousGreedy** rule specifically designed for using greedy batch acquisition functions in asynchronous scenarios."
   ]
  },
  {
   "cell_type": "code",
   "execution_count": 8,
   "id": "17a5609b",
   "metadata": {
    "execution": {
     "iopub.execute_input": "2021-12-29T10:10:50.445756Z",
     "iopub.status.busy": "2021-12-29T10:10:50.440237Z",
     "iopub.status.idle": "2021-12-29T10:11:33.189686Z",
     "shell.execute_reply": "2021-12-29T10:11:33.190077Z"
    }
   },
   "outputs": [
    {
     "name": "stdout",
     "output_type": "stream",
     "text": [
      "Process 2472: Observer : observing data at point [[0.64357442 0.        ]]"
     ]
    },
    {
     "name": "stdout",
     "output_type": "stream",
     "text": [
      "\n"
     ]
    },
    {
     "name": "stdout",
     "output_type": "stream",
     "text": [
      "Process 2472: Objective: pretends like it's doing something for 1.9s"
     ]
    },
    {
     "name": "stdout",
     "output_type": "stream",
     "text": [
      "\n"
     ]
    },
    {
     "name": "stdout",
     "output_type": "stream",
     "text": [
      "Process 2472: Observer : observed data (array([[0.64357442, 0.        ]]), array([[-0.83616247]]))"
     ]
    },
    {
     "name": "stdout",
     "output_type": "stream",
     "text": [
      "\n"
     ]
    },
    {
     "name": "stdout",
     "output_type": "stream",
     "text": [
      "Process 2476: Observer : observing data at point [[0.91136402 0.        ]]"
     ]
    },
    {
     "name": "stdout",
     "output_type": "stream",
     "text": [
      "\n"
     ]
    },
    {
     "name": "stdout",
     "output_type": "stream",
     "text": [
      "Process 2476: Objective: pretends like it's doing something for 2.7s"
     ]
    },
    {
     "name": "stdout",
     "output_type": "stream",
     "text": [
      "\n"
     ]
    },
    {
     "name": "stdout",
     "output_type": "stream",
     "text": [
      "Process 2436: Main     : received data (array([[0.64357442, 0.        ]]), array([[-0.83616247]]))\n"
     ]
    },
    {
     "name": "stdout",
     "output_type": "stream",
     "text": [
      "Process 2479: Observer : observing data at point [[1. 0.]]"
     ]
    },
    {
     "name": "stdout",
     "output_type": "stream",
     "text": [
      "\n"
     ]
    },
    {
     "name": "stdout",
     "output_type": "stream",
     "text": [
      "Process 2479: Objective: pretends like it's doing something for 3.0s"
     ]
    },
    {
     "name": "stdout",
     "output_type": "stream",
     "text": [
      "\n"
     ]
    },
    {
     "name": "stdout",
     "output_type": "stream",
     "text": [
      "Process 2436: Main     : acquired point [[1.         0.05039355]]\n"
     ]
    },
    {
     "name": "stdout",
     "output_type": "stream",
     "text": [
      "Process 2472: Observer : observing data at point [[1.         0.05039355]]"
     ]
    },
    {
     "name": "stdout",
     "output_type": "stream",
     "text": [
      "\n"
     ]
    },
    {
     "name": "stdout",
     "output_type": "stream",
     "text": [
      "Process 2472: Objective: pretends like it's doing something for 3.2s"
     ]
    },
    {
     "name": "stdout",
     "output_type": "stream",
     "text": [
      "\n"
     ]
    },
    {
     "name": "stdout",
     "output_type": "stream",
     "text": [
      "Process 2476: Observer : observed data (array([[0.91136402, 0.        ]]), array([[-0.92686889]]))"
     ]
    },
    {
     "name": "stdout",
     "output_type": "stream",
     "text": [
      "\n"
     ]
    },
    {
     "name": "stdout",
     "output_type": "stream",
     "text": [
      "Process 2436: Main     : received data (array([[0.91136402, 0.        ]]), array([[-0.92686889]]))\n"
     ]
    },
    {
     "name": "stdout",
     "output_type": "stream",
     "text": [
      "Process 2479: Observer : observed data (array([[1., 0.]]), array([[-0.84406373]]))"
     ]
    },
    {
     "name": "stdout",
     "output_type": "stream",
     "text": [
      "\n"
     ]
    },
    {
     "name": "stdout",
     "output_type": "stream",
     "text": [
      "Process 2436: Main     : acquired point [[0.80049351 0.18036385]]\n"
     ]
    },
    {
     "name": "stdout",
     "output_type": "stream",
     "text": [
      "Process 2436: Main     : received data (array([[1., 0.]]), array([[-0.84406373]]))\n"
     ]
    },
    {
     "name": "stdout",
     "output_type": "stream",
     "text": [
      "Process 2476: Observer : observing data at point [[0.80049351 0.18036385]]"
     ]
    },
    {
     "name": "stdout",
     "output_type": "stream",
     "text": [
      "Process 2476: Objective: pretends like it's doing something for 2.9s"
     ]
    },
    {
     "name": "stdout",
     "output_type": "stream",
     "text": [
      "\n"
     ]
    },
    {
     "name": "stdout",
     "output_type": "stream",
     "text": [
      "\n"
     ]
    },
    {
     "name": "stdout",
     "output_type": "stream",
     "text": [
      "Process 2472: Observer : observed data (array([[1.        , 0.05039355]]), array([[-0.92045449]]))"
     ]
    },
    {
     "name": "stdout",
     "output_type": "stream",
     "text": [
      "\n"
     ]
    },
    {
     "name": "stdout",
     "output_type": "stream",
     "text": [
      "Process 2436: Main     : acquired point [[0.85719081 0.15978249]]\n"
     ]
    },
    {
     "name": "stdout",
     "output_type": "stream",
     "text": [
      "Process 2436: Main     : received data (array([[1.        , 0.05039355]]), array([[-0.92045449]]))\n"
     ]
    },
    {
     "name": "stdout",
     "output_type": "stream",
     "text": [
      "Process 2479: Observer : observing data at point [[0.85719081 0.15978249]]"
     ]
    },
    {
     "name": "stdout",
     "output_type": "stream",
     "text": [
      "\n"
     ]
    },
    {
     "name": "stdout",
     "output_type": "stream",
     "text": [
      "Process 2479: Objective: pretends like it's doing something for 3.1s"
     ]
    },
    {
     "name": "stdout",
     "output_type": "stream",
     "text": [
      "\n"
     ]
    },
    {
     "name": "stdout",
     "output_type": "stream",
     "text": [
      "Process 2436: Main     : acquired point [[0.84384033 0.19961692]]\n"
     ]
    },
    {
     "name": "stdout",
     "output_type": "stream",
     "text": [
      "Process 2472: Observer : observing data at point [[0.84384033 0.19961692]]"
     ]
    },
    {
     "name": "stdout",
     "output_type": "stream",
     "text": [
      "\n"
     ]
    },
    {
     "name": "stdout",
     "output_type": "stream",
     "text": [
      "Process 2472: Objective: pretends like it's doing something for 3.1s"
     ]
    },
    {
     "name": "stdout",
     "output_type": "stream",
     "text": [
      "\n"
     ]
    },
    {
     "name": "stdout",
     "output_type": "stream",
     "text": [
      "Process 2476: Observer : observed data (array([[0.80049351, 0.18036385]]), array([[-0.67995536]]))"
     ]
    },
    {
     "name": "stdout",
     "output_type": "stream",
     "text": [
      "\n"
     ]
    },
    {
     "name": "stdout",
     "output_type": "stream",
     "text": [
      "Process 2436: Main     : received data (array([[0.80049351, 0.18036385]]), array([[-0.67995536]]))\n"
     ]
    },
    {
     "name": "stdout",
     "output_type": "stream",
     "text": [
      "Process 2436: Main     : acquired point [[1.         0.23730718]]\n"
     ]
    },
    {
     "name": "stdout",
     "output_type": "stream",
     "text": [
      "Process 2476: Observer : observing data at point [[1.         0.23730718]]"
     ]
    },
    {
     "name": "stdout",
     "output_type": "stream",
     "text": [
      "\n"
     ]
    },
    {
     "name": "stdout",
     "output_type": "stream",
     "text": [
      "Process 2476: Objective: pretends like it's doing something for 3.7s"
     ]
    },
    {
     "name": "stdout",
     "output_type": "stream",
     "text": [
      "\n"
     ]
    },
    {
     "name": "stdout",
     "output_type": "stream",
     "text": [
      "Process 2479: Observer : observed data (array([[0.85719081, 0.15978249]]), array([[-0.84676139]]))"
     ]
    },
    {
     "name": "stdout",
     "output_type": "stream",
     "text": [
      "\n"
     ]
    },
    {
     "name": "stdout",
     "output_type": "stream",
     "text": [
      "Process 2436: Main     : received data (array([[0.85719081, 0.15978249]]), array([[-0.84676139]]))\n"
     ]
    },
    {
     "name": "stdout",
     "output_type": "stream",
     "text": [
      "Process 2436: Main     : acquired point [[1.         0.21870597]]\n"
     ]
    },
    {
     "name": "stdout",
     "output_type": "stream",
     "text": [
      "Process 2479: Observer : observing data at point [[1.         0.21870597]]"
     ]
    },
    {
     "name": "stdout",
     "output_type": "stream",
     "text": [
      "\n"
     ]
    },
    {
     "name": "stdout",
     "output_type": "stream",
     "text": [
      "Process 2479: Objective: pretends like it's doing something for 3.7s"
     ]
    },
    {
     "name": "stdout",
     "output_type": "stream",
     "text": [
      "\n"
     ]
    },
    {
     "name": "stdout",
     "output_type": "stream",
     "text": [
      "Process 2472: Observer : observed data (array([[0.84384033, 0.19961692]]), array([[-0.77681837]]))"
     ]
    },
    {
     "name": "stdout",
     "output_type": "stream",
     "text": [
      "\n"
     ]
    },
    {
     "name": "stdout",
     "output_type": "stream",
     "text": [
      "Process 2436: Main     : received data (array([[0.84384033, 0.19961692]]), array([[-0.77681837]]))\n"
     ]
    },
    {
     "name": "stdout",
     "output_type": "stream",
     "text": [
      "Process 2436: Main     : acquired point [[1.         0.25438635]]\n"
     ]
    },
    {
     "name": "stdout",
     "output_type": "stream",
     "text": [
      "Process 2472: Observer : observing data at point [[1.         0.25438635]]"
     ]
    },
    {
     "name": "stdout",
     "output_type": "stream",
     "text": [
      "\n"
     ]
    },
    {
     "name": "stdout",
     "output_type": "stream",
     "text": [
      "Process 2472: Objective: pretends like it's doing something for 3.8s"
     ]
    },
    {
     "name": "stdout",
     "output_type": "stream",
     "text": [
      "\n"
     ]
    },
    {
     "name": "stdout",
     "output_type": "stream",
     "text": [
      "Process 2476: Observer : observed data (array([[1.        , 0.23730718]]), array([[-1.01168429]]))"
     ]
    },
    {
     "name": "stdout",
     "output_type": "stream",
     "text": [
      "\n"
     ]
    },
    {
     "name": "stdout",
     "output_type": "stream",
     "text": [
      "Process 2436: Main     : received data (array([[1.        , 0.23730718]]), array([[-1.01168429]]))\n"
     ]
    },
    {
     "name": "stdout",
     "output_type": "stream",
     "text": [
      "Process 2436: Main     : acquired point [[0.3836395 0.       ]]\n"
     ]
    },
    {
     "name": "stdout",
     "output_type": "stream",
     "text": [
      "Process 2476: Observer : observing data at point [[0.3836395 0.       ]]"
     ]
    },
    {
     "name": "stdout",
     "output_type": "stream",
     "text": [
      "\n"
     ]
    },
    {
     "name": "stdout",
     "output_type": "stream",
     "text": [
      "Process 2476: Objective: pretends like it's doing something for 1.2s"
     ]
    },
    {
     "name": "stdout",
     "output_type": "stream",
     "text": [
      "\n"
     ]
    },
    {
     "name": "stdout",
     "output_type": "stream",
     "text": [
      "Process 2479: Observer : observed data (array([[1.        , 0.21870597]]), array([[-1.01616515]]))"
     ]
    },
    {
     "name": "stdout",
     "output_type": "stream",
     "text": [
      "\n"
     ]
    },
    {
     "name": "stdout",
     "output_type": "stream",
     "text": [
      "Process 2436: Main     : received data (array([[1.        , 0.21870597]]), array([[-1.01616515]]))\n"
     ]
    },
    {
     "name": "stdout",
     "output_type": "stream",
     "text": [
      "Process 2436: Main     : acquired point [[0.42371724 0.23014101]]\n"
     ]
    },
    {
     "name": "stdout",
     "output_type": "stream",
     "text": [
      "Process 2479: Observer : observing data at point [[0.42371724 0.23014101]]"
     ]
    },
    {
     "name": "stdout",
     "output_type": "stream",
     "text": [
      "\n"
     ]
    },
    {
     "name": "stdout",
     "output_type": "stream",
     "text": [
      "Process 2479: Objective: pretends like it's doing something for 2.0s"
     ]
    },
    {
     "name": "stdout",
     "output_type": "stream",
     "text": [
      "\n"
     ]
    },
    {
     "name": "stdout",
     "output_type": "stream",
     "text": [
      "Process 2472: Observer : observed data (array([[1.        , 0.25438635]]), array([[-1.00493076]]))"
     ]
    },
    {
     "name": "stdout",
     "output_type": "stream",
     "text": [
      "\n"
     ]
    },
    {
     "name": "stdout",
     "output_type": "stream",
     "text": [
      "Process 2436: Main     : received data (array([[1.        , 0.25438635]]), array([[-1.00493076]]))\n"
     ]
    },
    {
     "name": "stdout",
     "output_type": "stream",
     "text": [
      "Process 2476: Observer : observed data (array([[0.3836395, 0.       ]]), array([[-0.2708809]]))"
     ]
    },
    {
     "name": "stdout",
     "output_type": "stream",
     "text": [
      "\n"
     ]
    },
    {
     "name": "stdout",
     "output_type": "stream",
     "text": [
      "Process 2436: Main     : acquired point [[0.50550601 0.08862248]]\n"
     ]
    },
    {
     "name": "stdout",
     "output_type": "stream",
     "text": [
      "Process 2436: Main     : received data (array([[0.3836395, 0.       ]]), array([[-0.2708809]]))\n"
     ]
    },
    {
     "name": "stdout",
     "output_type": "stream",
     "text": [
      "Process 2472: Observer : observing data at point [[0.50550601 0.08862248]]"
     ]
    },
    {
     "name": "stdout",
     "output_type": "stream",
     "text": [
      "\n"
     ]
    },
    {
     "name": "stdout",
     "output_type": "stream",
     "text": [
      "\n"
     ]
    },
    {
     "name": "stdout",
     "output_type": "stream",
     "text": [
      "Process 2472: Objective: pretends like it's doing something for 1.8s"
     ]
    },
    {
     "name": "stdout",
     "output_type": "stream",
     "text": [
      "Process 2436: Main     : acquired point [[0.16756436 0.76281511]]\n"
     ]
    },
    {
     "name": "stdout",
     "output_type": "stream",
     "text": [
      "Process 2476: Observer : observing data at point [[0.16756436 0.76281511]]"
     ]
    },
    {
     "name": "stdout",
     "output_type": "stream",
     "text": [
      "\n"
     ]
    },
    {
     "name": "stdout",
     "output_type": "stream",
     "text": [
      "Process 2476: Objective: pretends like it's doing something for 2.8s"
     ]
    },
    {
     "name": "stdout",
     "output_type": "stream",
     "text": [
      "\n"
     ]
    },
    {
     "name": "stdout",
     "output_type": "stream",
     "text": [
      "Process 2479: Observer : observed data (array([[0.42371724, 0.23014101]]), array([[-0.81553811]]))"
     ]
    },
    {
     "name": "stdout",
     "output_type": "stream",
     "text": [
      "\n"
     ]
    },
    {
     "name": "stdout",
     "output_type": "stream",
     "text": [
      "Process 2436: Main     : received data (array([[0.42371724, 0.23014101]]), array([[-0.81553811]]))\n"
     ]
    },
    {
     "name": "stdout",
     "output_type": "stream",
     "text": [
      "Process 2436: Main     : acquired point [[0.50555254 0.37044052]]\n"
     ]
    },
    {
     "name": "stdout",
     "output_type": "stream",
     "text": [
      "Process 2479: Observer : observing data at point [[0.50555254 0.37044052]]"
     ]
    },
    {
     "name": "stdout",
     "output_type": "stream",
     "text": [
      "\n"
     ]
    },
    {
     "name": "stdout",
     "output_type": "stream",
     "text": [
      "Process 2479: Objective: pretends like it's doing something for 2.6s"
     ]
    },
    {
     "name": "stdout",
     "output_type": "stream",
     "text": [
      "\n"
     ]
    },
    {
     "name": "stdout",
     "output_type": "stream",
     "text": [
      "Process 2472: Observer : observed data (array([[0.50550601, 0.08862248]]), array([[-0.9803371]]))"
     ]
    },
    {
     "name": "stdout",
     "output_type": "stream",
     "text": [
      "\n"
     ]
    },
    {
     "name": "stdout",
     "output_type": "stream",
     "text": [
      "Process 2436: Main     : received data (array([[0.50550601, 0.08862248]]), array([[-0.9803371]]))\n"
     ]
    },
    {
     "name": "stdout",
     "output_type": "stream",
     "text": [
      "Process 2436: Main     : acquired point [[0.53179496 0.16648842]]\n"
     ]
    },
    {
     "name": "stdout",
     "output_type": "stream",
     "text": [
      "Process 2472: Observer : observing data at point [[0.53179496 0.16648842]]"
     ]
    },
    {
     "name": "stdout",
     "output_type": "stream",
     "text": [
      "\n"
     ]
    },
    {
     "name": "stdout",
     "output_type": "stream",
     "text": [
      "Process 2472: Objective: pretends like it's doing something for 2.1s"
     ]
    },
    {
     "name": "stdout",
     "output_type": "stream",
     "text": [
      "\n"
     ]
    },
    {
     "name": "stdout",
     "output_type": "stream",
     "text": [
      "Process 2476: Observer : observed data (array([[0.16756436, 0.76281511]]), array([[-1.00007554]]))"
     ]
    },
    {
     "name": "stdout",
     "output_type": "stream",
     "text": [
      "\n"
     ]
    },
    {
     "name": "stdout",
     "output_type": "stream",
     "text": [
      "Process 2436: Main     : received data (array([[0.16756436, 0.76281511]]), array([[-1.00007554]]))\n"
     ]
    },
    {
     "name": "stdout",
     "output_type": "stream",
     "text": [
      "Process 2436: Main     : acquired point [[0.08004852 0.65247375]]\n"
     ]
    },
    {
     "name": "stdout",
     "output_type": "stream",
     "text": [
      "Process 2476: Observer : observing data at point [[0.08004852 0.65247375]]"
     ]
    },
    {
     "name": "stdout",
     "output_type": "stream",
     "text": [
      "\n"
     ]
    },
    {
     "name": "stdout",
     "output_type": "stream",
     "text": [
      "Process 2476: Objective: pretends like it's doing something for 2.2s"
     ]
    },
    {
     "name": "stdout",
     "output_type": "stream",
     "text": [
      "\n"
     ]
    },
    {
     "name": "stdout",
     "output_type": "stream",
     "text": [
      "Process 2472: Observer : observed data (array([[0.53179496, 0.16648842]]), array([[-1.04473628]]))"
     ]
    },
    {
     "name": "stdout",
     "output_type": "stream",
     "text": [
      "\n"
     ]
    },
    {
     "name": "stdout",
     "output_type": "stream",
     "text": [
      "Process 2436: Main     : received data (array([[0.53179496, 0.16648842]]), array([[-1.04473628]]))\n"
     ]
    },
    {
     "name": "stdout",
     "output_type": "stream",
     "text": [
      "Process 2479: Observer : observed data (array([[0.50555254, 0.37044052]]), array([[-0.86777223]]))"
     ]
    },
    {
     "name": "stdout",
     "output_type": "stream",
     "text": [
      "\n"
     ]
    },
    {
     "name": "stdout",
     "output_type": "stream",
     "text": [
      "Process 2436: Main     : acquired point [[0.25675666 0.87060556]]\n"
     ]
    },
    {
     "name": "stdout",
     "output_type": "stream",
     "text": [
      "Process 2436: Main     : received data (array([[0.50555254, 0.37044052]]), array([[-0.86777223]]))\n"
     ]
    },
    {
     "name": "stdout",
     "output_type": "stream",
     "text": [
      "Process 2472: Observer : observing data at point [[0.25675666 0.87060556]]"
     ]
    },
    {
     "name": "stdout",
     "output_type": "stream",
     "text": [
      "\n"
     ]
    },
    {
     "name": "stdout",
     "output_type": "stream",
     "text": [
      "Process 2472: Objective: pretends like it's doing something for 3.4s"
     ]
    },
    {
     "name": "stdout",
     "output_type": "stream",
     "text": [
      "\n"
     ]
    },
    {
     "name": "stdout",
     "output_type": "stream",
     "text": [
      "Process 2436: Main     : acquired point [[0.05620191 0.85714007]]\n"
     ]
    },
    {
     "name": "stdout",
     "output_type": "stream",
     "text": [
      "Process 2479: Observer : observing data at point [[0.05620191 0.85714007]]"
     ]
    },
    {
     "name": "stdout",
     "output_type": "stream",
     "text": [
      "\n"
     ]
    },
    {
     "name": "stdout",
     "output_type": "stream",
     "text": [
      "Process 2479: Objective: pretends like it's doing something for 2.7s"
     ]
    },
    {
     "name": "stdout",
     "output_type": "stream",
     "text": [
      "\n"
     ]
    },
    {
     "name": "stdout",
     "output_type": "stream",
     "text": [
      "Process 2476: Observer : observed data (array([[0.08004852, 0.65247375]]), array([[-0.68140735]]))"
     ]
    },
    {
     "name": "stdout",
     "output_type": "stream",
     "text": [
      "\n"
     ]
    },
    {
     "name": "stdout",
     "output_type": "stream",
     "text": [
      "Process 2436: Main     : received data (array([[0.08004852, 0.65247375]]), array([[-0.68140735]]))\n"
     ]
    },
    {
     "name": "stdout",
     "output_type": "stream",
     "text": [
      "Process 2436: Main     : acquired point [[0.14111638 0.92295621]]\n"
     ]
    },
    {
     "name": "stdout",
     "output_type": "stream",
     "text": [
      "Process 2476: Observer : observing data at point [[0.14111638 0.92295621]]"
     ]
    },
    {
     "name": "stdout",
     "output_type": "stream",
     "text": [
      "\n"
     ]
    },
    {
     "name": "stdout",
     "output_type": "stream",
     "text": [
      "Process 2476: Objective: pretends like it's doing something for 3.2s"
     ]
    },
    {
     "name": "stdout",
     "output_type": "stream",
     "text": [
      "\n"
     ]
    },
    {
     "name": "stdout",
     "output_type": "stream",
     "text": [
      "Process 2479: Observer : observed data (array([[0.05620191, 0.85714007]]), array([[-0.88369505]]))"
     ]
    },
    {
     "name": "stdout",
     "output_type": "stream",
     "text": [
      "\n"
     ]
    },
    {
     "name": "stdout",
     "output_type": "stream",
     "text": [
      "Process 2436: Main     : received data (array([[0.05620191, 0.85714007]]), array([[-0.88369505]]))\n"
     ]
    },
    {
     "name": "stdout",
     "output_type": "stream",
     "text": [
      "Process 2472: Observer : observed data (array([[0.25675666, 0.87060556]]), array([[-0.29388113]]))"
     ]
    },
    {
     "name": "stdout",
     "output_type": "stream",
     "text": [
      "\n"
     ]
    },
    {
     "name": "stdout",
     "output_type": "stream",
     "text": [
      "Process 2436: Main     : acquired point [[0.23644668 0.96092469]]\n"
     ]
    },
    {
     "name": "stdout",
     "output_type": "stream",
     "text": [
      "Process 2436: Main     : received data (array([[0.25675666, 0.87060556]]), array([[-0.29388113]]))\n"
     ]
    },
    {
     "name": "stdout",
     "output_type": "stream",
     "text": [
      "Process 2479: Observer : observing data at point [[0.23644668 0.96092469]]"
     ]
    },
    {
     "name": "stdout",
     "output_type": "stream",
     "text": [
      "\n"
     ]
    },
    {
     "name": "stdout",
     "output_type": "stream",
     "text": [
      "\n"
     ]
    },
    {
     "name": "stdout",
     "output_type": "stream",
     "text": [
      "Process 2479: Objective: pretends like it's doing something for 3.6s"
     ]
    },
    {
     "name": "stdout",
     "output_type": "stream",
     "text": [
      "Process 2436: Main     : acquired point [[0.10203183 0.77130856]]\n"
     ]
    },
    {
     "name": "stdout",
     "output_type": "stream",
     "text": [
      "Process 2472: Observer : observing data at point [[0.10203183 0.77130856]]"
     ]
    },
    {
     "name": "stdout",
     "output_type": "stream",
     "text": [
      "\n"
     ]
    },
    {
     "name": "stdout",
     "output_type": "stream",
     "text": [
      "Process 2472: Objective: pretends like it's doing something for 2.6s"
     ]
    },
    {
     "name": "stdout",
     "output_type": "stream",
     "text": [
      "\n"
     ]
    },
    {
     "name": "stdout",
     "output_type": "stream",
     "text": [
      "Process 2476: Observer : observed data (array([[0.14111638, 0.92295621]]), array([[-0.94964819]]))"
     ]
    },
    {
     "name": "stdout",
     "output_type": "stream",
     "text": [
      "\n"
     ]
    },
    {
     "name": "stdout",
     "output_type": "stream",
     "text": [
      "Process 2436: Main     : received data (array([[0.14111638, 0.92295621]]), array([[-0.94964819]]))\n"
     ]
    },
    {
     "name": "stdout",
     "output_type": "stream",
     "text": [
      "Process 2436: Main     : acquired point [[0.06589543 1.        ]]\n"
     ]
    },
    {
     "name": "stdout",
     "output_type": "stream",
     "text": [
      "Process 2476: Observer : observing data at point [[0.06589543 1.        ]]"
     ]
    },
    {
     "name": "stdout",
     "output_type": "stream",
     "text": [
      "\n"
     ]
    },
    {
     "name": "stdout",
     "output_type": "stream",
     "text": [
      "Process 2476: Objective: pretends like it's doing something for 3.2s"
     ]
    },
    {
     "name": "stdout",
     "output_type": "stream",
     "text": [
      "\n"
     ]
    },
    {
     "name": "stdout",
     "output_type": "stream",
     "text": [
      "Process 2472: Observer : observed data (array([[0.10203183, 0.77130856]]), array([[-0.99380749]]))"
     ]
    },
    {
     "name": "stdout",
     "output_type": "stream",
     "text": [
      "\n"
     ]
    },
    {
     "name": "stdout",
     "output_type": "stream",
     "text": [
      "Process 2436: Main     : received data (array([[0.10203183, 0.77130856]]), array([[-0.99380749]]))\n"
     ]
    },
    {
     "name": "stdout",
     "output_type": "stream",
     "text": [
      "Process 2436: Main     : acquired point [[0.10245047 1.        ]]\n"
     ]
    },
    {
     "name": "stdout",
     "output_type": "stream",
     "text": [
      "Process 2472: Observer : observing data at point [[0.10245047 1.        ]]"
     ]
    },
    {
     "name": "stdout",
     "output_type": "stream",
     "text": [
      "\n"
     ]
    },
    {
     "name": "stdout",
     "output_type": "stream",
     "text": [
      "Process 2472: Objective: pretends like it's doing something for 3.3s"
     ]
    },
    {
     "name": "stdout",
     "output_type": "stream",
     "text": [
      "\n"
     ]
    },
    {
     "name": "stdout",
     "output_type": "stream",
     "text": [
      "Process 2479: Observer : observed data (array([[0.23644668, 0.96092469]]), array([[-0.18707449]]))"
     ]
    },
    {
     "name": "stdout",
     "output_type": "stream",
     "text": [
      "\n"
     ]
    },
    {
     "name": "stdout",
     "output_type": "stream",
     "text": [
      "Process 2436: Main     : received data (array([[0.23644668, 0.96092469]]), array([[-0.18707449]]))\n"
     ]
    },
    {
     "name": "stdout",
     "output_type": "stream",
     "text": [
      "Process 2436: Main     : acquired point [[0.12633698 0.83174527]]\n"
     ]
    },
    {
     "name": "stdout",
     "output_type": "stream",
     "text": [
      "Process 2479: Observer : observing data at point [[0.12633698 0.83174527]]"
     ]
    },
    {
     "name": "stdout",
     "output_type": "stream",
     "text": [
      "\n"
     ]
    },
    {
     "name": "stdout",
     "output_type": "stream",
     "text": [
      "Process 2479: Objective: pretends like it's doing something for 2.9s"
     ]
    },
    {
     "name": "stdout",
     "output_type": "stream",
     "text": [
      "\n"
     ]
    },
    {
     "name": "stdout",
     "output_type": "stream",
     "text": [
      "Process 2476: Observer : observed data (array([[0.06589543, 1.        ]]), array([[-0.97620942]]))"
     ]
    },
    {
     "name": "stdout",
     "output_type": "stream",
     "text": [
      "\n"
     ]
    },
    {
     "name": "stdout",
     "output_type": "stream",
     "text": [
      "Process 2436: Main     : received data (array([[0.06589543, 1.        ]]), array([[-0.97620942]]))\n"
     ]
    },
    {
     "name": "stdout",
     "output_type": "stream",
     "text": [
      "Process 2436: Main     : acquired point [[1. 1.]]\n"
     ]
    },
    {
     "name": "stdout",
     "output_type": "stream",
     "text": [
      "Process 2476: Observer : observing data at point [[1. 1.]]"
     ]
    },
    {
     "name": "stdout",
     "output_type": "stream",
     "text": [
      "\n"
     ]
    },
    {
     "name": "stdout",
     "output_type": "stream",
     "text": [
      "Process 2476: Objective: pretends like it's doing something for 6.0s"
     ]
    },
    {
     "name": "stdout",
     "output_type": "stream",
     "text": [
      "\n"
     ]
    },
    {
     "name": "stdout",
     "output_type": "stream",
     "text": [
      "Process 2472: Observer : observed data (array([[0.10245047, 1.        ]]), array([[-0.96557026]]))"
     ]
    },
    {
     "name": "stdout",
     "output_type": "stream",
     "text": [
      "\n"
     ]
    },
    {
     "name": "stdout",
     "output_type": "stream",
     "text": [
      "Process 2436: Main     : received data (array([[0.10245047, 1.        ]]), array([[-0.96557026]]))\n"
     ]
    },
    {
     "name": "stdout",
     "output_type": "stream",
     "text": [
      "Process 2479: Observer : observed data (array([[0.12633698, 0.83174527]]), array([[-1.0456612]]))"
     ]
    },
    {
     "name": "stdout",
     "output_type": "stream",
     "text": [
      "\n"
     ]
    },
    {
     "name": "stdout",
     "output_type": "stream",
     "text": [
      "Process 2436: Main     : acquired point [[0.12729464 0.82024884]]\n"
     ]
    },
    {
     "name": "stdout",
     "output_type": "stream",
     "text": [
      "Process 2436: Main     : received data (array([[0.12633698, 0.83174527]]), array([[-1.0456612]]))\n"
     ]
    },
    {
     "name": "stdout",
     "output_type": "stream",
     "text": [
      "Process 2472: Observer : observing data at point [[0.12729464 0.82024884]]"
     ]
    },
    {
     "name": "stdout",
     "output_type": "stream",
     "text": [
      "\n"
     ]
    },
    {
     "name": "stdout",
     "output_type": "stream",
     "text": [
      "Process 2472: Objective: pretends like it's doing something for 2.8s"
     ]
    },
    {
     "name": "stdout",
     "output_type": "stream",
     "text": [
      "\n"
     ]
    },
    {
     "name": "stdout",
     "output_type": "stream",
     "text": [
      "Process 2436: Main     : acquired point [[0.82961285 1.        ]]\n"
     ]
    },
    {
     "name": "stdout",
     "output_type": "stream",
     "text": [
      "Process 2479: Observer : observing data at point [[0.82961285 1.        ]]"
     ]
    },
    {
     "name": "stdout",
     "output_type": "stream",
     "text": [
      "\n"
     ]
    },
    {
     "name": "stdout",
     "output_type": "stream",
     "text": [
      "Process 2479: Objective: pretends like it's doing something for 5.5s"
     ]
    },
    {
     "name": "stdout",
     "output_type": "stream",
     "text": [
      "\n"
     ]
    },
    {
     "name": "stdout",
     "output_type": "stream",
     "text": [
      "Process 2472: Observer : observed data (array([[0.12729464, 0.82024884]]), array([[-1.0467146]]))"
     ]
    },
    {
     "name": "stdout",
     "output_type": "stream",
     "text": [
      "\n"
     ]
    },
    {
     "name": "stdout",
     "output_type": "stream",
     "text": [
      "Process 2436: Main     : received data (array([[0.12729464, 0.82024884]]), array([[-1.0467146]]))\n"
     ]
    },
    {
     "name": "stdout",
     "output_type": "stream",
     "text": [
      "Process 2436: Main     : acquired point [[1.         0.83896378]]\n"
     ]
    },
    {
     "name": "stdout",
     "output_type": "stream",
     "text": [
      "Process 2472: Observer : observing data at point [[1.         0.83896378]]"
     ]
    },
    {
     "name": "stdout",
     "output_type": "stream",
     "text": [
      "\n"
     ]
    },
    {
     "name": "stdout",
     "output_type": "stream",
     "text": [
      "Process 2472: Objective: pretends like it's doing something for 5.5s"
     ]
    },
    {
     "name": "stdout",
     "output_type": "stream",
     "text": [
      "\n"
     ]
    },
    {
     "name": "stdout",
     "output_type": "stream",
     "text": [
      "Process 2476: Observer : observed data (array([[1., 1.]]), array([[1.75288144]]))"
     ]
    },
    {
     "name": "stdout",
     "output_type": "stream",
     "text": [
      "\n"
     ]
    },
    {
     "name": "stdout",
     "output_type": "stream",
     "text": [
      "Process 2436: Main     : received data (array([[1., 1.]]), array([[1.75288144]]))\n"
     ]
    },
    {
     "name": "stdout",
     "output_type": "stream",
     "text": [
      "Process 2436: Main     : acquired point [[0. 0.]]\n"
     ]
    },
    {
     "name": "stdout",
     "output_type": "stream",
     "text": [
      "Process 2476: Observer : observing data at point [[0. 0.]]"
     ]
    },
    {
     "name": "stdout",
     "output_type": "stream",
     "text": [
      "\n"
     ]
    },
    {
     "name": "stdout",
     "output_type": "stream",
     "text": [
      "Process 2476: Objective: pretends like it's doing something for 0.0s"
     ]
    },
    {
     "name": "stdout",
     "output_type": "stream",
     "text": [
      "\n"
     ]
    },
    {
     "name": "stdout",
     "output_type": "stream",
     "text": [
      "Process 2476: Observer : observed data (array([[0., 0.]]), array([[4.87620974]]))"
     ]
    },
    {
     "name": "stdout",
     "output_type": "stream",
     "text": [
      "\n"
     ]
    },
    {
     "name": "stdout",
     "output_type": "stream",
     "text": [
      "Process 2436: Main     : received data (array([[0., 0.]]), array([[4.87620974]]))\n"
     ]
    },
    {
     "name": "stdout",
     "output_type": "stream",
     "text": [
      "Process 2436: Main     : acquired point [[0.51082519 0.21516763]]\n"
     ]
    },
    {
     "name": "stdout",
     "output_type": "stream",
     "text": [
      "Process 2476: Observer : observing data at point [[0.51082519 0.21516763]]"
     ]
    },
    {
     "name": "stdout",
     "output_type": "stream",
     "text": [
      "\n"
     ]
    },
    {
     "name": "stdout",
     "output_type": "stream",
     "text": [
      "Process 2476: Objective: pretends like it's doing something for 2.2s"
     ]
    },
    {
     "name": "stdout",
     "output_type": "stream",
     "text": [
      "\n"
     ]
    },
    {
     "name": "stdout",
     "output_type": "stream",
     "text": [
      "Process 2479: Observer : observed data (array([[0.82961285, 1.        ]]), array([[2.81813135]]))"
     ]
    },
    {
     "name": "stdout",
     "output_type": "stream",
     "text": [
      "\n"
     ]
    },
    {
     "name": "stdout",
     "output_type": "stream",
     "text": [
      "Process 2436: Main     : received data (array([[0.82961285, 1.        ]]), array([[2.81813135]]))\n"
     ]
    },
    {
     "name": "stdout",
     "output_type": "stream",
     "text": [
      "Process 2436: Main     : acquired point [[0.51101279 0.21311573]]\n"
     ]
    },
    {
     "name": "stdout",
     "output_type": "stream",
     "text": [
      "Process 2479: Observer : observing data at point [[0.51101279 0.21311573]]"
     ]
    },
    {
     "name": "stdout",
     "output_type": "stream",
     "text": [
      "\n"
     ]
    },
    {
     "name": "stdout",
     "output_type": "stream",
     "text": [
      "Process 2479: Objective: pretends like it's doing something for 2.2s"
     ]
    },
    {
     "name": "stdout",
     "output_type": "stream",
     "text": [
      "\n"
     ]
    },
    {
     "name": "stdout",
     "output_type": "stream",
     "text": [
      "Process 2476: Observer : observed data (array([[0.51082519, 0.21516763]]), array([[-1.02076926]]))"
     ]
    },
    {
     "name": "stdout",
     "output_type": "stream",
     "text": [
      "\n"
     ]
    },
    {
     "name": "stdout",
     "output_type": "stream",
     "text": [
      "Process 2436: Main     : received data (array([[0.51082519, 0.21516763]]), array([[-1.02076926]]))\n"
     ]
    },
    {
     "name": "stdout",
     "output_type": "stream",
     "text": [
      "Process 2436: Main     : acquired point [[0.64621605 0.5351165 ]]\n"
     ]
    },
    {
     "name": "stdout",
     "output_type": "stream",
     "text": [
      "Process 2476: Observer : observing data at point [[0.64621605 0.5351165 ]]"
     ]
    },
    {
     "name": "stdout",
     "output_type": "stream",
     "text": [
      "Got 33 observations in 41.10s\n"
     ]
    }
   ],
   "source": [
    "\n",
    "# setup Ask Tell BO\n",
    "model = build_model(initial_data)\n",
    "\n",
    "local_penalization_acq = LocalPenalization(search_space, num_samples=2000)\n",
    "local_penalization_rule = AsynchronousGreedy(builder=local_penalization_acq)  # type: ignore\n",
    "\n",
    "async_bo = AskTellOptimizer(\n",
    "    search_space, initial_data, model, local_penalization_rule\n",
    ")\n",
    "\n",
    "# retrieve process id for nice logging\n",
    "pid = os.getpid()\n",
    "# create point and observation queues\n",
    "m = Manager()\n",
    "pq = m.Queue()\n",
    "oq = m.Queue()\n",
    "# keep track of all workers we have launched\n",
    "observer_processes = []\n",
    "# counter to keep track of collected observations\n",
    "points_observed = 0\n",
    "\n",
    "start = timeit.default_timer()\n",
    "try:\n",
    "    observer_processes = create_worker_processes(num_workers, pq, oq)\n",
    "\n",
    "    # init the queue with first batch of points\n",
    "    for _ in range(num_workers):\n",
    "        point = async_bo.ask()\n",
    "        pq.put(np.atleast_2d(point.numpy()))\n",
    "\n",
    "    while points_observed < num_observations:\n",
    "        # keep asking queue for new observations until one arrives\n",
    "        try:\n",
    "            new_data = oq.get_nowait()\n",
    "            print(\n",
    "                f\"Process {pid}: Main     : received data {new_data}\",\n",
    "                flush=True,\n",
    "            )\n",
    "        except:\n",
    "            continue\n",
    "\n",
    "        # new_data is a tuple of (point, observation value)\n",
    "        # here we turn it into a Dataset and tell of it Trieste\n",
    "        points_observed += 1\n",
    "        new_data = Dataset(\n",
    "            query_points=tf.constant(new_data[0], dtype=tf.float64),\n",
    "            observations=tf.constant(new_data[1], dtype=tf.float64),\n",
    "        )\n",
    "        async_bo.tell(new_data)\n",
    "\n",
    "        # now we can ask Trieste for one more point\n",
    "        # and feed that back into the points queue\n",
    "        point = async_bo.ask()\n",
    "        print(f\"Process {pid}: Main     : acquired point {point}\", flush=True)\n",
    "        pq.put(np.atleast_2d(point))\n",
    "finally:\n",
    "    terminate_processes(observer_processes)\n",
    "stop = timeit.default_timer()\n",
    "\n",
    "# Collect the observations, compute the running time\n",
    "async_lp_observations = (\n",
    "    async_bo.to_result().try_get_final_dataset().observations\n",
    "    - SCALED_BRANIN_MINIMUM\n",
    ")\n",
    "async_lp_time = stop - start\n",
    "print(f\"Got {len(async_lp_observations)} observations in {async_lp_time:.2f}s\")"
   ]
  },
  {
   "cell_type": "markdown",
   "id": "81650d52",
   "metadata": {},
   "source": [
    "## Synchronous parallel optimization\n",
    "\n",
    "This section runs the synchronous parallel optimization with Trieste. We again use Local Penalization acquisition function, but this time with batch size equal to the number of workers we have available. Once Trieste suggests the batch, we add all points to the point queue, and workers immediatelly pick them up, one point per worker. Therefore all points in the batch are evaluated in parallel."
   ]
  },
  {
   "cell_type": "code",
   "execution_count": 9,
   "id": "7508d2cd",
   "metadata": {
    "execution": {
     "iopub.execute_input": "2021-12-29T10:11:33.201527Z",
     "iopub.status.busy": "2021-12-29T10:11:33.200756Z",
     "iopub.status.idle": "2021-12-29T10:12:17.609014Z",
     "shell.execute_reply": "2021-12-29T10:12:17.609726Z"
    },
    "lines_to_next_cell": 2
   },
   "outputs": [
    {
     "name": "stdout",
     "output_type": "stream",
     "text": [
      "Process 2436: Main     : iteration 0 starts\n"
     ]
    },
    {
     "name": "stdout",
     "output_type": "stream",
     "text": [
      "Process 2891: Observer : observing data at point [[0.64549279 0.        ]]"
     ]
    },
    {
     "name": "stdout",
     "output_type": "stream",
     "text": [
      "Process 2895: Observer : observing data at point [[0.41553594 0.        ]]"
     ]
    },
    {
     "name": "stdout",
     "output_type": "stream",
     "text": [
      "Process 2899: Observer : observing data at point [[0.83738479 0.        ]]"
     ]
    },
    {
     "name": "stdout",
     "output_type": "stream",
     "text": [
      "\n"
     ]
    },
    {
     "name": "stdout",
     "output_type": "stream",
     "text": [
      "\n"
     ]
    },
    {
     "name": "stdout",
     "output_type": "stream",
     "text": [
      "Process 2891: Objective: pretends like it's doing something for 1.9s"
     ]
    },
    {
     "name": "stdout",
     "output_type": "stream",
     "text": [
      "\n"
     ]
    },
    {
     "name": "stdout",
     "output_type": "stream",
     "text": [
      "Process 2895: Objective: pretends like it's doing something for 1.2s"
     ]
    },
    {
     "name": "stdout",
     "output_type": "stream",
     "text": [
      "Process 2899: Objective: pretends like it's doing something for 2.5s"
     ]
    },
    {
     "name": "stdout",
     "output_type": "stream",
     "text": [
      "\n"
     ]
    },
    {
     "name": "stdout",
     "output_type": "stream",
     "text": [
      "\n"
     ]
    },
    {
     "name": "stdout",
     "output_type": "stream",
     "text": [
      "\n"
     ]
    },
    {
     "name": "stdout",
     "output_type": "stream",
     "text": [
      "Process 2895: Observer : observed data (array([[0.41553594, 0.        ]]), array([[-0.45623962]]))"
     ]
    },
    {
     "name": "stdout",
     "output_type": "stream",
     "text": [
      "\n"
     ]
    },
    {
     "name": "stdout",
     "output_type": "stream",
     "text": [
      "Process 2436: Main     : received data (array([[0.41553594, 0.        ]]), array([[-0.45623962]]))\n"
     ]
    },
    {
     "name": "stdout",
     "output_type": "stream",
     "text": [
      "Process 2891: Observer : observed data (array([[0.64549279, 0.        ]]), array([[-0.83144093]]))"
     ]
    },
    {
     "name": "stdout",
     "output_type": "stream",
     "text": [
      "\n"
     ]
    },
    {
     "name": "stdout",
     "output_type": "stream",
     "text": [
      "Process 2436: Main     : received data (array([[0.64549279, 0.        ]]), array([[-0.83144093]]))\n"
     ]
    },
    {
     "name": "stdout",
     "output_type": "stream",
     "text": [
      "Process 2899: Observer : observed data (array([[0.83738479, 0.        ]]), array([[-0.77397718]]))"
     ]
    },
    {
     "name": "stdout",
     "output_type": "stream",
     "text": [
      "\n"
     ]
    },
    {
     "name": "stdout",
     "output_type": "stream",
     "text": [
      "Process 2436: Main     : received data (array([[0.83738479, 0.        ]]), array([[-0.77397718]]))\n"
     ]
    },
    {
     "name": "stdout",
     "output_type": "stream",
     "text": [
      "Process 2436: Main     : iteration 1 starts\n"
     ]
    },
    {
     "name": "stdout",
     "output_type": "stream",
     "text": [
      "Process 2895: Observer : observing data at point [[0.763051  0.2160595]]"
     ]
    },
    {
     "name": "stdout",
     "output_type": "stream",
     "text": [
      "Process 2891: Observer : observing data at point [[0.66715886 0.23240966]]"
     ]
    },
    {
     "name": "stdout",
     "output_type": "stream",
     "text": [
      "\n"
     ]
    },
    {
     "name": "stdout",
     "output_type": "stream",
     "text": [
      "Process 2899: Observer : observing data at point [[0.86540312 0.21522722]]"
     ]
    },
    {
     "name": "stdout",
     "output_type": "stream",
     "text": [
      "\n"
     ]
    },
    {
     "name": "stdout",
     "output_type": "stream",
     "text": [
      "\n"
     ]
    },
    {
     "name": "stdout",
     "output_type": "stream",
     "text": [
      "Process 2895: Objective: pretends like it's doing something for 2.9s"
     ]
    },
    {
     "name": "stdout",
     "output_type": "stream",
     "text": [
      "Process 2891: Objective: pretends like it's doing something for 2.7s"
     ]
    },
    {
     "name": "stdout",
     "output_type": "stream",
     "text": [
      "\n"
     ]
    },
    {
     "name": "stdout",
     "output_type": "stream",
     "text": [
      "Process 2899: Objective: pretends like it's doing something for 3.2s"
     ]
    },
    {
     "name": "stdout",
     "output_type": "stream",
     "text": [
      "\n"
     ]
    },
    {
     "name": "stdout",
     "output_type": "stream",
     "text": [
      "\n"
     ]
    },
    {
     "name": "stdout",
     "output_type": "stream",
     "text": [
      "Process 2891: Observer : observed data (array([[0.66715886, 0.23240966]]), array([[-0.71425472]]))"
     ]
    },
    {
     "name": "stdout",
     "output_type": "stream",
     "text": [
      "\n"
     ]
    },
    {
     "name": "stdout",
     "output_type": "stream",
     "text": [
      "Process 2436: Main     : received data (array([[0.66715886, 0.23240966]]), array([[-0.71425472]]))\n"
     ]
    },
    {
     "name": "stdout",
     "output_type": "stream",
     "text": [
      "Process 2895: Observer : observed data (array([[0.763051 , 0.2160595]]), array([[-0.59264283]]))"
     ]
    },
    {
     "name": "stdout",
     "output_type": "stream",
     "text": [
      "\n"
     ]
    },
    {
     "name": "stdout",
     "output_type": "stream",
     "text": [
      "Process 2436: Main     : received data (array([[0.763051 , 0.2160595]]), array([[-0.59264283]]))\n"
     ]
    },
    {
     "name": "stdout",
     "output_type": "stream",
     "text": [
      "Process 2899: Observer : observed data (array([[0.86540312, 0.21522722]]), array([[-0.83022422]]))"
     ]
    },
    {
     "name": "stdout",
     "output_type": "stream",
     "text": [
      "\n"
     ]
    },
    {
     "name": "stdout",
     "output_type": "stream",
     "text": [
      "Process 2436: Main     : received data (array([[0.86540312, 0.21522722]]), array([[-0.83022422]]))\n"
     ]
    },
    {
     "name": "stdout",
     "output_type": "stream",
     "text": [
      "Process 2436: Main     : iteration 2 starts\n"
     ]
    },
    {
     "name": "stdout",
     "output_type": "stream",
     "text": [
      "Process 2891: Observer : observing data at point [[1.         0.26391425]]"
     ]
    },
    {
     "name": "stdout",
     "output_type": "stream",
     "text": [
      "Process 2895: Observer : observing data at point [[0.47421663 0.26567206]]"
     ]
    },
    {
     "name": "stdout",
     "output_type": "stream",
     "text": [
      "Process 2899: Observer : observing data at point [[1.        0.3141301]]"
     ]
    },
    {
     "name": "stdout",
     "output_type": "stream",
     "text": [
      "\n"
     ]
    },
    {
     "name": "stdout",
     "output_type": "stream",
     "text": [
      "\n"
     ]
    },
    {
     "name": "stdout",
     "output_type": "stream",
     "text": [
      "Process 2899: Objective: pretends like it's doing something for 3.9s"
     ]
    },
    {
     "name": "stdout",
     "output_type": "stream",
     "text": [
      "\n"
     ]
    },
    {
     "name": "stdout",
     "output_type": "stream",
     "text": [
      "\n"
     ]
    },
    {
     "name": "stdout",
     "output_type": "stream",
     "text": [
      "Process 2891: Objective: pretends like it's doing something for 3.8s"
     ]
    },
    {
     "name": "stdout",
     "output_type": "stream",
     "text": [
      "Process 2895: Objective: pretends like it's doing something for 2.2s"
     ]
    },
    {
     "name": "stdout",
     "output_type": "stream",
     "text": [
      "\n"
     ]
    },
    {
     "name": "stdout",
     "output_type": "stream",
     "text": [
      "\n"
     ]
    },
    {
     "name": "stdout",
     "output_type": "stream",
     "text": [
      "Process 2895: Observer : observed data (array([[0.47421663, 0.26567206]]), array([[-0.94652084]]))"
     ]
    },
    {
     "name": "stdout",
     "output_type": "stream",
     "text": [
      "\n"
     ]
    },
    {
     "name": "stdout",
     "output_type": "stream",
     "text": [
      "Process 2436: Main     : received data (array([[0.47421663, 0.26567206]]), array([[-0.94652084]]))\n"
     ]
    },
    {
     "name": "stdout",
     "output_type": "stream",
     "text": [
      "Process 2891: Observer : observed data (array([[1.        , 0.26391425]]), array([[-1.00006521]]))"
     ]
    },
    {
     "name": "stdout",
     "output_type": "stream",
     "text": [
      "\n"
     ]
    },
    {
     "name": "stdout",
     "output_type": "stream",
     "text": [
      "Process 2436: Main     : received data (array([[1.        , 0.26391425]]), array([[-1.00006521]]))\n"
     ]
    },
    {
     "name": "stdout",
     "output_type": "stream",
     "text": [
      "Process 2899: Observer : observed data (array([[1.       , 0.3141301]]), array([[-0.96142822]]))"
     ]
    },
    {
     "name": "stdout",
     "output_type": "stream",
     "text": [
      "\n"
     ]
    },
    {
     "name": "stdout",
     "output_type": "stream",
     "text": [
      "Process 2436: Main     : received data (array([[1.       , 0.3141301]]), array([[-0.96142822]]))\n"
     ]
    },
    {
     "name": "stdout",
     "output_type": "stream",
     "text": [
      "Process 2436: Main     : iteration 3 starts\n"
     ]
    },
    {
     "name": "stdout",
     "output_type": "stream",
     "text": [
      "Process 2895: Observer : observing data at point [[0.53676516 0.15090397]]"
     ]
    },
    {
     "name": "stdout",
     "output_type": "stream",
     "text": [
      "\n"
     ]
    },
    {
     "name": "stdout",
     "output_type": "stream",
     "text": [
      "Process 2899: Observer : observing data at point [[0.55579364 0.11228967]]"
     ]
    },
    {
     "name": "stdout",
     "output_type": "stream",
     "text": [
      "Process 2895: Objective: pretends like it's doing something for 2.1s"
     ]
    },
    {
     "name": "stdout",
     "output_type": "stream",
     "text": [
      "\n"
     ]
    },
    {
     "name": "stdout",
     "output_type": "stream",
     "text": [
      "Process 2891: Observer : observing data at point [[0.54024553 0.38590082]]"
     ]
    },
    {
     "name": "stdout",
     "output_type": "stream",
     "text": [
      "Process 2899: Objective: pretends like it's doing something for 2.0s"
     ]
    },
    {
     "name": "stdout",
     "output_type": "stream",
     "text": [
      "\n"
     ]
    },
    {
     "name": "stdout",
     "output_type": "stream",
     "text": [
      "\n"
     ]
    },
    {
     "name": "stdout",
     "output_type": "stream",
     "text": [
      "\n"
     ]
    },
    {
     "name": "stdout",
     "output_type": "stream",
     "text": [
      "Process 2891: Objective: pretends like it's doing something for 2.8s"
     ]
    },
    {
     "name": "stdout",
     "output_type": "stream",
     "text": [
      "\n"
     ]
    },
    {
     "name": "stdout",
     "output_type": "stream",
     "text": [
      "Process 2899: Observer : observed data (array([[0.55579364, 0.11228967]]), array([[-1.04009747]]))"
     ]
    },
    {
     "name": "stdout",
     "output_type": "stream",
     "text": [
      "\n"
     ]
    },
    {
     "name": "stdout",
     "output_type": "stream",
     "text": [
      "Process 2436: Main     : received data (array([[0.55579364, 0.11228967]]), array([[-1.04009747]]))\n"
     ]
    },
    {
     "name": "stdout",
     "output_type": "stream",
     "text": [
      "Process 2895: Observer : observed data (array([[0.53676516, 0.15090397]]), array([[-1.04651204]]))"
     ]
    },
    {
     "name": "stdout",
     "output_type": "stream",
     "text": [
      "\n"
     ]
    },
    {
     "name": "stdout",
     "output_type": "stream",
     "text": [
      "Process 2436: Main     : received data (array([[0.53676516, 0.15090397]]), array([[-1.04651204]]))\n"
     ]
    },
    {
     "name": "stdout",
     "output_type": "stream",
     "text": [
      "Process 2891: Observer : observed data (array([[0.54024553, 0.38590082]]), array([[-0.81364028]]))"
     ]
    },
    {
     "name": "stdout",
     "output_type": "stream",
     "text": [
      "\n"
     ]
    },
    {
     "name": "stdout",
     "output_type": "stream",
     "text": [
      "Process 2436: Main     : received data (array([[0.54024553, 0.38590082]]), array([[-0.81364028]]))\n"
     ]
    },
    {
     "name": "stdout",
     "output_type": "stream",
     "text": [
      "Process 2436: Main     : iteration 4 starts\n"
     ]
    },
    {
     "name": "stdout",
     "output_type": "stream",
     "text": [
      "Process 2899: Observer : observing data at point [[1. 0.]]"
     ]
    },
    {
     "name": "stdout",
     "output_type": "stream",
     "text": [
      "Process 2891: Observer : observing data at point [[0.07678108 0.47173911]]"
     ]
    },
    {
     "name": "stdout",
     "output_type": "stream",
     "text": [
      "\n"
     ]
    },
    {
     "name": "stdout",
     "output_type": "stream",
     "text": [
      "\n"
     ]
    },
    {
     "name": "stdout",
     "output_type": "stream",
     "text": [
      "Process 2891: Objective: pretends like it's doing something for 1.6s"
     ]
    },
    {
     "name": "stdout",
     "output_type": "stream",
     "text": [
      "Process 2899: Objective: pretends like it's doing something for 3.0s"
     ]
    },
    {
     "name": "stdout",
     "output_type": "stream",
     "text": [
      "Process 2895: Observer : observing data at point [[0.99856905 0.0621462 ]]"
     ]
    },
    {
     "name": "stdout",
     "output_type": "stream",
     "text": [
      "\n"
     ]
    },
    {
     "name": "stdout",
     "output_type": "stream",
     "text": [
      "\n"
     ]
    },
    {
     "name": "stdout",
     "output_type": "stream",
     "text": [
      "\n"
     ]
    },
    {
     "name": "stdout",
     "output_type": "stream",
     "text": [
      "Process 2895: Objective: pretends like it's doing something for 3.2s"
     ]
    },
    {
     "name": "stdout",
     "output_type": "stream",
     "text": [
      "\n"
     ]
    },
    {
     "name": "stdout",
     "output_type": "stream",
     "text": [
      "Process 2891: Observer : observed data (array([[0.07678108, 0.47173911]]), array([[-0.07018667]]))"
     ]
    },
    {
     "name": "stdout",
     "output_type": "stream",
     "text": [
      "\n"
     ]
    },
    {
     "name": "stdout",
     "output_type": "stream",
     "text": [
      "Process 2436: Main     : received data (array([[0.07678108, 0.47173911]]), array([[-0.07018667]]))\n"
     ]
    },
    {
     "name": "stdout",
     "output_type": "stream",
     "text": [
      "Process 2899: Observer : observed data (array([[1., 0.]]), array([[-0.84406373]]))"
     ]
    },
    {
     "name": "stdout",
     "output_type": "stream",
     "text": [
      "\n"
     ]
    },
    {
     "name": "stdout",
     "output_type": "stream",
     "text": [
      "Process 2436: Main     : received data (array([[1., 0.]]), array([[-0.84406373]]))\n"
     ]
    },
    {
     "name": "stdout",
     "output_type": "stream",
     "text": [
      "Process 2895: Observer : observed data (array([[0.99856905, 0.0621462 ]]), array([[-0.93891348]]))"
     ]
    },
    {
     "name": "stdout",
     "output_type": "stream",
     "text": [
      "\n"
     ]
    },
    {
     "name": "stdout",
     "output_type": "stream",
     "text": [
      "Process 2436: Main     : received data (array([[0.99856905, 0.0621462 ]]), array([[-0.93891348]]))\n"
     ]
    },
    {
     "name": "stdout",
     "output_type": "stream",
     "text": [
      "Process 2436: Main     : iteration 5 starts\n"
     ]
    },
    {
     "name": "stdout",
     "output_type": "stream",
     "text": [
      "Process 2895: Observer : observing data at point [[0.55384911 0.15410753]]"
     ]
    },
    {
     "name": "stdout",
     "output_type": "stream",
     "text": [
      "Process 2891: Observer : observing data at point [[0.55204351 0.15915149]]"
     ]
    },
    {
     "name": "stdout",
     "output_type": "stream",
     "text": [
      "Process 2899: Observer : observing data at point [[0.55048428 0.16435844]]"
     ]
    },
    {
     "name": "stdout",
     "output_type": "stream",
     "text": [
      "\n"
     ]
    },
    {
     "name": "stdout",
     "output_type": "stream",
     "text": [
      "\n"
     ]
    },
    {
     "name": "stdout",
     "output_type": "stream",
     "text": [
      "\n"
     ]
    },
    {
     "name": "stdout",
     "output_type": "stream",
     "text": [
      "Process 2899: Objective: pretends like it's doing something for 2.1s"
     ]
    },
    {
     "name": "stdout",
     "output_type": "stream",
     "text": [
      "Process 2891: Objective: pretends like it's doing something for 2.1s"
     ]
    },
    {
     "name": "stdout",
     "output_type": "stream",
     "text": [
      "\n"
     ]
    },
    {
     "name": "stdout",
     "output_type": "stream",
     "text": [
      "Process 2895: Objective: pretends like it's doing something for 2.1s"
     ]
    },
    {
     "name": "stdout",
     "output_type": "stream",
     "text": [
      "\n"
     ]
    },
    {
     "name": "stdout",
     "output_type": "stream",
     "text": [
      "\n"
     ]
    },
    {
     "name": "stdout",
     "output_type": "stream",
     "text": [
      "Process 2895: Observer : observed data (array([[0.55384911, 0.15410753]]), array([[-1.04433967]]))"
     ]
    },
    {
     "name": "stdout",
     "output_type": "stream",
     "text": [
      "\n"
     ]
    },
    {
     "name": "stdout",
     "output_type": "stream",
     "text": [
      "Process 2436: Main     : received data (array([[0.55384911, 0.15410753]]), array([[-1.04433967]]))\n"
     ]
    },
    {
     "name": "stdout",
     "output_type": "stream",
     "text": [
      "Process 2891: Observer : observed data (array([[0.55204351, 0.15915149]]), array([[-1.04469298]]))"
     ]
    },
    {
     "name": "stdout",
     "output_type": "stream",
     "text": [
      "\n"
     ]
    },
    {
     "name": "stdout",
     "output_type": "stream",
     "text": [
      "Process 2436: Main     : received data (array([[0.55204351, 0.15915149]]), array([[-1.04469298]]))\n"
     ]
    },
    {
     "name": "stdout",
     "output_type": "stream",
     "text": [
      "Process 2899: Observer : observed data (array([[0.55048428, 0.16435844]]), array([[-1.04466191]]))"
     ]
    },
    {
     "name": "stdout",
     "output_type": "stream",
     "text": [
      "\n"
     ]
    },
    {
     "name": "stdout",
     "output_type": "stream",
     "text": [
      "Process 2436: Main     : received data (array([[0.55048428, 0.16435844]]), array([[-1.04466191]]))\n"
     ]
    },
    {
     "name": "stdout",
     "output_type": "stream",
     "text": [
      "Process 2436: Main     : iteration 6 starts\n"
     ]
    },
    {
     "name": "stdout",
     "output_type": "stream",
     "text": [
      "Process 2895: Observer : observing data at point [[0.29747278 0.93755448]]"
     ]
    },
    {
     "name": "stdout",
     "output_type": "stream",
     "text": [
      "Process 2891: Observer : observing data at point [[0.96328943 0.17859724]]"
     ]
    },
    {
     "name": "stdout",
     "output_type": "stream",
     "text": [
      "Process 2899: Observer : observing data at point [[0.96372677 0.18102805]]"
     ]
    },
    {
     "name": "stdout",
     "output_type": "stream",
     "text": [
      "\n"
     ]
    },
    {
     "name": "stdout",
     "output_type": "stream",
     "text": [
      "\n"
     ]
    },
    {
     "name": "stdout",
     "output_type": "stream",
     "text": [
      "\n"
     ]
    },
    {
     "name": "stdout",
     "output_type": "stream",
     "text": [
      "\n"
     ]
    },
    {
     "name": "stdout",
     "output_type": "stream",
     "text": [
      "Process 2891: Objective: pretends like it's doing something for 3.4s"
     ]
    },
    {
     "name": "stdout",
     "output_type": "stream",
     "text": [
      "Process 2899: Objective: pretends like it's doing something for 3.4s"
     ]
    },
    {
     "name": "stdout",
     "output_type": "stream",
     "text": [
      "Process 2895: Objective: pretends like it's doing something for 3.7s"
     ]
    },
    {
     "name": "stdout",
     "output_type": "stream",
     "text": [
      "\n"
     ]
    },
    {
     "name": "stdout",
     "output_type": "stream",
     "text": [
      "\n"
     ]
    },
    {
     "name": "stdout",
     "output_type": "stream",
     "text": [
      "Process 2891: Observer : observed data (array([[0.96328943, 0.17859724]]), array([[-1.04669236]]))"
     ]
    },
    {
     "name": "stdout",
     "output_type": "stream",
     "text": [
      "\n"
     ]
    },
    {
     "name": "stdout",
     "output_type": "stream",
     "text": [
      "Process 2436: Main     : received data (array([[0.96328943, 0.17859724]]), array([[-1.04669236]]))\n"
     ]
    },
    {
     "name": "stdout",
     "output_type": "stream",
     "text": [
      "Process 2899: Observer : observed data (array([[0.96372677, 0.18102805]]), array([[-1.04642249]]))"
     ]
    },
    {
     "name": "stdout",
     "output_type": "stream",
     "text": [
      "\n"
     ]
    },
    {
     "name": "stdout",
     "output_type": "stream",
     "text": [
      "Process 2436: Main     : received data (array([[0.96372677, 0.18102805]]), array([[-1.04642249]]))\n"
     ]
    },
    {
     "name": "stdout",
     "output_type": "stream",
     "text": [
      "Process 2895: Observer : observed data (array([[0.29747278, 0.93755448]]), array([[0.28570923]]))"
     ]
    },
    {
     "name": "stdout",
     "output_type": "stream",
     "text": [
      "\n"
     ]
    },
    {
     "name": "stdout",
     "output_type": "stream",
     "text": [
      "Process 2436: Main     : received data (array([[0.29747278, 0.93755448]]), array([[0.28570923]]))\n"
     ]
    },
    {
     "name": "stdout",
     "output_type": "stream",
     "text": [
      "Process 2436: Main     : iteration 7 starts\n"
     ]
    },
    {
     "name": "stdout",
     "output_type": "stream",
     "text": [
      "Process 2891: Observer : observing data at point [[1. 1.]]"
     ]
    },
    {
     "name": "stdout",
     "output_type": "stream",
     "text": [
      "Process 2891: Objective: pretends like it's doing something for 6.0s"
     ]
    },
    {
     "name": "stdout",
     "output_type": "stream",
     "text": [
      "\n"
     ]
    },
    {
     "name": "stdout",
     "output_type": "stream",
     "text": [
      "Process 2899: Observer : observing data at point [[0.70010977 1.        ]]"
     ]
    },
    {
     "name": "stdout",
     "output_type": "stream",
     "text": [
      "Process 2895: Observer : observing data at point [[0.95445792 0.149862  ]]"
     ]
    },
    {
     "name": "stdout",
     "output_type": "stream",
     "text": [
      "\n"
     ]
    },
    {
     "name": "stdout",
     "output_type": "stream",
     "text": [
      "\n"
     ]
    },
    {
     "name": "stdout",
     "output_type": "stream",
     "text": [
      "\n"
     ]
    },
    {
     "name": "stdout",
     "output_type": "stream",
     "text": [
      "Process 2895: Objective: pretends like it's doing something for 3.3s"
     ]
    },
    {
     "name": "stdout",
     "output_type": "stream",
     "text": [
      "Process 2899: Objective: pretends like it's doing something for 5.1s"
     ]
    },
    {
     "name": "stdout",
     "output_type": "stream",
     "text": [
      "\n"
     ]
    },
    {
     "name": "stdout",
     "output_type": "stream",
     "text": [
      "\n"
     ]
    },
    {
     "name": "stdout",
     "output_type": "stream",
     "text": [
      "Process 2895: Observer : observed data (array([[0.95445792, 0.149862  ]]), array([[-1.0459546]]))"
     ]
    },
    {
     "name": "stdout",
     "output_type": "stream",
     "text": [
      "\n"
     ]
    },
    {
     "name": "stdout",
     "output_type": "stream",
     "text": [
      "Process 2436: Main     : received data (array([[0.95445792, 0.149862  ]]), array([[-1.0459546]]))\n"
     ]
    },
    {
     "name": "stdout",
     "output_type": "stream",
     "text": [
      "Process 2899: Observer : observed data (array([[0.70010977, 1.        ]]), array([[2.9589371]]))"
     ]
    },
    {
     "name": "stdout",
     "output_type": "stream",
     "text": [
      "\n"
     ]
    },
    {
     "name": "stdout",
     "output_type": "stream",
     "text": [
      "Process 2436: Main     : received data (array([[0.70010977, 1.        ]]), array([[2.9589371]]))\n"
     ]
    },
    {
     "name": "stdout",
     "output_type": "stream",
     "text": [
      "Process 2891: Observer : observed data (array([[1., 1.]]), array([[1.75288144]]))"
     ]
    },
    {
     "name": "stdout",
     "output_type": "stream",
     "text": [
      "\n"
     ]
    },
    {
     "name": "stdout",
     "output_type": "stream",
     "text": [
      "Process 2436: Main     : received data (array([[1., 1.]]), array([[1.75288144]]))\n"
     ]
    },
    {
     "name": "stdout",
     "output_type": "stream",
     "text": [
      "Process 2436: Main     : iteration 8 starts\n"
     ]
    },
    {
     "name": "stdout",
     "output_type": "stream",
     "text": [
      "Process 2899: Observer : observing data at point [[0. 1.]]"
     ]
    },
    {
     "name": "stdout",
     "output_type": "stream",
     "text": [
      "Process 2891: Observer : observing data at point [[0.11286268 0.72291966]]"
     ]
    },
    {
     "name": "stdout",
     "output_type": "stream",
     "text": [
      "\n"
     ]
    },
    {
     "name": "stdout",
     "output_type": "stream",
     "text": [
      "Process 2895: Observer : observing data at point [[0.         0.84494177]]"
     ]
    },
    {
     "name": "stdout",
     "output_type": "stream",
     "text": [
      "Process 2899: Objective: pretends like it's doing something for 3.0s"
     ]
    },
    {
     "name": "stdout",
     "output_type": "stream",
     "text": [
      "\n"
     ]
    },
    {
     "name": "stdout",
     "output_type": "stream",
     "text": [
      "\n"
     ]
    },
    {
     "name": "stdout",
     "output_type": "stream",
     "text": [
      "Process 2895: Objective: pretends like it's doing something for 2.5s"
     ]
    },
    {
     "name": "stdout",
     "output_type": "stream",
     "text": [
      "\n"
     ]
    },
    {
     "name": "stdout",
     "output_type": "stream",
     "text": [
      "\n"
     ]
    },
    {
     "name": "stdout",
     "output_type": "stream",
     "text": [
      "Process 2891: Objective: pretends like it's doing something for 2.5s"
     ]
    },
    {
     "name": "stdout",
     "output_type": "stream",
     "text": [
      "\n"
     ]
    },
    {
     "name": "stdout",
     "output_type": "stream",
     "text": [
      "Process 2891: Observer : observed data (array([[0.11286268, 0.72291966]]), array([[-0.98023629]]))"
     ]
    },
    {
     "name": "stdout",
     "output_type": "stream",
     "text": [
      "\n"
     ]
    },
    {
     "name": "stdout",
     "output_type": "stream",
     "text": [
      "Process 2436: Main     : received data (array([[0.11286268, 0.72291966]]), array([[-0.98023629]]))\n"
     ]
    },
    {
     "name": "stdout",
     "output_type": "stream",
     "text": [
      "Process 2895: Observer : observed data (array([[0.        , 0.84494177]]), array([[-0.41803597]]))"
     ]
    },
    {
     "name": "stdout",
     "output_type": "stream",
     "text": [
      "\n"
     ]
    },
    {
     "name": "stdout",
     "output_type": "stream",
     "text": [
      "Process 2436: Main     : received data (array([[0.        , 0.84494177]]), array([[-0.41803597]]))\n"
     ]
    },
    {
     "name": "stdout",
     "output_type": "stream",
     "text": [
      "Process 2899: Observer : observed data (array([[0., 1.]]), array([[-0.71803081]]))"
     ]
    },
    {
     "name": "stdout",
     "output_type": "stream",
     "text": [
      "\n"
     ]
    },
    {
     "name": "stdout",
     "output_type": "stream",
     "text": [
      "Process 2436: Main     : received data (array([[0., 1.]]), array([[-0.71803081]]))\n"
     ]
    },
    {
     "name": "stdout",
     "output_type": "stream",
     "text": [
      "Process 2436: Main     : iteration 9 starts\n"
     ]
    },
    {
     "name": "stdout",
     "output_type": "stream",
     "text": [
      "Process 2891: Observer : observing data at point [[0.18578806 0.67789992]]"
     ]
    },
    {
     "name": "stdout",
     "output_type": "stream",
     "text": [
      "Process 2895: Observer : observing data at point [[0.18987915 0.65910926]]"
     ]
    },
    {
     "name": "stdout",
     "output_type": "stream",
     "text": [
      "\n"
     ]
    },
    {
     "name": "stdout",
     "output_type": "stream",
     "text": [
      "\n"
     ]
    },
    {
     "name": "stdout",
     "output_type": "stream",
     "text": [
      "Process 2899: Observer : observing data at point [[0.18328172 0.69698404]]"
     ]
    },
    {
     "name": "stdout",
     "output_type": "stream",
     "text": [
      "\n"
     ]
    },
    {
     "name": "stdout",
     "output_type": "stream",
     "text": [
      "Process 2891: Objective: pretends like it's doing something for 2.6s"
     ]
    },
    {
     "name": "stdout",
     "output_type": "stream",
     "text": [
      "Process 2895: Objective: pretends like it's doing something for 2.5s"
     ]
    },
    {
     "name": "stdout",
     "output_type": "stream",
     "text": [
      "Process 2899: Objective: pretends like it's doing something for 2.6s"
     ]
    },
    {
     "name": "stdout",
     "output_type": "stream",
     "text": [
      "\n"
     ]
    },
    {
     "name": "stdout",
     "output_type": "stream",
     "text": [
      "\n"
     ]
    },
    {
     "name": "stdout",
     "output_type": "stream",
     "text": [
      "\n"
     ]
    },
    {
     "name": "stdout",
     "output_type": "stream",
     "text": [
      "Process 2895: Observer : observed data (array([[0.18987915, 0.65910926]]), array([[-0.96365326]]))"
     ]
    },
    {
     "name": "stdout",
     "output_type": "stream",
     "text": [
      "\n"
     ]
    },
    {
     "name": "stdout",
     "output_type": "stream",
     "text": [
      "Process 2436: Main     : received data (array([[0.18987915, 0.65910926]]), array([[-0.96365326]]))\n"
     ]
    },
    {
     "name": "stdout",
     "output_type": "stream",
     "text": [
      "Process 2891: Observer : observed data (array([[0.18578806, 0.67789992]]), array([[-0.97329154]]))"
     ]
    },
    {
     "name": "stdout",
     "output_type": "stream",
     "text": [
      "\n"
     ]
    },
    {
     "name": "stdout",
     "output_type": "stream",
     "text": [
      "Process 2436: Main     : received data (array([[0.18578806, 0.67789992]]), array([[-0.97329154]]))\n"
     ]
    },
    {
     "name": "stdout",
     "output_type": "stream",
     "text": [
      "Process 2899: Observer : observed data (array([[0.18328172, 0.69698404]]), array([[-0.97786354]]))"
     ]
    },
    {
     "name": "stdout",
     "output_type": "stream",
     "text": [
      "\n"
     ]
    },
    {
     "name": "stdout",
     "output_type": "stream",
     "text": [
      "Process 2436: Main     : received data (array([[0.18328172, 0.69698404]]), array([[-0.97786354]]))\n"
     ]
    },
    {
     "name": "stdout",
     "output_type": "stream",
     "text": [
      "Got 33 observations in 44.02s\n"
     ]
    }
   ],
   "source": [
    "# setup Ask Tell BO\n",
    "model = build_model(initial_data)\n",
    "\n",
    "local_penalization_acq = LocalPenalization(search_space, num_samples=2000)\n",
    "local_penalization_rule = EfficientGlobalOptimization(  # type: ignore\n",
    "    num_query_points=num_workers, builder=local_penalization_acq\n",
    ")\n",
    "\n",
    "sync_bo = AskTellOptimizer(\n",
    "    search_space, initial_data, model, local_penalization_rule\n",
    ")\n",
    "\n",
    "\n",
    "# retrieve process id for nice logging\n",
    "pid = os.getpid()\n",
    "# create point and observation queues\n",
    "m = Manager()\n",
    "pq = m.Queue()\n",
    "oq = m.Queue()\n",
    "# keep track of all workers we have launched\n",
    "observer_processes = []\n",
    "\n",
    "start = timeit.default_timer()\n",
    "try:\n",
    "    observer_processes = create_worker_processes(num_workers, pq, oq)\n",
    "\n",
    "    # BO loop starts here\n",
    "    for i in range(num_iterations):\n",
    "        print(f\"Process {pid}: Main     : iteration {i} starts\", flush=True)\n",
    "\n",
    "        # get a batch of points from Trieste, send them to points queue\n",
    "        # each worker picks up a point and processes it\n",
    "        points = sync_bo.ask()\n",
    "        for point in points.numpy():\n",
    "            pq.put(point.reshape(1, -1))  # reshape is to make point a 2d array\n",
    "\n",
    "        # now we wait for all workers to finish\n",
    "        # we create an empty dataset and wait\n",
    "        # until we collected as many observations in it\n",
    "        # as there were points in the batch\n",
    "        all_new_data = Dataset(\n",
    "            tf.zeros((0, initial_data.query_points.shape[1]), tf.float64),\n",
    "            tf.zeros((0, initial_data.observations.shape[1]), tf.float64),\n",
    "        )\n",
    "        while len(all_new_data) < num_workers:\n",
    "            # this line blocks the process until new data is available in the queue\n",
    "            new_data = oq.get()\n",
    "            print(\n",
    "                f\"Process {pid}: Main     : received data {new_data}\",\n",
    "                flush=True,\n",
    "            )\n",
    "\n",
    "            new_data = Dataset(\n",
    "                query_points=tf.constant(new_data[0], dtype=tf.float64),\n",
    "                observations=tf.constant(new_data[1], dtype=tf.float64),\n",
    "            )\n",
    "\n",
    "            all_new_data = all_new_data + new_data\n",
    "\n",
    "        # tell Trieste of new batch of observations\n",
    "        sync_bo.tell(all_new_data)\n",
    "\n",
    "finally:\n",
    "    terminate_processes(observer_processes)\n",
    "stop = timeit.default_timer()\n",
    "\n",
    "# Collect the observations, compute the running time\n",
    "sync_lp_observations = (\n",
    "    sync_bo.to_result().try_get_final_dataset().observations\n",
    "    - SCALED_BRANIN_MINIMUM\n",
    ")\n",
    "sync_lp_time = stop - start\n",
    "print(f\"Got {len(sync_lp_observations)} observations in {sync_lp_time:.2f}s\")"
   ]
  },
  {
   "cell_type": "markdown",
   "id": "6eb84b31",
   "metadata": {},
   "source": [
    "## Comparison\n",
    "To compare outcomes of sync and async runs, let's plot their respective regrets side by side, and print out the running time. For this toy problem we expect async scenario to run a little bit faster on machines with multiple CPU."
   ]
  },
  {
   "cell_type": "code",
   "execution_count": 10,
   "id": "a64c8c5b",
   "metadata": {
    "execution": {
     "iopub.execute_input": "2021-12-29T10:12:17.617685Z",
     "iopub.status.busy": "2021-12-29T10:12:17.612340Z",
     "iopub.status.idle": "2021-12-29T10:12:19.256970Z",
     "shell.execute_reply": "2021-12-29T10:12:19.256464Z"
    }
   },
   "outputs": [
    {
     "data": {
      "image/png": "[encoded data removed]",
      "text/plain": [
       "<Figure size 432x288 with 2 Axes>"
      ]
     },
     "metadata": {
      "needs_background": "light"
     },
     "output_type": "display_data"
    }
   ],
   "source": [
    "from util.plotting import plot_regret\n",
    "import matplotlib.pyplot as plt\n",
    "\n",
    "fig, ax = plt.subplots(1, 2)\n",
    "\n",
    "sync_lp_min_idx = tf.squeeze(tf.argmin(sync_lp_observations, axis=0))\n",
    "async_lp_min_idx = tf.squeeze(tf.argmin(async_lp_observations, axis=0))\n",
    "\n",
    "plot_regret(\n",
    "    sync_lp_observations.numpy(),\n",
    "    ax[0],\n",
    "    num_init=len(initial_data),\n",
    "    idx_best=sync_lp_min_idx,\n",
    ")\n",
    "ax[0].set_yscale(\"log\")\n",
    "ax[0].set_ylabel(\"Regret\")\n",
    "ax[0].set_ylim(0.0000001, 100)\n",
    "ax[0].set_xlabel(\"# evaluations\")\n",
    "ax[0].set_title(\n",
    "    f\"Sync LP, {len(sync_lp_observations)} points, time {sync_lp_time:.2f}\"\n",
    ")\n",
    "\n",
    "plot_regret(\n",
    "    async_lp_observations.numpy(),\n",
    "    ax[1],\n",
    "    num_init=len(initial_data),\n",
    "    idx_best=async_lp_min_idx,\n",
    ")\n",
    "ax[1].set_yscale(\"log\")\n",
    "ax[1].set_ylabel(\"Regret\")\n",
    "ax[1].set_ylim(0.0000001, 100)\n",
    "ax[1].set_xlabel(\"# evaluations\")\n",
    "ax[1].set_title(\n",
    "    f\"Async LP, {len(async_lp_observations)} points, time {async_lp_time:.2f}s\"\n",
    ")\n",
    "\n",
    "fig.tight_layout()"
   ]
  }
 ],
 "metadata": {
  "jupytext": {
   "cell_metadata_filter": "-all",
   "main_language": "python",
   "notebook_metadata_filter": "-all",
   "text_representation": {
    "extension": ".py",
    "format_name": "percent"
   }
  },
  "language_info": {
   "codemirror_mode": {
    "name": "ipython",
    "version": 3
   },
   "file_extension": ".py",
   "mimetype": "text/x-python",
   "name": "python",
   "nbconvert_exporter": "python",
   "pygments_lexer": "ipython3",
   "version": "3.7.12"
  }
 },
 "nbformat": 4,
 "nbformat_minor": 5
}
