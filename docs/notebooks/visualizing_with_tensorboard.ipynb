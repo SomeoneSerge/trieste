{
 "cells": [
  {
   "cell_type": "markdown",
   "id": "53bf6eaf",
   "metadata": {},
   "source": [
    "# Tracking and visualizing optimizations using Tensorboard"
   ]
  },
  {
   "cell_type": "code",
   "execution_count": 1,
   "id": "f170ce2d",
   "metadata": {
    "execution": {
     "iopub.execute_input": "2021-12-29T10:41:58.099614Z",
     "iopub.status.busy": "2021-12-29T10:41:58.099044Z",
     "iopub.status.idle": "2021-12-29T10:41:59.828016Z",
     "shell.execute_reply": "2021-12-29T10:41:59.828448Z"
    }
   },
   "outputs": [],
   "source": [
    "import numpy as np\n",
    "import tensorflow as tf\n",
    "\n",
    "np.random.seed(1793)\n",
    "tf.random.set_seed(1793)"
   ]
  },
  {
   "cell_type": "markdown",
   "id": "5de3d267",
   "metadata": {},
   "source": [
    "We often wish to track or visualize the Bayesian optimization process, either during and following execution. This tutorial shows how to do this using the [TensorBoard](https://www.tensorflow.org/tensorboard) visualization toolkit."
   ]
  },
  {
   "cell_type": "markdown",
   "id": "d246677b",
   "metadata": {},
   "source": [
    "## Set up the problem\n",
    "\n",
    "For this tutorial, we'll use the same set up as before."
   ]
  },
  {
   "cell_type": "code",
   "execution_count": 2,
   "id": "c7bb019a",
   "metadata": {
    "execution": {
     "iopub.execute_input": "2021-12-29T10:41:59.835962Z",
     "iopub.status.busy": "2021-12-29T10:41:59.834808Z",
     "iopub.status.idle": "2021-12-29T10:42:00.333019Z",
     "shell.execute_reply": "2021-12-29T10:42:00.332048Z"
    }
   },
   "outputs": [],
   "source": [
    "import trieste\n",
    "import gpflow\n",
    "\n",
    "search_space = trieste.space.Box([0, 0], [1, 1])\n",
    "observer = trieste.objectives.utils.mk_observer(\n",
    "    trieste.objectives.scaled_branin\n",
    ")\n",
    "initial_query_points = search_space.sample_sobol(5)\n",
    "initial_data = observer(initial_query_points)\n",
    "\n",
    "variance = tf.math.reduce_variance(initial_data.observations)\n",
    "kernel = gpflow.kernels.Matern52(variance=variance, lengthscales=[0.2, 0.2])\n",
    "gpr = gpflow.models.GPR(initial_data.astuple(), kernel, noise_variance=1e-5)\n",
    "gpflow.set_trainable(gpr.likelihood, False)\n",
    "model = trieste.models.gpflow.GaussianProcessRegression(gpr)"
   ]
  },
  {
   "cell_type": "markdown",
   "id": "8f79414a",
   "metadata": {},
   "source": [
    "## Setting up TensorBoard\n",
    "\n",
    "Before running the optimization loop, we decide where TensorBoard summary logs should be stored, and set a summary writer to do this."
   ]
  },
  {
   "cell_type": "code",
   "execution_count": 3,
   "id": "dd60c44d",
   "metadata": {
    "execution": {
     "iopub.execute_input": "2021-12-29T10:42:00.336225Z",
     "iopub.status.busy": "2021-12-29T10:42:00.335697Z",
     "iopub.status.idle": "2021-12-29T10:42:00.494415Z",
     "shell.execute_reply": "2021-12-29T10:42:00.493852Z"
    }
   },
   "outputs": [],
   "source": [
    "# Clear any logs from previous runs\n",
    "!rm -rf logs/tensorboard\n",
    "\n",
    "summary_writer = tf.summary.create_file_writer(\"logs/tensorboard/experiment1\")\n",
    "trieste.logging.set_tensorboard_writer(summary_writer)"
   ]
  },
  {
   "cell_type": "markdown",
   "id": "af7c434c",
   "metadata": {},
   "source": [
    "We can now also load the TensorBoard extension, though at this point there will not be any data to dispay."
   ]
  },
  {
   "cell_type": "code",
   "execution_count": 4,
   "id": "7215683d",
   "metadata": {
    "execution": {
     "iopub.execute_input": "2021-12-29T10:42:00.505284Z",
     "iopub.status.busy": "2021-12-29T10:42:00.499449Z",
     "iopub.status.idle": "2021-12-29T10:42:00.515239Z",
     "shell.execute_reply": "2021-12-29T10:42:00.515621Z"
    }
   },
   "outputs": [
    {
     "name": "stdout",
     "output_type": "stream",
     "text": [
      "Loading TensorBoard...\n"
     ]
    }
   ],
   "source": [
    "%%script echo Loading TensorBoard...\n",
    "\n",
    "%load_ext tensorboard\n",
    "%tensorboard --logdir \"logs/tensorboard\""
   ]
  },
  {
   "cell_type": "markdown",
   "id": "9c7bb1b9",
   "metadata": {},
   "source": [
    "![TensorBoard empty page](figures/tensorboard_empty.png)"
   ]
  },
  {
   "cell_type": "markdown",
   "id": "df763c98",
   "metadata": {},
   "source": [
    "## Running and tracking the Bayesian Optimizer\n",
    "\n",
    "By setting the summary writer, we tell Trieste to log relevant information during optimization. While the optimization is running, we can refresh TensorBoard to see its progress."
   ]
  },
  {
   "cell_type": "code",
   "execution_count": 5,
   "id": "af801c7e",
   "metadata": {
    "execution": {
     "iopub.execute_input": "2021-12-29T10:42:00.522907Z",
     "iopub.status.busy": "2021-12-29T10:42:00.521635Z",
     "iopub.status.idle": "2021-12-29T10:42:12.634197Z",
     "shell.execute_reply": "2021-12-29T10:42:12.631561Z"
    }
   },
   "outputs": [
    {
     "name": "stdout",
     "output_type": "stream",
     "text": [
      "Optimization completed without errors\n"
     ]
    }
   ],
   "source": [
    "num_steps = 15\n",
    "bo = trieste.bayesian_optimizer.BayesianOptimizer(observer, search_space)\n",
    "result, history = bo.optimize(num_steps, initial_data, model).astuple()"
   ]
  },
  {
   "cell_type": "markdown",
   "id": "53af2418",
   "metadata": {},
   "source": [
    "The data remains available when the optimization is over.\n",
    "\n",
    "![TensorBoard graphs](figures/tensorboard_bo.png)"
   ]
  },
  {
   "cell_type": "markdown",
   "id": "de0dd92f",
   "metadata": {},
   "source": [
    "## Logging additional model parameters\n",
    "\n",
    "When logging is enabled, Trieste decides what information is interesting enough to log. This includes objective and acquisition function values, and some (but not all) model parameters. To log additional model parameters, you can define your own model subclass and override the `log` method. For example, the following GPR subclass also logs the average lengthscale at each step."
   ]
  },
  {
   "cell_type": "code",
   "execution_count": 6,
   "id": "e721c492",
   "metadata": {
    "execution": {
     "iopub.execute_input": "2021-12-29T10:42:12.641770Z",
     "iopub.status.busy": "2021-12-29T10:42:12.640568Z",
     "iopub.status.idle": "2021-12-29T10:42:12.642343Z",
     "shell.execute_reply": "2021-12-29T10:42:12.642760Z"
    }
   },
   "outputs": [],
   "source": [
    "class GPRExtraLogging(trieste.models.gpflow.GaussianProcessRegression):\n",
    "    def log(self):\n",
    "        super().log()\n",
    "        summary_writer = trieste.logging.get_tensorboard_writer()\n",
    "        if summary_writer:\n",
    "            with summary_writer.as_default(\n",
    "                step=trieste.logging.get_step_number()\n",
    "            ):\n",
    "                tf.summary.scalar(\n",
    "                    \"kernel.lengthscales.mean\",\n",
    "                    np.mean(self.get_kernel().lengthscales),\n",
    "                )\n",
    "\n",
    "\n",
    "model = GPRExtraLogging(gpr)"
   ]
  },
  {
   "cell_type": "markdown",
   "id": "febbc232",
   "metadata": {},
   "source": [
    "Running with this model now also produces logs for the mean lengthscale. We mark this optimization run as a separate experiment by creating a new summary writer. Tensorboard will conveniently offer an automatic comparison of the experiments."
   ]
  },
  {
   "cell_type": "code",
   "execution_count": 7,
   "id": "23219e75",
   "metadata": {
    "execution": {
     "iopub.execute_input": "2021-12-29T10:42:12.646985Z",
     "iopub.status.busy": "2021-12-29T10:42:12.644957Z",
     "iopub.status.idle": "2021-12-29T10:42:22.612156Z",
     "shell.execute_reply": "2021-12-29T10:42:22.611196Z"
    },
    "lines_to_next_cell": 1
   },
   "outputs": [
    {
     "name": "stdout",
     "output_type": "stream",
     "text": [
      "Optimization completed without errors\n"
     ]
    }
   ],
   "source": [
    "summary_writer = tf.summary.create_file_writer(\"logs/tensorboard/experiment2\")\n",
    "trieste.logging.set_tensorboard_writer(summary_writer)\n",
    "\n",
    "bo = trieste.bayesian_optimizer.BayesianOptimizer(observer, search_space)\n",
    "result, history = bo.optimize(num_steps, initial_data, model).astuple()"
   ]
  },
  {
   "cell_type": "markdown",
   "id": "5d0fece6",
   "metadata": {},
   "source": [
    "![TensorBoard custom graphs](figures/tensorboard_custom.png)"
   ]
  },
  {
   "cell_type": "markdown",
   "id": "0b78049d",
   "metadata": {},
   "source": [
    "## Logging additional acqusition rule metrics\n",
    "\n",
    "\n",
    "Similarly, it is possible to log additional metrics connected to the acquisition rule by overriding rule's `acquire` method (or any other method used while evaluating the rule). For example, the following class also logs the mean coordinates of the selected points:"
   ]
  },
  {
   "cell_type": "code",
   "execution_count": 8,
   "id": "8dd2edbb",
   "metadata": {
    "execution": {
     "iopub.execute_input": "2021-12-29T10:42:22.619369Z",
     "iopub.status.busy": "2021-12-29T10:42:22.618844Z",
     "iopub.status.idle": "2021-12-29T10:42:32.177320Z",
     "shell.execute_reply": "2021-12-29T10:42:32.176828Z"
    }
   },
   "outputs": [
    {
     "name": "stdout",
     "output_type": "stream",
     "text": [
      "Optimization completed without errors\n"
     ]
    }
   ],
   "source": [
    "class EGOExtraLogging(trieste.acquisition.rule.EfficientGlobalOptimization):\n",
    "    def acquire(self, search_space, models, datasets=None):\n",
    "        points = super().acquire(search_space, models, datasets)\n",
    "        summary_writer = trieste.logging.get_tensorboard_writer()\n",
    "        if summary_writer:\n",
    "            with summary_writer.as_default(\n",
    "                step=trieste.logging.get_step_number()\n",
    "            ):\n",
    "                tf.summary.scalar(\n",
    "                    \"EGO.points_selected.mean\", tf.math.reduce_mean(points)\n",
    "                )\n",
    "        return points\n",
    "\n",
    "\n",
    "summary_writer = tf.summary.create_file_writer(\"logs/tensorboard/experiment3\")\n",
    "trieste.logging.set_tensorboard_writer(summary_writer)\n",
    "\n",
    "bo = trieste.bayesian_optimizer.BayesianOptimizer(observer, search_space)\n",
    "result, history = bo.optimize(  # type: ignore\n",
    "    num_steps, initial_data, model, acquisition_rule=EGOExtraLogging()\n",
    ").astuple()"
   ]
  },
  {
   "cell_type": "markdown",
   "id": "e4d90ac4",
   "metadata": {},
   "source": [
    "![TensorBoard custom rule graphs](figures/tensorboard_custom_rule.png)"
   ]
  },
  {
   "cell_type": "markdown",
   "id": "e18a26e7",
   "metadata": {},
   "source": [
    "## Using Tensorboard with Ask-Tell Optimization\n",
    "\n",
    "To use Tensorboard logging with the [Ask-Tell interface](ask_tell_optimization.ipynb), you must also explicitly set the optimization step number before calling ask or tell:"
   ]
  },
  {
   "cell_type": "code",
   "execution_count": 9,
   "id": "9687f8a6",
   "metadata": {
    "execution": {
     "iopub.execute_input": "2021-12-29T10:42:32.182944Z",
     "iopub.status.busy": "2021-12-29T10:42:32.182390Z",
     "iopub.status.idle": "2021-12-29T10:42:41.885085Z",
     "shell.execute_reply": "2021-12-29T10:42:41.884596Z"
    }
   },
   "outputs": [],
   "source": [
    "summary_writer = tf.summary.create_file_writer(\"logs/tensorboard/experiment4\")\n",
    "trieste.logging.set_tensorboard_writer(summary_writer)\n",
    "\n",
    "ask_tell = trieste.ask_tell_optimization.AskTellOptimizer(\n",
    "    search_space, initial_data, model\n",
    ")\n",
    "\n",
    "for step in range(num_steps):\n",
    "    trieste.logging.set_step_number(step)\n",
    "    new_point = ask_tell.ask()\n",
    "    new_data = observer(new_point)\n",
    "    ask_tell.tell(new_data)"
   ]
  },
  {
   "cell_type": "markdown",
   "id": "1e3f6689",
   "metadata": {},
   "source": [
    "## LICENSE\n",
    "\n",
    "[Apache License 2.0](https://github.com/secondmind-labs/trieste/blob/develop/LICENSE)"
   ]
  }
 ],
 "metadata": {
  "jupytext": {
   "cell_metadata_filter": "-all",
   "main_language": "python",
   "notebook_metadata_filter": "-all",
   "text_representation": {
    "extension": ".py",
    "format_name": "percent"
   }
  },
  "language_info": {
   "codemirror_mode": {
    "name": "ipython",
    "version": 3
   },
   "file_extension": ".py",
   "mimetype": "text/x-python",
   "name": "python",
   "nbconvert_exporter": "python",
   "pygments_lexer": "ipython3",
   "version": "3.7.12"
  }
 },
 "nbformat": 4,
 "nbformat_minor": 5
}
